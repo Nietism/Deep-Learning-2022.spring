{
 "cells": [
  {
   "cell_type": "markdown",
   "id": "f10b5d08-aefc-4dc0-aeb2-8ba391e38825",
   "metadata": {},
   "source": [
    "## DenseNet"
   ]
  },
  {
   "cell_type": "code",
   "execution_count": 1,
   "id": "e1a61fb8-c4f6-49d8-a543-cce31839861e",
   "metadata": {
    "execution": {
     "iopub.execute_input": "2022-03-19T12:25:49.790614Z",
     "iopub.status.busy": "2022-03-19T12:25:49.790290Z",
     "iopub.status.idle": "2022-03-19T12:25:50.051870Z",
     "shell.execute_reply": "2022-03-19T12:25:50.051167Z",
     "shell.execute_reply.started": "2022-03-19T12:25:49.790578Z"
    },
    "scrolled": true
   },
   "outputs": [
    {
     "name": "stdout",
     "output_type": "stream",
     "text": [
      "Sat Mar 19 20:25:49 2022       \n",
      "+-----------------------------------------------------------------------------+\n",
      "| NVIDIA-SMI 418.67       Driver Version: 418.67       CUDA Version: 10.1     |\n",
      "|-------------------------------+----------------------+----------------------+\n",
      "| GPU  Name        Persistence-M| Bus-Id        Disp.A | Volatile Uncorr. ECC |\n",
      "| Fan  Temp  Perf  Pwr:Usage/Cap|         Memory-Usage | GPU-Util  Compute M. |\n",
      "|===============================+======================+======================|\n",
      "|   0  Tesla V100-SXM2...  On   | 00000000:00:0B.0 Off |                    0 |\n",
      "| N/A   35C    P0    43W / 300W |      0MiB / 32480MiB |      0%      Default |\n",
      "+-------------------------------+----------------------+----------------------+\n",
      "                                                                               \n",
      "+-----------------------------------------------------------------------------+\n",
      "| Processes:                                                       GPU Memory |\n",
      "|  GPU       PID   Type   Process name                             Usage      |\n",
      "|=============================================================================|\n",
      "|  No running processes found                                                 |\n",
      "+-----------------------------------------------------------------------------+\n"
     ]
    }
   ],
   "source": [
    "!nvidia-smi"
   ]
  },
  {
   "cell_type": "code",
   "execution_count": 2,
   "id": "e40c0661-e6e8-4205-9934-c5b91c12e9c8",
   "metadata": {
    "execution": {
     "iopub.execute_input": "2022-03-19T12:25:50.053901Z",
     "iopub.status.busy": "2022-03-19T12:25:50.053610Z",
     "iopub.status.idle": "2022-03-19T12:25:51.517658Z",
     "shell.execute_reply": "2022-03-19T12:25:51.516741Z",
     "shell.execute_reply.started": "2022-03-19T12:25:50.053869Z"
    },
    "scrolled": true
   },
   "outputs": [
    {
     "data": {
      "text/plain": [
       "('2.2.2', 'gpu:0')"
      ]
     },
     "execution_count": 2,
     "metadata": {},
     "output_type": "execute_result"
    }
   ],
   "source": [
    "import paddle\r\n",
    "import numpy as np\r\n",
    "\r\n",
    "paddle.__version__, paddle.device.get_device()"
   ]
  },
  {
   "cell_type": "markdown",
   "id": "0b3a18c8-d2be-44bc-87c9-010e4b8d694c",
   "metadata": {},
   "source": [
    "### Data loading"
   ]
  },
  {
   "cell_type": "code",
   "execution_count": 3,
   "id": "81725b7f-4cb1-4428-8860-728569b1407a",
   "metadata": {
    "execution": {
     "iopub.execute_input": "2022-03-19T12:25:51.519490Z",
     "iopub.status.busy": "2022-03-19T12:25:51.519064Z",
     "iopub.status.idle": "2022-03-19T12:25:56.107889Z",
     "shell.execute_reply": "2022-03-19T12:25:56.106852Z",
     "shell.execute_reply.started": "2022-03-19T12:25:51.519452Z"
    },
    "scrolled": true
   },
   "outputs": [],
   "source": [
    "import paddle.vision.transforms as T\r\n",
    "from paddle.vision.datasets import FashionMNIST\r\n",
    "\r\n",
    "# loading and normalization\r\n",
    "# resize the shape to 96x96\r\n",
    "transform = [T.Resize(size=96), T.Normalize(mean=[127.5], std=[127.5])]\r\n",
    "transform = T.Compose(transform)\r\n",
    "\r\n",
    "# constructing traning set and test set\r\n",
    "fashionmnist_train = FashionMNIST(mode='train', transform=transform)\r\n",
    "fashionmnist_test = FashionMNIST(mode='test', transform=transform)"
   ]
  },
  {
   "cell_type": "code",
   "execution_count": 4,
   "id": "cc0d4635-584c-4c43-b824-4fd27b897b24",
   "metadata": {
    "execution": {
     "iopub.execute_input": "2022-03-19T12:25:56.109937Z",
     "iopub.status.busy": "2022-03-19T12:25:56.109349Z",
     "iopub.status.idle": "2022-03-19T12:25:56.116044Z",
     "shell.execute_reply": "2022-03-19T12:25:56.115309Z",
     "shell.execute_reply.started": "2022-03-19T12:25:56.109902Z"
    },
    "scrolled": true
   },
   "outputs": [
    {
     "data": {
      "text/plain": [
       "(60000, 10000)"
      ]
     },
     "execution_count": 4,
     "metadata": {},
     "output_type": "execute_result"
    }
   ],
   "source": [
    "# nums of train set and test set\r\n",
    "len(fashionmnist_train), len(fashionmnist_test)"
   ]
  },
  {
   "cell_type": "code",
   "execution_count": 5,
   "id": "592e81ed-5c9c-4072-8f8e-2d5711b5512a",
   "metadata": {
    "execution": {
     "iopub.execute_input": "2022-03-19T12:25:56.117319Z",
     "iopub.status.busy": "2022-03-19T12:25:56.117056Z",
     "iopub.status.idle": "2022-03-19T12:25:56.125634Z",
     "shell.execute_reply": "2022-03-19T12:25:56.124960Z",
     "shell.execute_reply.started": "2022-03-19T12:25:56.117293Z"
    },
    "scrolled": true
   },
   "outputs": [
    {
     "data": {
      "text/plain": [
       "((1, 96, 96), (1, 96, 96))"
      ]
     },
     "execution_count": 5,
     "metadata": {},
     "output_type": "execute_result"
    }
   ],
   "source": [
    "# As for one sample, channel = 1, height, weight = 96\r\n",
    "# for adapting to the input shape of densenet\r\n",
    "fashionmnist_train[0][0].shape, fashionmnist_test[0][0].shape"
   ]
  },
  {
   "cell_type": "code",
   "execution_count": 6,
   "id": "903387c6-f081-4f08-a5d1-0b664eb40ae7",
   "metadata": {
    "execution": {
     "iopub.execute_input": "2022-03-19T12:25:56.127059Z",
     "iopub.status.busy": "2022-03-19T12:25:56.126653Z",
     "iopub.status.idle": "2022-03-19T12:25:56.134105Z",
     "shell.execute_reply": "2022-03-19T12:25:56.132551Z",
     "shell.execute_reply.started": "2022-03-19T12:25:56.127034Z"
    },
    "scrolled": true
   },
   "outputs": [],
   "source": [
    "train_loader = paddle.io.DataLoader(fashionmnist_train, batch_size=256, shuffle=True)\r\n",
    "test_loader = paddle.io.DataLoader(fashionmnist_test, batch_size=64, shuffle=False)"
   ]
  },
  {
   "cell_type": "markdown",
   "id": "8465f675-9d93-41ba-90ae-c17d6ea1c197",
   "metadata": {},
   "source": [
    "## Model"
   ]
  },
  {
   "cell_type": "markdown",
   "id": "f66a8355-c020-498a-840c-a9732dae2c4e",
   "metadata": {},
   "source": [
    "#### Dense blocks and transition layers"
   ]
  },
  {
   "cell_type": "code",
   "execution_count": 17,
   "id": "f54cde9d-60b6-4539-8b24-39b38e02b3af",
   "metadata": {
    "execution": {
     "iopub.execute_input": "2022-03-19T12:32:36.201523Z",
     "iopub.status.busy": "2022-03-19T12:32:36.200461Z",
     "iopub.status.idle": "2022-03-19T12:32:36.207192Z",
     "shell.execute_reply": "2022-03-19T12:32:36.206559Z",
     "shell.execute_reply.started": "2022-03-19T12:32:36.201461Z"
    },
    "scrolled": true
   },
   "outputs": [],
   "source": [
    "from paddle import nn\r\n",
    "from paddle.nn import functional as F\r\n",
    "\r\n",
    "# DenseNet uses the modified “batch normalization, activation, and convolution” structure of ResNet\r\n",
    "# here is an implementation of this convolution block structure\r\n",
    " \r\n",
    "def conv_block(input_channels, num_channels):\r\n",
    "    return nn.Sequential(\r\n",
    "        nn.BatchNorm2D(input_channels), nn.ReLU(),\r\n",
    "        nn.Conv2D(input_channels, num_channels, kernel_size=3, padding=1))"
   ]
  },
  {
   "cell_type": "code",
   "execution_count": 18,
   "id": "91a636b8-0174-432f-ba95-d795d997d157",
   "metadata": {
    "execution": {
     "iopub.execute_input": "2022-03-19T12:32:36.721762Z",
     "iopub.status.busy": "2022-03-19T12:32:36.721244Z",
     "iopub.status.idle": "2022-03-19T12:32:36.727912Z",
     "shell.execute_reply": "2022-03-19T12:32:36.727249Z",
     "shell.execute_reply.started": "2022-03-19T12:32:36.721723Z"
    },
    "scrolled": true
   },
   "outputs": [],
   "source": [
    "class DenseBlock(nn.Layer):\r\n",
    "    def __init__(self, num_convs, input_channels, num_channels):\r\n",
    "        super(DenseBlock, self).__init__()\r\n",
    "        layer = []\r\n",
    "        for i in range(num_convs):\r\n",
    "            layer.append(conv_block(num_channels * i + input_channels, num_channels))\r\n",
    "        self.net = nn.Sequential(*layer)\r\n",
    "        # self.cnt = 0\r\n",
    "\r\n",
    "    def forward(self, X):\r\n",
    "        for blk in self.net:\r\n",
    "            # print(blk)\r\n",
    "            # print(self.cnt)\r\n",
    "            # self.cnt += 1\r\n",
    "            Y = blk(X)\r\n",
    "            # print(X.shape, Y.shape)\r\n",
    "            # Concatenate the input and output of each block on the channel dimension\r\n",
    "            X = paddle.concat((X, Y), axis=1)\r\n",
    "        return X"
   ]
  },
  {
   "cell_type": "code",
   "execution_count": 19,
   "id": "6df32e6d-2994-4f01-803b-fccbf079ca32",
   "metadata": {
    "execution": {
     "iopub.execute_input": "2022-03-19T12:32:37.708442Z",
     "iopub.status.busy": "2022-03-19T12:32:37.707910Z",
     "iopub.status.idle": "2022-03-19T12:32:37.722143Z",
     "shell.execute_reply": "2022-03-19T12:32:37.721473Z",
     "shell.execute_reply.started": "2022-03-19T12:32:37.708399Z"
    },
    "scrolled": true
   },
   "outputs": [
    {
     "data": {
      "text/plain": [
       "[4, 23, 8, 8]"
      ]
     },
     "execution_count": 19,
     "metadata": {},
     "output_type": "execute_result"
    }
   ],
   "source": [
    "blk = DenseBlock(2, 3, 10)\r\n",
    "X = paddle.rand([4, 3, 8, 8])\r\n",
    "Y = blk(X)\r\n",
    "Y.shape"
   ]
  },
  {
   "cell_type": "code",
   "execution_count": 20,
   "id": "f47b3232-109e-414d-a033-1d9940e304c7",
   "metadata": {
    "execution": {
     "iopub.execute_input": "2022-03-19T12:32:39.005517Z",
     "iopub.status.busy": "2022-03-19T12:32:39.004929Z",
     "iopub.status.idle": "2022-03-19T12:32:39.010140Z",
     "shell.execute_reply": "2022-03-19T12:32:39.009413Z",
     "shell.execute_reply.started": "2022-03-19T12:32:39.005468Z"
    },
    "scrolled": true
   },
   "outputs": [],
   "source": [
    "def transition_block(input_channels, num_channels):\r\n",
    "    return nn.Sequential(\r\n",
    "        nn.BatchNorm2D(input_channels), nn.ReLU(),\r\n",
    "        nn.Conv2D(input_channels, num_channels, kernel_size=1),\r\n",
    "        nn.AvgPool2D(kernel_size=2, stride=2))"
   ]
  },
  {
   "cell_type": "code",
   "execution_count": 21,
   "id": "aaeb73d9-e9d2-461a-b450-cb2d6806a686",
   "metadata": {
    "execution": {
     "iopub.execute_input": "2022-03-19T12:32:39.402608Z",
     "iopub.status.busy": "2022-03-19T12:32:39.401929Z",
     "iopub.status.idle": "2022-03-19T12:32:39.413739Z",
     "shell.execute_reply": "2022-03-19T12:32:39.413109Z",
     "shell.execute_reply.started": "2022-03-19T12:32:39.402534Z"
    },
    "scrolled": true
   },
   "outputs": [
    {
     "data": {
      "text/plain": [
       "[4, 10, 4, 4]"
      ]
     },
     "execution_count": 21,
     "metadata": {},
     "output_type": "execute_result"
    }
   ],
   "source": [
    "Y = paddle.rand([4, 23, 8, 8])\r\n",
    "blk = transition_block(23, 10)\r\n",
    "blk(Y).shape"
   ]
  },
  {
   "cell_type": "markdown",
   "id": "20ba9072-d21b-4b7b-828e-1c020c81c3b2",
   "metadata": {},
   "source": [
    "#### DenseNet Model"
   ]
  },
  {
   "cell_type": "code",
   "execution_count": 22,
   "id": "bfa25077-b0ce-433f-8ee7-e2c338f38766",
   "metadata": {
    "execution": {
     "iopub.execute_input": "2022-03-19T12:34:09.901970Z",
     "iopub.status.busy": "2022-03-19T12:34:09.901362Z",
     "iopub.status.idle": "2022-03-19T12:34:09.912123Z",
     "shell.execute_reply": "2022-03-19T12:34:09.910105Z",
     "shell.execute_reply.started": "2022-03-19T12:34:09.901920Z"
    },
    "scrolled": true
   },
   "outputs": [],
   "source": [
    "b1 = nn.Sequential(\r\n",
    "    nn.Conv2D(1, 64, kernel_size=7, stride=2, padding=3),\r\n",
    "    nn.BatchNorm2D(64), nn.ReLU(),\r\n",
    "    nn.MaxPool2D(kernel_size=3, stride=2, padding=1))"
   ]
  },
  {
   "cell_type": "code",
   "execution_count": 23,
   "id": "91792e3a-47ff-41e1-9c9f-1769f07c39cd",
   "metadata": {
    "execution": {
     "iopub.execute_input": "2022-03-19T12:34:20.489154Z",
     "iopub.status.busy": "2022-03-19T12:34:20.488639Z",
     "iopub.status.idle": "2022-03-19T12:34:20.539417Z",
     "shell.execute_reply": "2022-03-19T12:34:20.538763Z",
     "shell.execute_reply.started": "2022-03-19T12:34:20.489118Z"
    },
    "scrolled": true
   },
   "outputs": [],
   "source": [
    "# `num_channels`: the current number of channels\r\n",
    "num_channels, growth_rate = 64, 32\r\n",
    "num_convs_in_dense_blocks = [4, 4, 4, 4]\r\n",
    "blks = []\r\n",
    "for i, num_convs in enumerate(num_convs_in_dense_blocks):\r\n",
    "    blks.append(DenseBlock(num_convs, num_channels, growth_rate))\r\n",
    "    # This is the number of output channels in the previous dense block\r\n",
    "    num_channels += num_convs * growth_rate\r\n",
    "    # A transition layer that halves the number of channels is added between\r\n",
    "    # the dense blocks\r\n",
    "    if i != len(num_convs_in_dense_blocks) - 1:\r\n",
    "        blks.append(transition_block(num_channels, num_channels // 2))\r\n",
    "        num_channels = num_channels // 2"
   ]
  },
  {
   "cell_type": "code",
   "execution_count": 24,
   "id": "d27e69a0-fa5e-4141-b717-2dcb7dafbefc",
   "metadata": {
    "execution": {
     "iopub.execute_input": "2022-03-19T12:34:35.081996Z",
     "iopub.status.busy": "2022-03-19T12:34:35.081517Z",
     "iopub.status.idle": "2022-03-19T12:34:35.089326Z",
     "shell.execute_reply": "2022-03-19T12:34:35.088712Z",
     "shell.execute_reply.started": "2022-03-19T12:34:35.081958Z"
    },
    "scrolled": true
   },
   "outputs": [],
   "source": [
    "densenet = nn.Sequential(\r\n",
    "    b1, *blks,\r\n",
    "    nn.BatchNorm2D(num_channels), nn.ReLU(),\r\n",
    "    nn.AdaptiveAvgPool2D((1, 1)),\r\n",
    "    nn.Flatten(),\r\n",
    "    nn.Linear(num_channels, 10))"
   ]
  },
  {
   "cell_type": "code",
   "execution_count": 26,
   "id": "ead861f9-f51e-4383-aea7-de1fdb5f7f8b",
   "metadata": {
    "execution": {
     "iopub.execute_input": "2022-03-19T12:35:00.520868Z",
     "iopub.status.busy": "2022-03-19T12:35:00.519681Z",
     "iopub.status.idle": "2022-03-19T12:35:00.554382Z",
     "shell.execute_reply": "2022-03-19T12:35:00.553237Z",
     "shell.execute_reply.started": "2022-03-19T12:35:00.520813Z"
    },
    "scrolled": true
   },
   "outputs": [
    {
     "name": "stdout",
     "output_type": "stream",
     "text": [
      "-------------------------------------------------------------------------------\n",
      "   Layer (type)         Input Shape          Output Shape         Param #    \n",
      "===============================================================================\n",
      "     Conv2D-14        [[1, 1, 96, 96]]     [1, 64, 48, 48]         3,200     \n",
      "  BatchNorm2D-14     [[1, 64, 48, 48]]     [1, 64, 48, 48]          256      \n",
      "      ReLU-14        [[1, 64, 48, 48]]     [1, 64, 48, 48]           0       \n",
      "    MaxPool2D-1      [[1, 64, 48, 48]]     [1, 64, 24, 24]           0       \n",
      "  BatchNorm2D-15     [[1, 64, 24, 24]]     [1, 64, 24, 24]          256      \n",
      "      ReLU-15        [[1, 64, 24, 24]]     [1, 64, 24, 24]           0       \n",
      "     Conv2D-15       [[1, 64, 24, 24]]     [1, 32, 24, 24]        18,464     \n",
      "  BatchNorm2D-16     [[1, 96, 24, 24]]     [1, 96, 24, 24]          384      \n",
      "      ReLU-16        [[1, 96, 24, 24]]     [1, 96, 24, 24]           0       \n",
      "     Conv2D-16       [[1, 96, 24, 24]]     [1, 32, 24, 24]        27,680     \n",
      "  BatchNorm2D-17     [[1, 128, 24, 24]]    [1, 128, 24, 24]         512      \n",
      "      ReLU-17        [[1, 128, 24, 24]]    [1, 128, 24, 24]          0       \n",
      "     Conv2D-17       [[1, 128, 24, 24]]    [1, 32, 24, 24]        36,896     \n",
      "  BatchNorm2D-18     [[1, 160, 24, 24]]    [1, 160, 24, 24]         640      \n",
      "      ReLU-18        [[1, 160, 24, 24]]    [1, 160, 24, 24]          0       \n",
      "     Conv2D-18       [[1, 160, 24, 24]]    [1, 32, 24, 24]        46,112     \n",
      "   DenseBlock-7      [[1, 64, 24, 24]]     [1, 192, 24, 24]          0       \n",
      "  BatchNorm2D-19     [[1, 192, 24, 24]]    [1, 192, 24, 24]         768      \n",
      "      ReLU-19        [[1, 192, 24, 24]]    [1, 192, 24, 24]          0       \n",
      "     Conv2D-19       [[1, 192, 24, 24]]    [1, 96, 24, 24]        18,528     \n",
      "    AvgPool2D-2      [[1, 96, 24, 24]]     [1, 96, 12, 12]           0       \n",
      "  BatchNorm2D-20     [[1, 96, 12, 12]]     [1, 96, 12, 12]          384      \n",
      "      ReLU-20        [[1, 96, 12, 12]]     [1, 96, 12, 12]           0       \n",
      "     Conv2D-20       [[1, 96, 12, 12]]     [1, 32, 12, 12]        27,680     \n",
      "  BatchNorm2D-21     [[1, 128, 12, 12]]    [1, 128, 12, 12]         512      \n",
      "      ReLU-21        [[1, 128, 12, 12]]    [1, 128, 12, 12]          0       \n",
      "     Conv2D-21       [[1, 128, 12, 12]]    [1, 32, 12, 12]        36,896     \n",
      "  BatchNorm2D-22     [[1, 160, 12, 12]]    [1, 160, 12, 12]         640      \n",
      "      ReLU-22        [[1, 160, 12, 12]]    [1, 160, 12, 12]          0       \n",
      "     Conv2D-22       [[1, 160, 12, 12]]    [1, 32, 12, 12]        46,112     \n",
      "  BatchNorm2D-23     [[1, 192, 12, 12]]    [1, 192, 12, 12]         768      \n",
      "      ReLU-23        [[1, 192, 12, 12]]    [1, 192, 12, 12]          0       \n",
      "     Conv2D-23       [[1, 192, 12, 12]]    [1, 32, 12, 12]        55,328     \n",
      "   DenseBlock-8      [[1, 96, 12, 12]]     [1, 224, 12, 12]          0       \n",
      "  BatchNorm2D-24     [[1, 224, 12, 12]]    [1, 224, 12, 12]         896      \n",
      "      ReLU-24        [[1, 224, 12, 12]]    [1, 224, 12, 12]          0       \n",
      "     Conv2D-24       [[1, 224, 12, 12]]    [1, 112, 12, 12]       25,200     \n",
      "    AvgPool2D-3      [[1, 112, 12, 12]]     [1, 112, 6, 6]           0       \n",
      "  BatchNorm2D-25      [[1, 112, 6, 6]]      [1, 112, 6, 6]          448      \n",
      "      ReLU-25         [[1, 112, 6, 6]]      [1, 112, 6, 6]           0       \n",
      "     Conv2D-25        [[1, 112, 6, 6]]      [1, 32, 6, 6]         32,288     \n",
      "  BatchNorm2D-26      [[1, 144, 6, 6]]      [1, 144, 6, 6]          576      \n",
      "      ReLU-26         [[1, 144, 6, 6]]      [1, 144, 6, 6]           0       \n",
      "     Conv2D-26        [[1, 144, 6, 6]]      [1, 32, 6, 6]         41,504     \n",
      "  BatchNorm2D-27      [[1, 176, 6, 6]]      [1, 176, 6, 6]          704      \n",
      "      ReLU-27         [[1, 176, 6, 6]]      [1, 176, 6, 6]           0       \n",
      "     Conv2D-27        [[1, 176, 6, 6]]      [1, 32, 6, 6]         50,720     \n",
      "  BatchNorm2D-28      [[1, 208, 6, 6]]      [1, 208, 6, 6]          832      \n",
      "      ReLU-28         [[1, 208, 6, 6]]      [1, 208, 6, 6]           0       \n",
      "     Conv2D-28        [[1, 208, 6, 6]]      [1, 32, 6, 6]         59,936     \n",
      "   DenseBlock-9       [[1, 112, 6, 6]]      [1, 240, 6, 6]           0       \n",
      "  BatchNorm2D-29      [[1, 240, 6, 6]]      [1, 240, 6, 6]          960      \n",
      "      ReLU-29         [[1, 240, 6, 6]]      [1, 240, 6, 6]           0       \n",
      "     Conv2D-29        [[1, 240, 6, 6]]      [1, 120, 6, 6]        28,920     \n",
      "    AvgPool2D-4       [[1, 120, 6, 6]]      [1, 120, 3, 3]           0       \n",
      "  BatchNorm2D-30      [[1, 120, 3, 3]]      [1, 120, 3, 3]          480      \n",
      "      ReLU-30         [[1, 120, 3, 3]]      [1, 120, 3, 3]           0       \n",
      "     Conv2D-30        [[1, 120, 3, 3]]      [1, 32, 3, 3]         34,592     \n",
      "  BatchNorm2D-31      [[1, 152, 3, 3]]      [1, 152, 3, 3]          608      \n",
      "      ReLU-31         [[1, 152, 3, 3]]      [1, 152, 3, 3]           0       \n",
      "     Conv2D-31        [[1, 152, 3, 3]]      [1, 32, 3, 3]         43,808     \n",
      "  BatchNorm2D-32      [[1, 184, 3, 3]]      [1, 184, 3, 3]          736      \n",
      "      ReLU-32         [[1, 184, 3, 3]]      [1, 184, 3, 3]           0       \n",
      "     Conv2D-32        [[1, 184, 3, 3]]      [1, 32, 3, 3]         53,024     \n",
      "  BatchNorm2D-33      [[1, 216, 3, 3]]      [1, 216, 3, 3]          864      \n",
      "      ReLU-33         [[1, 216, 3, 3]]      [1, 216, 3, 3]           0       \n",
      "     Conv2D-33        [[1, 216, 3, 3]]      [1, 32, 3, 3]         62,240     \n",
      "   DenseBlock-10      [[1, 120, 3, 3]]      [1, 248, 3, 3]           0       \n",
      "  BatchNorm2D-34      [[1, 248, 3, 3]]      [1, 248, 3, 3]          992      \n",
      "      ReLU-34         [[1, 248, 3, 3]]      [1, 248, 3, 3]           0       \n",
      "AdaptiveAvgPool2D-1   [[1, 248, 3, 3]]      [1, 248, 1, 1]           0       \n",
      "     Flatten-1        [[1, 248, 1, 1]]         [1, 248]              0       \n",
      "     Linear-1            [[1, 248]]            [1, 10]             2,490     \n",
      "===============================================================================\n",
      "Total params: 764,834\n",
      "Trainable params: 751,618\n",
      "Non-trainable params: 13,216\n",
      "-------------------------------------------------------------------------------\n",
      "Input size (MB): 0.04\n",
      "Forward/backward pass size (MB): 14.29\n",
      "Params size (MB): 2.92\n",
      "Estimated Total Size (MB): 17.25\n",
      "-------------------------------------------------------------------------------\n",
      "\n"
     ]
    },
    {
     "data": {
      "text/plain": [
       "{'total_params': 764834, 'trainable_params': 751618}"
      ]
     },
     "execution_count": 26,
     "metadata": {},
     "output_type": "execute_result"
    }
   ],
   "source": [
    "# instantiation\r\n",
    "model = paddle.Model(densenet)\r\n",
    "\r\n",
    "# visualization of the model workflow\r\n",
    "model.summary((-1, 1, 96, 96)) # [N C H W]"
   ]
  },
  {
   "cell_type": "markdown",
   "id": "f9d1186b-5aec-4fc8-af4e-5fa3b0bf209c",
   "metadata": {},
   "source": [
    "### Training"
   ]
  },
  {
   "cell_type": "code",
   "execution_count": 27,
   "id": "efb3db42-9cfb-4c4a-b692-2b71a0d09ebd",
   "metadata": {
    "execution": {
     "iopub.execute_input": "2022-03-19T12:35:38.225668Z",
     "iopub.status.busy": "2022-03-19T12:35:38.224740Z",
     "iopub.status.idle": "2022-03-19T12:41:28.853307Z",
     "shell.execute_reply": "2022-03-19T12:41:28.852608Z",
     "shell.execute_reply.started": "2022-03-19T12:35:38.225610Z"
    },
    "scrolled": true
   },
   "outputs": [
    {
     "name": "stdout",
     "output_type": "stream",
     "text": [
      "The loss value printed in the log is the current step, and the metric is the average value of previous steps.\n",
      "Epoch 1/20\n"
     ]
    },
    {
     "name": "stderr",
     "output_type": "stream",
     "text": [
      "/opt/conda/envs/python35-paddle120-env/lib/python3.7/site-packages/paddle/fluid/layers/utils.py:77: DeprecationWarning: Using or importing the ABCs from 'collections' instead of from 'collections.abc' is deprecated, and in 3.8 it will stop working\n",
      "  return (isinstance(seq, collections.Sequence) and\n",
      "/opt/conda/envs/python35-paddle120-env/lib/python3.7/site-packages/paddle/nn/layer/norm.py:653: UserWarning: When training, we now always track global mean and variance.\n",
      "  \"When training, we now always track global mean and variance.\")\n"
     ]
    },
    {
     "name": "stdout",
     "output_type": "stream",
     "text": [
      "step 235/235 [==============================] - loss: 0.3609 - acc: 0.8555 - 72ms/step          \n",
      "Epoch 2/20\n",
      "step 235/235 [==============================] - loss: 0.2791 - acc: 0.9079 - 74ms/step          \n",
      "Epoch 3/20\n",
      "step 235/235 [==============================] - loss: 0.2342 - acc: 0.9204 - 74ms/step          \n",
      "Epoch 4/20\n",
      "step 235/235 [==============================] - loss: 0.3805 - acc: 0.9287 - 77ms/step          \n",
      "Epoch 5/20\n",
      "step 235/235 [==============================] - loss: 0.1076 - acc: 0.9327 - 75ms/step          \n",
      "Epoch 6/20\n",
      "step 235/235 [==============================] - loss: 0.2494 - acc: 0.9394 - 73ms/step          \n",
      "Epoch 7/20\n",
      "step 235/235 [==============================] - loss: 0.1635 - acc: 0.9439 - 73ms/step          \n",
      "Epoch 8/20\n",
      "step 235/235 [==============================] - loss: 0.1548 - acc: 0.9495 - 74ms/step          \n",
      "Epoch 9/20\n",
      "step 235/235 [==============================] - loss: 0.1424 - acc: 0.9531 - 75ms/step          \n",
      "Epoch 10/20\n",
      "step 235/235 [==============================] - loss: 0.0733 - acc: 0.9577 - 75ms/step          \n",
      "Epoch 11/20\n",
      "step 235/235 [==============================] - loss: 0.0803 - acc: 0.9604 - 74ms/step          \n",
      "Epoch 12/20\n",
      "step 235/235 [==============================] - loss: 0.0911 - acc: 0.9631 - 73ms/step          \n",
      "Epoch 13/20\n",
      "step 235/235 [==============================] - loss: 0.0674 - acc: 0.9675 - 74ms/step          \n",
      "Epoch 14/20\n",
      "step 235/235 [==============================] - loss: 0.0732 - acc: 0.9714 - 79ms/step          \n",
      "Epoch 15/20\n",
      "step 235/235 [==============================] - loss: 0.0483 - acc: 0.9738 - 72ms/step          \n",
      "Epoch 16/20\n",
      "step 235/235 [==============================] - loss: 0.0737 - acc: 0.9752 - 72ms/step          \n",
      "Epoch 17/20\n",
      "step 235/235 [==============================] - loss: 0.0351 - acc: 0.9787 - 77ms/step          \n",
      "Epoch 18/20\n",
      "step 235/235 [==============================] - loss: 0.0599 - acc: 0.9807 - 75ms/step          \n",
      "Epoch 19/20\n",
      "step 235/235 [==============================] - loss: 0.0368 - acc: 0.9823 - 77ms/step          \n",
      "Epoch 20/20\n",
      "step 235/235 [==============================] - loss: 0.0525 - acc: 0.9846 - 75ms/step          \n"
     ]
    }
   ],
   "source": [
    "# optimizer and loss\r\n",
    "model.prepare(optimizer=paddle.optimizer.Adam(parameters=model.parameters(), learning_rate=1e-3),\r\n",
    "              loss=nn.CrossEntropyLoss(),\r\n",
    "              metrics=paddle.metric.Accuracy())\r\n",
    "\r\n",
    "# training\r\n",
    "model.fit(train_loader,\r\n",
    "        # eval_data = test_loader\r\n",
    "        epochs=20,\r\n",
    "        verbose=1,\r\n",
    "        )"
   ]
  },
  {
   "cell_type": "code",
   "execution_count": 28,
   "id": "023ade34-1839-494a-89be-af822b760123",
   "metadata": {
    "execution": {
     "iopub.execute_input": "2022-03-19T12:41:28.866053Z",
     "iopub.status.busy": "2022-03-19T12:41:28.865819Z",
     "iopub.status.idle": "2022-03-19T12:41:31.917697Z",
     "shell.execute_reply": "2022-03-19T12:41:31.917063Z",
     "shell.execute_reply.started": "2022-03-19T12:41:28.866032Z"
    },
    "scrolled": true
   },
   "outputs": [
    {
     "name": "stdout",
     "output_type": "stream",
     "text": [
      "Eval begin...\n",
      "step 157/157 [==============================] - loss: 0.0100 - acc: 0.9229 - 19ms/step          \n",
      "Eval samples: 10000\n"
     ]
    },
    {
     "data": {
      "text/plain": [
       "{'loss': [0.009955257], 'acc': 0.9229}"
      ]
     },
     "execution_count": 28,
     "metadata": {},
     "output_type": "execute_result"
    }
   ],
   "source": [
    "model.evaluate(fashionmnist_test, batch_size=64, verbose=1)"
   ]
  },
  {
   "cell_type": "code",
   "execution_count": null,
   "id": "7f9019dc-e5ce-463d-a2c4-0bfd96f0ef8e",
   "metadata": {
    "scrolled": true
   },
   "outputs": [],
   "source": []
  },
  {
   "cell_type": "code",
   "execution_count": null,
   "id": "3e67866b-0ca4-4594-b382-e2c2517ebfa0",
   "metadata": {
    "scrolled": true
   },
   "outputs": [],
   "source": []
  },
  {
   "cell_type": "code",
   "execution_count": null,
   "id": "5488ef59-5327-4d01-aff3-0d2f453de109",
   "metadata": {
    "scrolled": true
   },
   "outputs": [],
   "source": []
  }
 ],
 "metadata": {
  "kernelspec": {
   "display_name": "Python 3",
   "language": "python",
   "name": "py35-paddle1.2.0"
  },
  "language_info": {
   "codemirror_mode": {
    "name": "ipython",
    "version": 3
   },
   "file_extension": ".py",
   "mimetype": "text/x-python",
   "name": "python",
   "nbconvert_exporter": "python",
   "pygments_lexer": "ipython3",
   "version": "3.7.4"
  }
 },
 "nbformat": 4,
 "nbformat_minor": 5
}
