{
 "cells": [
  {
   "cell_type": "markdown",
   "id": "4c40f902-1a54-45a9-9009-dc3ede3d89e6",
   "metadata": {},
   "source": [
    "## Residual Network"
   ]
  },
  {
   "cell_type": "code",
   "execution_count": 1,
   "id": "bcde8953-31e6-4799-8e63-f9bc2fa72237",
   "metadata": {
    "execution": {
     "iopub.execute_input": "2022-03-19T11:36:57.890979Z",
     "iopub.status.busy": "2022-03-19T11:36:57.890685Z",
     "iopub.status.idle": "2022-03-19T11:36:58.170699Z",
     "shell.execute_reply": "2022-03-19T11:36:58.169911Z",
     "shell.execute_reply.started": "2022-03-19T11:36:57.890955Z"
    },
    "scrolled": true
   },
   "outputs": [
    {
     "name": "stdout",
     "output_type": "stream",
     "text": [
      "Sat Mar 19 19:36:58 2022       \n",
      "+-----------------------------------------------------------------------------+\n",
      "| NVIDIA-SMI 418.67       Driver Version: 418.67       CUDA Version: 10.1     |\n",
      "|-------------------------------+----------------------+----------------------+\n",
      "| GPU  Name        Persistence-M| Bus-Id        Disp.A | Volatile Uncorr. ECC |\n",
      "| Fan  Temp  Perf  Pwr:Usage/Cap|         Memory-Usage | GPU-Util  Compute M. |\n",
      "|===============================+======================+======================|\n",
      "|   0  Tesla V100-SXM2...  On   | 00000000:00:0B.0 Off |                    0 |\n",
      "| N/A   36C    P0    54W / 300W |   1059MiB / 32480MiB |      0%      Default |\n",
      "+-------------------------------+----------------------+----------------------+\n",
      "                                                                               \n",
      "+-----------------------------------------------------------------------------+\n",
      "| Processes:                                                       GPU Memory |\n",
      "|  GPU       PID   Type   Process name                             Usage      |\n",
      "|=============================================================================|\n",
      "+-----------------------------------------------------------------------------+\n"
     ]
    }
   ],
   "source": [
    "!nvidia-smi"
   ]
  },
  {
   "cell_type": "code",
   "execution_count": 2,
   "id": "60556388-b0a0-4eac-8e0f-f3efc41ef569",
   "metadata": {
    "execution": {
     "iopub.execute_input": "2022-03-19T11:36:58.172774Z",
     "iopub.status.busy": "2022-03-19T11:36:58.172224Z",
     "iopub.status.idle": "2022-03-19T11:36:59.548376Z",
     "shell.execute_reply": "2022-03-19T11:36:59.547487Z",
     "shell.execute_reply.started": "2022-03-19T11:36:58.172740Z"
    },
    "scrolled": true
   },
   "outputs": [
    {
     "data": {
      "text/plain": [
       "('2.2.2', 'gpu:0')"
      ]
     },
     "execution_count": 2,
     "metadata": {},
     "output_type": "execute_result"
    }
   ],
   "source": [
    "import paddle\r\n",
    "import numpy as np\r\n",
    "\r\n",
    "paddle.__version__, paddle.device.get_device()"
   ]
  },
  {
   "cell_type": "markdown",
   "id": "af54e748-528d-4ece-bd25-417c9de259cc",
   "metadata": {},
   "source": [
    "### Data loading"
   ]
  },
  {
   "cell_type": "code",
   "execution_count": 3,
   "id": "f8fd44e1-9f17-49a8-8576-16fcfd33b253",
   "metadata": {
    "execution": {
     "iopub.execute_input": "2022-03-19T11:36:59.549997Z",
     "iopub.status.busy": "2022-03-19T11:36:59.549664Z",
     "iopub.status.idle": "2022-03-19T11:37:04.466599Z",
     "shell.execute_reply": "2022-03-19T11:37:04.465853Z",
     "shell.execute_reply.started": "2022-03-19T11:36:59.549967Z"
    },
    "scrolled": true
   },
   "outputs": [],
   "source": [
    "import paddle.vision.transforms as T\r\n",
    "from paddle.vision.datasets import FashionMNIST\r\n",
    "\r\n",
    "# loading and normalization\r\n",
    "# resize the shape to 96x96\r\n",
    "transform = [T.Resize(size=96), T.Normalize(mean=[127.5], std=[127.5])]\r\n",
    "transform = T.Compose(transform)\r\n",
    "\r\n",
    "# constructing traning set and test set\r\n",
    "fashionmnist_train = FashionMNIST(mode='train', transform=transform)\r\n",
    "fashionmnist_test = FashionMNIST(mode='test', transform=transform)"
   ]
  },
  {
   "cell_type": "code",
   "execution_count": 4,
   "id": "e61025ac-f98e-4e09-974d-3ec0f7c891f0",
   "metadata": {
    "execution": {
     "iopub.execute_input": "2022-03-19T11:37:04.468608Z",
     "iopub.status.busy": "2022-03-19T11:37:04.468236Z",
     "iopub.status.idle": "2022-03-19T11:37:04.473815Z",
     "shell.execute_reply": "2022-03-19T11:37:04.472921Z",
     "shell.execute_reply.started": "2022-03-19T11:37:04.468574Z"
    },
    "scrolled": true
   },
   "outputs": [
    {
     "data": {
      "text/plain": [
       "(60000, 10000)"
      ]
     },
     "execution_count": 4,
     "metadata": {},
     "output_type": "execute_result"
    }
   ],
   "source": [
    "# nums of train set and test set\r\n",
    "len(fashionmnist_train), len(fashionmnist_test)"
   ]
  },
  {
   "cell_type": "code",
   "execution_count": 5,
   "id": "8f973991-c80b-4b54-b500-a39d30175635",
   "metadata": {
    "execution": {
     "iopub.execute_input": "2022-03-19T11:37:04.474860Z",
     "iopub.status.busy": "2022-03-19T11:37:04.474689Z",
     "iopub.status.idle": "2022-03-19T11:37:04.488119Z",
     "shell.execute_reply": "2022-03-19T11:37:04.487553Z",
     "shell.execute_reply.started": "2022-03-19T11:37:04.474839Z"
    },
    "scrolled": true
   },
   "outputs": [
    {
     "data": {
      "text/plain": [
       "((1, 96, 96), (1, 96, 96))"
      ]
     },
     "execution_count": 5,
     "metadata": {},
     "output_type": "execute_result"
    }
   ],
   "source": [
    "# As for one sample, channel = 1, height, weight = 96\r\n",
    "# for adapting to the input shape of resnet\r\n",
    "fashionmnist_train[0][0].shape, fashionmnist_test[0][0].shape"
   ]
  },
  {
   "cell_type": "code",
   "execution_count": 6,
   "id": "06d92818-89be-4d34-9a83-4b8ce492184a",
   "metadata": {
    "execution": {
     "iopub.execute_input": "2022-03-19T11:37:04.489221Z",
     "iopub.status.busy": "2022-03-19T11:37:04.488972Z",
     "iopub.status.idle": "2022-03-19T11:37:04.492874Z",
     "shell.execute_reply": "2022-03-19T11:37:04.492346Z",
     "shell.execute_reply.started": "2022-03-19T11:37:04.489198Z"
    },
    "scrolled": true
   },
   "outputs": [],
   "source": [
    "train_loader = paddle.io.DataLoader(fashionmnist_train, batch_size=256, shuffle=True)\r\n",
    "test_loader = paddle.io.DataLoader(fashionmnist_test, batch_size=64, shuffle=False)"
   ]
  },
  {
   "cell_type": "markdown",
   "id": "0b250daa-6af9-438b-9d70-720b4113b458",
   "metadata": {},
   "source": [
    "### Model\n"
   ]
  },
  {
   "cell_type": "markdown",
   "id": "ee6599a2-0354-4253-bb06-b197f2e9db15",
   "metadata": {},
   "source": [
    "#### Residual block"
   ]
  },
  {
   "cell_type": "code",
   "execution_count": 8,
   "id": "c5af0227-f47d-4ef3-b8ba-28a3700a13d2",
   "metadata": {
    "execution": {
     "iopub.execute_input": "2022-03-19T11:37:41.657921Z",
     "iopub.status.busy": "2022-03-19T11:37:41.657412Z",
     "iopub.status.idle": "2022-03-19T11:37:41.665741Z",
     "shell.execute_reply": "2022-03-19T11:37:41.665134Z",
     "shell.execute_reply.started": "2022-03-19T11:37:41.657880Z"
    },
    "scrolled": true
   },
   "outputs": [],
   "source": [
    "from paddle import nn\r\n",
    "from paddle.nn import functional as F\r\n",
    "\r\n",
    "class Residual(nn.Layer): \r\n",
    "    def __init__(self, input_channels, num_channels,\r\n",
    "                 use_1x1conv=False, strides=1):\r\n",
    "        super().__init__()\r\n",
    "        self.conv1 = nn.Conv2D(input_channels, num_channels,\r\n",
    "                               kernel_size=3, padding=1, stride=strides)\r\n",
    "        self.conv2 = nn.Conv2D(num_channels, num_channels,\r\n",
    "                               kernel_size=3, padding=1)\r\n",
    "        if use_1x1conv:\r\n",
    "            self.conv3 = nn.Conv2D(input_channels, num_channels,\r\n",
    "                                   kernel_size=1, stride=strides)\r\n",
    "        else:\r\n",
    "            self.conv3 = None\r\n",
    "        self.bn1 = nn.BatchNorm2D(num_channels)\r\n",
    "        self.bn2 = nn.BatchNorm2D(num_channels)\r\n",
    "\r\n",
    "    def forward(self, X):\r\n",
    "        Y = F.relu(self.bn1(self.conv1(X)))\r\n",
    "        Y = self.bn2(self.conv2(Y))\r\n",
    "        if self.conv3:\r\n",
    "            X = self.conv3(X)\r\n",
    "        Y += X\r\n",
    "        return F.relu(Y)"
   ]
  },
  {
   "cell_type": "code",
   "execution_count": 12,
   "id": "f6422c42-efac-48ad-8e1f-04bf594e13a2",
   "metadata": {
    "execution": {
     "iopub.execute_input": "2022-03-19T11:38:50.573992Z",
     "iopub.status.busy": "2022-03-19T11:38:50.573499Z",
     "iopub.status.idle": "2022-03-19T11:38:50.585949Z",
     "shell.execute_reply": "2022-03-19T11:38:50.585252Z",
     "shell.execute_reply.started": "2022-03-19T11:38:50.573951Z"
    },
    "scrolled": true
   },
   "outputs": [
    {
     "data": {
      "text/plain": [
       "[4, 3, 6, 6]"
      ]
     },
     "execution_count": 12,
     "metadata": {},
     "output_type": "execute_result"
    }
   ],
   "source": [
    "# where the input and output are of the same shape\r\n",
    "blk = Residual(3, 3)\r\n",
    "X = paddle.rand([4, 3, 6, 6])\r\n",
    "Y = blk(X)\r\n",
    "Y.shape"
   ]
  },
  {
   "cell_type": "code",
   "execution_count": 13,
   "id": "f75ee243-35b9-4f47-9bc5-125cc563c143",
   "metadata": {
    "execution": {
     "iopub.execute_input": "2022-03-19T11:39:15.815102Z",
     "iopub.status.busy": "2022-03-19T11:39:15.814588Z",
     "iopub.status.idle": "2022-03-19T11:39:15.826980Z",
     "shell.execute_reply": "2022-03-19T11:39:15.826410Z",
     "shell.execute_reply.started": "2022-03-19T11:39:15.815063Z"
    },
    "scrolled": true
   },
   "outputs": [
    {
     "data": {
      "text/plain": [
       "[4, 6, 3, 3]"
      ]
     },
     "execution_count": 13,
     "metadata": {},
     "output_type": "execute_result"
    }
   ],
   "source": [
    "# halve the output height and width while increasing the number of output channels\r\n",
    "blk = Residual(3, 6, use_1x1conv=True, strides=2)\r\n",
    "blk(X).shape "
   ]
  },
  {
   "cell_type": "markdown",
   "id": "9400f98f-8a22-4a80-b7a3-b611d5b1388d",
   "metadata": {},
   "source": [
    "#### Residual Network"
   ]
  },
  {
   "cell_type": "code",
   "execution_count": 18,
   "id": "26da4fa9-6367-4e08-a264-c61eb72b9f6a",
   "metadata": {
    "execution": {
     "iopub.execute_input": "2022-03-19T11:42:07.651330Z",
     "iopub.status.busy": "2022-03-19T11:42:07.650854Z",
     "iopub.status.idle": "2022-03-19T11:42:07.658643Z",
     "shell.execute_reply": "2022-03-19T11:42:07.658091Z",
     "shell.execute_reply.started": "2022-03-19T11:42:07.651288Z"
    },
    "scrolled": true
   },
   "outputs": [],
   "source": [
    "b1 = nn.Sequential(nn.Conv2D(1, 64, kernel_size=7, stride=2, padding=3),\r\n",
    "                   nn.BatchNorm2D(64), nn.ReLU(),\r\n",
    "                   nn.MaxPool2D(kernel_size=3, stride=2, padding=1))"
   ]
  },
  {
   "cell_type": "code",
   "execution_count": 19,
   "id": "ff01e4d8-66e9-4bc6-bbff-3b82c9343603",
   "metadata": {
    "execution": {
     "iopub.execute_input": "2022-03-19T11:42:08.906906Z",
     "iopub.status.busy": "2022-03-19T11:42:08.906403Z",
     "iopub.status.idle": "2022-03-19T11:42:08.911786Z",
     "shell.execute_reply": "2022-03-19T11:42:08.911201Z",
     "shell.execute_reply.started": "2022-03-19T11:42:08.906867Z"
    },
    "scrolled": true
   },
   "outputs": [],
   "source": [
    "# special processing has been performed on the first module\r\n",
    "def resnet_block(input_channels, num_channels, num_residuals,\r\n",
    "                 first_block=False):\r\n",
    "    blk = []\r\n",
    "    for i in range(num_residuals):\r\n",
    "        if i == 0 and not first_block:\r\n",
    "            blk.append(Residual(input_channels, num_channels,\r\n",
    "                                use_1x1conv=True, strides=2))\r\n",
    "        else:\r\n",
    "            blk.append(Residual(num_channels, num_channels))\r\n",
    "    return blk"
   ]
  },
  {
   "cell_type": "code",
   "execution_count": 20,
   "id": "f4ecc7a8-cd3d-461e-b229-ac09851d6d39",
   "metadata": {
    "execution": {
     "iopub.execute_input": "2022-03-19T11:42:09.366123Z",
     "iopub.status.busy": "2022-03-19T11:42:09.365405Z",
     "iopub.status.idle": "2022-03-19T11:42:09.405261Z",
     "shell.execute_reply": "2022-03-19T11:42:09.404722Z",
     "shell.execute_reply.started": "2022-03-19T11:42:09.366090Z"
    },
    "scrolled": true
   },
   "outputs": [],
   "source": [
    "b2 = nn.Sequential(*resnet_block(64, 64, 2, first_block=True))\r\n",
    "b3 = nn.Sequential(*resnet_block(64, 128, 2))\r\n",
    "b4 = nn.Sequential(*resnet_block(128, 256, 2))\r\n",
    "b5 = nn.Sequential(*resnet_block(256, 512, 2))"
   ]
  },
  {
   "cell_type": "code",
   "execution_count": 22,
   "id": "6deb5d71-99c9-4b46-a23b-e44e0358a144",
   "metadata": {
    "execution": {
     "iopub.execute_input": "2022-03-19T11:42:16.858253Z",
     "iopub.status.busy": "2022-03-19T11:42:16.857753Z",
     "iopub.status.idle": "2022-03-19T11:42:16.864410Z",
     "shell.execute_reply": "2022-03-19T11:42:16.863707Z",
     "shell.execute_reply.started": "2022-03-19T11:42:16.858209Z"
    },
    "scrolled": true
   },
   "outputs": [],
   "source": [
    "resnet = nn.Sequential(b1, b2, b3, b4, b5,\r\n",
    "                    nn.AdaptiveAvgPool2D((1,1)),\r\n",
    "                    nn.Flatten(), nn.Linear(512, 10))"
   ]
  },
  {
   "cell_type": "code",
   "execution_count": 23,
   "id": "732759f9-3744-4cb3-a06c-d2a94f82027e",
   "metadata": {
    "execution": {
     "iopub.execute_input": "2022-03-19T11:43:11.258354Z",
     "iopub.status.busy": "2022-03-19T11:43:11.257866Z",
     "iopub.status.idle": "2022-03-19T11:43:11.282934Z",
     "shell.execute_reply": "2022-03-19T11:43:11.282427Z",
     "shell.execute_reply.started": "2022-03-19T11:43:11.258312Z"
    },
    "scrolled": true
   },
   "outputs": [
    {
     "name": "stdout",
     "output_type": "stream",
     "text": [
      "-------------------------------------------------------------------------------\n",
      "   Layer (type)         Input Shape          Output Shape         Param #    \n",
      "===============================================================================\n",
      "     Conv2D-31        [[1, 1, 96, 96]]     [1, 64, 48, 48]         3,200     \n",
      "  BatchNorm2D-27     [[1, 64, 48, 48]]     [1, 64, 48, 48]          256      \n",
      "      ReLU-1         [[1, 64, 48, 48]]     [1, 64, 48, 48]           0       \n",
      "    MaxPool2D-1      [[1, 64, 48, 48]]     [1, 64, 24, 24]           0       \n",
      "     Conv2D-32       [[1, 64, 24, 24]]     [1, 64, 24, 24]        36,928     \n",
      "  BatchNorm2D-28     [[1, 64, 24, 24]]     [1, 64, 24, 24]          256      \n",
      "     Conv2D-33       [[1, 64, 24, 24]]     [1, 64, 24, 24]        36,928     \n",
      "  BatchNorm2D-29     [[1, 64, 24, 24]]     [1, 64, 24, 24]          256      \n",
      "    Residual-14      [[1, 64, 24, 24]]     [1, 64, 24, 24]           0       \n",
      "     Conv2D-34       [[1, 64, 24, 24]]     [1, 64, 24, 24]        36,928     \n",
      "  BatchNorm2D-30     [[1, 64, 24, 24]]     [1, 64, 24, 24]          256      \n",
      "     Conv2D-35       [[1, 64, 24, 24]]     [1, 64, 24, 24]        36,928     \n",
      "  BatchNorm2D-31     [[1, 64, 24, 24]]     [1, 64, 24, 24]          256      \n",
      "    Residual-15      [[1, 64, 24, 24]]     [1, 64, 24, 24]           0       \n",
      "     Conv2D-36       [[1, 64, 24, 24]]     [1, 128, 12, 12]       73,856     \n",
      "  BatchNorm2D-32     [[1, 128, 12, 12]]    [1, 128, 12, 12]         512      \n",
      "     Conv2D-37       [[1, 128, 12, 12]]    [1, 128, 12, 12]       147,584    \n",
      "  BatchNorm2D-33     [[1, 128, 12, 12]]    [1, 128, 12, 12]         512      \n",
      "     Conv2D-38       [[1, 64, 24, 24]]     [1, 128, 12, 12]        8,320     \n",
      "    Residual-16      [[1, 64, 24, 24]]     [1, 128, 12, 12]          0       \n",
      "     Conv2D-39       [[1, 128, 12, 12]]    [1, 128, 12, 12]       147,584    \n",
      "  BatchNorm2D-34     [[1, 128, 12, 12]]    [1, 128, 12, 12]         512      \n",
      "     Conv2D-40       [[1, 128, 12, 12]]    [1, 128, 12, 12]       147,584    \n",
      "  BatchNorm2D-35     [[1, 128, 12, 12]]    [1, 128, 12, 12]         512      \n",
      "    Residual-17      [[1, 128, 12, 12]]    [1, 128, 12, 12]          0       \n",
      "     Conv2D-41       [[1, 128, 12, 12]]     [1, 256, 6, 6]        295,168    \n",
      "  BatchNorm2D-36      [[1, 256, 6, 6]]      [1, 256, 6, 6]         1,024     \n",
      "     Conv2D-42        [[1, 256, 6, 6]]      [1, 256, 6, 6]        590,080    \n",
      "  BatchNorm2D-37      [[1, 256, 6, 6]]      [1, 256, 6, 6]         1,024     \n",
      "     Conv2D-43       [[1, 128, 12, 12]]     [1, 256, 6, 6]        33,024     \n",
      "    Residual-18      [[1, 128, 12, 12]]     [1, 256, 6, 6]           0       \n",
      "     Conv2D-44        [[1, 256, 6, 6]]      [1, 256, 6, 6]        590,080    \n",
      "  BatchNorm2D-38      [[1, 256, 6, 6]]      [1, 256, 6, 6]         1,024     \n",
      "     Conv2D-45        [[1, 256, 6, 6]]      [1, 256, 6, 6]        590,080    \n",
      "  BatchNorm2D-39      [[1, 256, 6, 6]]      [1, 256, 6, 6]         1,024     \n",
      "    Residual-19       [[1, 256, 6, 6]]      [1, 256, 6, 6]           0       \n",
      "     Conv2D-46        [[1, 256, 6, 6]]      [1, 512, 3, 3]       1,180,160   \n",
      "  BatchNorm2D-40      [[1, 512, 3, 3]]      [1, 512, 3, 3]         2,048     \n",
      "     Conv2D-47        [[1, 512, 3, 3]]      [1, 512, 3, 3]       2,359,808   \n",
      "  BatchNorm2D-41      [[1, 512, 3, 3]]      [1, 512, 3, 3]         2,048     \n",
      "     Conv2D-48        [[1, 256, 6, 6]]      [1, 512, 3, 3]        131,584    \n",
      "    Residual-20       [[1, 256, 6, 6]]      [1, 512, 3, 3]           0       \n",
      "     Conv2D-49        [[1, 512, 3, 3]]      [1, 512, 3, 3]       2,359,808   \n",
      "  BatchNorm2D-42      [[1, 512, 3, 3]]      [1, 512, 3, 3]         2,048     \n",
      "     Conv2D-50        [[1, 512, 3, 3]]      [1, 512, 3, 3]       2,359,808   \n",
      "  BatchNorm2D-43      [[1, 512, 3, 3]]      [1, 512, 3, 3]         2,048     \n",
      "    Residual-21       [[1, 512, 3, 3]]      [1, 512, 3, 3]           0       \n",
      "AdaptiveAvgPool2D-1   [[1, 512, 3, 3]]      [1, 512, 1, 1]           0       \n",
      "     Flatten-1        [[1, 512, 1, 1]]         [1, 512]              0       \n",
      "     Linear-1            [[1, 512]]            [1, 10]             5,130     \n",
      "===============================================================================\n",
      "Total params: 11,186,186\n",
      "Trainable params: 11,170,570\n",
      "Non-trainable params: 15,616\n",
      "-------------------------------------------------------------------------------\n",
      "Input size (MB): 0.04\n",
      "Forward/backward pass size (MB): 9.18\n",
      "Params size (MB): 42.67\n",
      "Estimated Total Size (MB): 51.89\n",
      "-------------------------------------------------------------------------------\n",
      "\n"
     ]
    },
    {
     "data": {
      "text/plain": [
       "{'total_params': 11186186, 'trainable_params': 11170570}"
      ]
     },
     "execution_count": 23,
     "metadata": {},
     "output_type": "execute_result"
    }
   ],
   "source": [
    "# instantiation\r\n",
    "model = paddle.Model(resnet)\r\n",
    "\r\n",
    "# visualization of the model workflow\r\n",
    "model.summary((-1, 1, 96, 96)) # [N C H W]"
   ]
  },
  {
   "cell_type": "markdown",
   "id": "6006fb29-a07f-42a2-8c5f-e8b43e0c1d2e",
   "metadata": {},
   "source": [
    "### Training"
   ]
  },
  {
   "cell_type": "code",
   "execution_count": 24,
   "id": "bee83add-080a-46c3-9d6d-bab4e5f2f02f",
   "metadata": {
    "execution": {
     "iopub.execute_input": "2022-03-19T11:45:03.658542Z",
     "iopub.status.busy": "2022-03-19T11:45:03.658077Z",
     "iopub.status.idle": "2022-03-19T11:51:25.648548Z",
     "shell.execute_reply": "2022-03-19T11:51:25.647756Z",
     "shell.execute_reply.started": "2022-03-19T11:45:03.658505Z"
    },
    "scrolled": true
   },
   "outputs": [
    {
     "name": "stdout",
     "output_type": "stream",
     "text": [
      "The loss value printed in the log is the current step, and the metric is the average value of previous steps.\n",
      "Epoch 1/20\n"
     ]
    },
    {
     "name": "stderr",
     "output_type": "stream",
     "text": [
      "/opt/conda/envs/python35-paddle120-env/lib/python3.7/site-packages/paddle/fluid/layers/utils.py:77: DeprecationWarning: Using or importing the ABCs from 'collections' instead of from 'collections.abc' is deprecated, and in 3.8 it will stop working\n",
      "  return (isinstance(seq, collections.Sequence) and\n",
      "/opt/conda/envs/python35-paddle120-env/lib/python3.7/site-packages/paddle/nn/layer/norm.py:653: UserWarning: When training, we now always track global mean and variance.\n",
      "  \"When training, we now always track global mean and variance.\")\n"
     ]
    },
    {
     "name": "stdout",
     "output_type": "stream",
     "text": [
      "step 235/235 [==============================] - loss: 0.3162 - acc: 0.8552 - 77ms/step          \n",
      "Epoch 2/20\n",
      "step 235/235 [==============================] - loss: 0.2791 - acc: 0.9125 - 77ms/step          \n",
      "Epoch 3/20\n",
      "step 235/235 [==============================] - loss: 0.1962 - acc: 0.9288 - 78ms/step          \n",
      "Epoch 4/20\n",
      "step 235/235 [==============================] - loss: 0.1297 - acc: 0.9445 - 77ms/step          \n",
      "Epoch 5/20\n",
      "step 235/235 [==============================] - loss: 0.2486 - acc: 0.9522 - 81ms/step          \n",
      "Epoch 6/20\n",
      "step 235/235 [==============================] - loss: 0.1365 - acc: 0.9610 - 81ms/step          \n",
      "Epoch 7/20\n",
      "step 235/235 [==============================] - loss: 0.1179 - acc: 0.9692 - 82ms/step          \n",
      "Epoch 8/20\n",
      "step 235/235 [==============================] - loss: 0.0710 - acc: 0.9739 - 83ms/step          \n",
      "Epoch 9/20\n",
      "step 235/235 [==============================] - loss: 0.0805 - acc: 0.9781 - 80ms/step          \n",
      "Epoch 10/20\n",
      "step 235/235 [==============================] - loss: 0.0807 - acc: 0.9820 - 86ms/step          \n",
      "Epoch 11/20\n",
      "step 235/235 [==============================] - loss: 0.0694 - acc: 0.9835 - 85ms/step          \n",
      "Epoch 12/20\n",
      "step 235/235 [==============================] - loss: 0.0153 - acc: 0.9869 - 82ms/step          \n",
      "Epoch 13/20\n",
      "step 235/235 [==============================] - loss: 0.0691 - acc: 0.9883 - 81ms/step          \n",
      "Epoch 14/20\n",
      "step 235/235 [==============================] - loss: 0.0272 - acc: 0.9887 - 83ms/step          \n",
      "Epoch 15/20\n",
      "step 235/235 [==============================] - loss: 0.0085 - acc: 0.9902 - 82ms/step          \n",
      "Epoch 16/20\n",
      "step 235/235 [==============================] - loss: 0.0232 - acc: 0.9897 - 79ms/step          \n",
      "Epoch 17/20\n",
      "step 235/235 [==============================] - loss: 0.0746 - acc: 0.9926 - 85ms/step          \n",
      "Epoch 18/20\n",
      "step 235/235 [==============================] - loss: 0.0236 - acc: 0.9910 - 80ms/step          \n",
      "Epoch 19/20\n",
      "step 235/235 [==============================] - loss: 0.0215 - acc: 0.9919 - 87ms/step          \n",
      "Epoch 20/20\n",
      "step 235/235 [==============================] - loss: 0.0015 - acc: 0.9950 - 79ms/step          \n"
     ]
    }
   ],
   "source": [
    "# optimizer and loss\r\n",
    "model.prepare(optimizer=paddle.optimizer.Adam(parameters=model.parameters(), learning_rate=1e-3),\r\n",
    "              loss=nn.CrossEntropyLoss(),\r\n",
    "              metrics=paddle.metric.Accuracy())\r\n",
    "\r\n",
    "# training\r\n",
    "model.fit(train_loader,\r\n",
    "        # eval_data = test_loader\r\n",
    "        epochs=20,\r\n",
    "        verbose=1,\r\n",
    "        )"
   ]
  },
  {
   "cell_type": "code",
   "execution_count": 25,
   "id": "85eb44bb-da07-4f0a-83dd-733ce26b5205",
   "metadata": {
    "execution": {
     "iopub.execute_input": "2022-03-19T11:51:32.235356Z",
     "iopub.status.busy": "2022-03-19T11:51:32.234800Z",
     "iopub.status.idle": "2022-03-19T11:51:34.831548Z",
     "shell.execute_reply": "2022-03-19T11:51:34.830948Z",
     "shell.execute_reply.started": "2022-03-19T11:51:32.235304Z"
    },
    "scrolled": true
   },
   "outputs": [
    {
     "name": "stdout",
     "output_type": "stream",
     "text": [
      "Eval begin...\n",
      "step 157/157 [==============================] - loss: 0.0078 - acc: 0.9227 - 16ms/step          \n",
      "Eval samples: 10000\n"
     ]
    },
    {
     "data": {
      "text/plain": [
       "{'loss': [0.007836733], 'acc': 0.9227}"
      ]
     },
     "execution_count": 25,
     "metadata": {},
     "output_type": "execute_result"
    }
   ],
   "source": [
    "model.evaluate(fashionmnist_test, batch_size=64, verbose=1)"
   ]
  },
  {
   "cell_type": "code",
   "execution_count": null,
   "id": "fd48220f-75c8-44a8-bcef-0ca2dc6fd832",
   "metadata": {
    "scrolled": true
   },
   "outputs": [],
   "source": []
  }
 ],
 "metadata": {
  "kernelspec": {
   "display_name": "Python 3",
   "language": "python",
   "name": "py35-paddle1.2.0"
  },
  "language_info": {
   "codemirror_mode": {
    "name": "ipython",
    "version": 3
   },
   "file_extension": ".py",
   "mimetype": "text/x-python",
   "name": "python",
   "nbconvert_exporter": "python",
   "pygments_lexer": "ipython3",
   "version": "3.7.4"
  }
 },
 "nbformat": 4,
 "nbformat_minor": 5
}
