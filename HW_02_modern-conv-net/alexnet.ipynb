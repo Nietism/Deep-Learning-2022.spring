{
 "cells": [
  {
   "cell_type": "markdown",
   "metadata": {
    "execution": {
     "iopub.execute_input": "2022-03-07T08:43:11.381860Z",
     "iopub.status.busy": "2022-03-07T08:43:11.381181Z",
     "iopub.status.idle": "2022-03-07T08:43:11.385737Z",
     "shell.execute_reply": "2022-03-07T08:43:11.384857Z",
     "shell.execute_reply.started": "2022-03-07T08:43:11.381824Z"
    },
    "jupyter": {
     "outputs_hidden": false
    }
   },
   "source": [
    "## Alexnet"
   ]
  },
  {
   "cell_type": "code",
   "execution_count": 1,
   "metadata": {
    "execution": {
     "iopub.execute_input": "2022-03-07T09:53:07.427240Z",
     "iopub.status.busy": "2022-03-07T09:53:07.426888Z",
     "iopub.status.idle": "2022-03-07T09:53:07.886406Z",
     "shell.execute_reply": "2022-03-07T09:53:07.885564Z",
     "shell.execute_reply.started": "2022-03-07T09:53:07.427215Z"
    },
    "scrolled": true
   },
   "outputs": [
    {
     "name": "stdout",
     "output_type": "stream",
     "text": [
      "Mon Mar  7 17:53:07 2022       \n",
      "+-----------------------------------------------------------------------------+\n",
      "| NVIDIA-SMI 450.51.06    Driver Version: 450.51.06    CUDA Version: 11.0     |\n",
      "|-------------------------------+----------------------+----------------------+\n",
      "| GPU  Name        Persistence-M| Bus-Id        Disp.A | Volatile Uncorr. ECC |\n",
      "| Fan  Temp  Perf  Pwr:Usage/Cap|         Memory-Usage | GPU-Util  Compute M. |\n",
      "|                               |                      |               MIG M. |\n",
      "|===============================+======================+======================|\n",
      "|   0  Tesla V100-SXM2...  Off  | 00000000:00:09.0 Off |                    0 |\n",
      "| N/A   54C    P0    42W / 300W |      0MiB / 16160MiB |      0%      Default |\n",
      "|                               |                      |                  N/A |\n",
      "+-------------------------------+----------------------+----------------------+\n",
      "                                                                               \n",
      "+-----------------------------------------------------------------------------+\n",
      "| Processes:                                                                  |\n",
      "|  GPU   GI   CI        PID   Type   Process name                  GPU Memory |\n",
      "|        ID   ID                                                   Usage      |\n",
      "|=============================================================================|\n",
      "|  No running processes found                                                 |\n",
      "+-----------------------------------------------------------------------------+\n"
     ]
    }
   ],
   "source": [
    "!nvidia-smi"
   ]
  },
  {
   "cell_type": "code",
   "execution_count": 13,
   "metadata": {
    "execution": {
     "iopub.execute_input": "2022-03-07T11:42:22.453188Z",
     "iopub.status.busy": "2022-03-07T11:42:22.452559Z",
     "iopub.status.idle": "2022-03-07T11:42:22.458259Z",
     "shell.execute_reply": "2022-03-07T11:42:22.457729Z",
     "shell.execute_reply.started": "2022-03-07T11:42:22.453154Z"
    },
    "scrolled": true
   },
   "outputs": [
    {
     "data": {
      "text/plain": [
       "('2.2.2', 'gpu:0')"
      ]
     },
     "execution_count": 13,
     "metadata": {},
     "output_type": "execute_result"
    }
   ],
   "source": [
    "import paddle\n",
    "import matplotlib.pyplot as plt\n",
    "import matplotlib.image as mping\n",
    "import numpy as np\n",
    "\n",
    "paddle.__version__, paddle.device.get_device()"
   ]
  },
  {
   "cell_type": "markdown",
   "metadata": {},
   "source": [
    "### Data loading"
   ]
  },
  {
   "cell_type": "code",
   "execution_count": 3,
   "metadata": {
    "execution": {
     "iopub.execute_input": "2022-03-07T09:53:09.604297Z",
     "iopub.status.busy": "2022-03-07T09:53:09.603726Z",
     "iopub.status.idle": "2022-03-07T09:53:13.762452Z",
     "shell.execute_reply": "2022-03-07T09:53:13.761771Z",
     "shell.execute_reply.started": "2022-03-07T09:53:09.604254Z"
    },
    "scrolled": true
   },
   "outputs": [],
   "source": [
    "import paddle.vision.transforms as T\n",
    "from paddle.vision.datasets import FashionMNIST\n",
    "\n",
    "# loading and normalization\n",
    "# resize the shape to 224x224\n",
    "transform = [T.Resize(size=224), T.Normalize(mean=[127.5], std=[127.5])]\n",
    "transform = T.Compose(transform)\n",
    "\n",
    "# constructing traning set and test set\n",
    "fashionmnist_train = FashionMNIST(mode='train', transform=transform)\n",
    "fashionmnist_test = FashionMNIST(mode='test', transform=transform)"
   ]
  },
  {
   "cell_type": "code",
   "execution_count": 4,
   "metadata": {
    "execution": {
     "iopub.execute_input": "2022-03-07T09:53:13.763937Z",
     "iopub.status.busy": "2022-03-07T09:53:13.763471Z",
     "iopub.status.idle": "2022-03-07T09:53:13.768077Z",
     "shell.execute_reply": "2022-03-07T09:53:13.767573Z",
     "shell.execute_reply.started": "2022-03-07T09:53:13.763910Z"
    },
    "scrolled": true
   },
   "outputs": [
    {
     "data": {
      "text/plain": [
       "(60000, 10000)"
      ]
     },
     "execution_count": 4,
     "metadata": {},
     "output_type": "execute_result"
    }
   ],
   "source": [
    "# nums of train set and test set\n",
    "len(fashionmnist_train), len(fashionmnist_test)"
   ]
  },
  {
   "cell_type": "code",
   "execution_count": 5,
   "metadata": {
    "execution": {
     "iopub.execute_input": "2022-03-07T09:53:13.769113Z",
     "iopub.status.busy": "2022-03-07T09:53:13.768892Z",
     "iopub.status.idle": "2022-03-07T09:53:13.774599Z",
     "shell.execute_reply": "2022-03-07T09:53:13.774113Z",
     "shell.execute_reply.started": "2022-03-07T09:53:13.769092Z"
    },
    "scrolled": true
   },
   "outputs": [
    {
     "data": {
      "text/plain": [
       "((1, 224, 224), (1, 224, 224))"
      ]
     },
     "execution_count": 5,
     "metadata": {},
     "output_type": "execute_result"
    }
   ],
   "source": [
    "# As for one sample, channel = 1, height, weight = 224\n",
    "# for adapting to the input shape of Alexnet\n",
    "fashionmnist_train[0][0].shape, fashionmnist_test[0][0].shape"
   ]
  },
  {
   "cell_type": "code",
   "execution_count": 6,
   "metadata": {
    "execution": {
     "iopub.execute_input": "2022-03-07T09:53:13.775689Z",
     "iopub.status.busy": "2022-03-07T09:53:13.775444Z",
     "iopub.status.idle": "2022-03-07T09:53:13.779063Z",
     "shell.execute_reply": "2022-03-07T09:53:13.778546Z",
     "shell.execute_reply.started": "2022-03-07T09:53:13.775668Z"
    },
    "scrolled": true
   },
   "outputs": [],
   "source": [
    "train_loader = paddle.io.DataLoader(fashionmnist_train, batch_size=256, shuffle=True)\n",
    "test_loader = paddle.io.DataLoader(fashionmnist_test, batch_size=64, shuffle=False)"
   ]
  },
  {
   "cell_type": "markdown",
   "metadata": {},
   "source": [
    "### Model"
   ]
  },
  {
   "cell_type": "code",
   "execution_count": 7,
   "metadata": {
    "execution": {
     "iopub.execute_input": "2022-03-07T09:53:13.780005Z",
     "iopub.status.busy": "2022-03-07T09:53:13.779814Z",
     "iopub.status.idle": "2022-03-07T09:53:16.753151Z",
     "shell.execute_reply": "2022-03-07T09:53:16.752457Z",
     "shell.execute_reply.started": "2022-03-07T09:53:13.779986Z"
    },
    "scrolled": true
   },
   "outputs": [
    {
     "name": "stderr",
     "output_type": "stream",
     "text": [
      "W0307 17:53:13.791188  3679 device_context.cc:447] Please NOTE: device: 0, GPU Compute Capability: 7.0, Driver API Version: 11.0, Runtime API Version: 10.1\n",
      "W0307 17:53:13.796064  3679 device_context.cc:465] device: 0, cuDNN Version: 7.6.\n"
     ]
    }
   ],
   "source": [
    "import paddle.nn as nn\n",
    "\n",
    "alexnet = nn.Sequential(\n",
    "    # Here, we use a larger 11 x 11 window to capture objects. At the same\n",
    "    # time, we use a stride of 4 to greatly reduce the height and width of the\n",
    "    # output. Here, the number of output channels is much larger than that in\n",
    "    # LeNet\n",
    "    nn.Conv2D(in_channels=1, out_channels=96, kernel_size=11, stride=4, padding=1), nn.ReLU(),\n",
    "    nn.MaxPool2D(kernel_size=3, stride=2), \n",
    "    # Make the convolution window smaller, set padding to 2 for consistent\n",
    "    # height and width across the input and output, and increase the number of\n",
    "    # output channels\n",
    "    nn.Conv2D(in_channels=96, out_channels=256, kernel_size=5, padding=2), nn.ReLU(),\n",
    "    nn.MaxPool2D(kernel_size=3, stride=2),\n",
    "    # Use three successive convolutional layers and a smaller convolution\n",
    "    # window. Except for the final convolutional layer, the number of output\n",
    "    # channels is further increased. Pooling layers are not used to reduce the\n",
    "    # height and width of input after the first two convolutional layers\n",
    "    nn.Conv2D(in_channels=256, out_channels=384, kernel_size=3, padding=1), nn.ReLU(),\n",
    "    nn.Conv2D(in_channels=384, out_channels=384, kernel_size=3, padding=1), nn.ReLU(),\n",
    "    nn.Conv2D(in_channels=384, out_channels=256, kernel_size=3, padding=1), nn.ReLU(),\n",
    "    nn.MaxPool2D(kernel_size=3, stride=2),\n",
    "    nn.Flatten(),\n",
    "    # Here, the number of outputs of the fully-connected layer is several\n",
    "    # times larger than that in LeNet. Use the dropout layer to mitigate\n",
    "    # overfitting\n",
    "    nn.Linear(in_features=6400, out_features=4096), nn.ReLU(),\n",
    "    nn.Dropout(p=0.5),\n",
    "    nn.Linear(in_features=4096, out_features=4096), nn.ReLU(),\n",
    "    nn.Dropout(p=0.5), \n",
    "    # Output layer. Since we are using Fashion-MNIST, the number of classes is\n",
    "    # 10, instead of 1000 as in the paper\n",
    "    nn.Linear(in_features=4096, out_features=10)) "
   ]
  },
  {
   "cell_type": "code",
   "execution_count": 8,
   "metadata": {
    "execution": {
     "iopub.execute_input": "2022-03-07T09:53:16.754847Z",
     "iopub.status.busy": "2022-03-07T09:53:16.754297Z",
     "iopub.status.idle": "2022-03-07T09:53:16.760076Z",
     "shell.execute_reply": "2022-03-07T09:53:16.759242Z",
     "shell.execute_reply.started": "2022-03-07T09:53:16.754797Z"
    },
    "scrolled": true
   },
   "outputs": [
    {
     "name": "stdout",
     "output_type": "stream",
     "text": [
      "Sequential(\n",
      "  (0): Conv2D(1, 96, kernel_size=[11, 11], stride=[4, 4], padding=1, data_format=NCHW)\n",
      "  (1): ReLU()\n",
      "  (2): MaxPool2D(kernel_size=3, stride=2, padding=0)\n",
      "  (3): Conv2D(96, 256, kernel_size=[5, 5], padding=2, data_format=NCHW)\n",
      "  (4): ReLU()\n",
      "  (5): MaxPool2D(kernel_size=3, stride=2, padding=0)\n",
      "  (6): Conv2D(256, 384, kernel_size=[3, 3], padding=1, data_format=NCHW)\n",
      "  (7): ReLU()\n",
      "  (8): Conv2D(384, 384, kernel_size=[3, 3], padding=1, data_format=NCHW)\n",
      "  (9): ReLU()\n",
      "  (10): Conv2D(384, 256, kernel_size=[3, 3], padding=1, data_format=NCHW)\n",
      "  (11): ReLU()\n",
      "  (12): MaxPool2D(kernel_size=3, stride=2, padding=0)\n",
      "  (13): Flatten()\n",
      "  (14): Linear(in_features=6400, out_features=4096, dtype=float32)\n",
      "  (15): ReLU()\n",
      "  (16): Dropout(p=0.5, axis=None, mode=upscale_in_train)\n",
      "  (17): Linear(in_features=4096, out_features=4096, dtype=float32)\n",
      "  (18): ReLU()\n",
      "  (19): Dropout(p=0.5, axis=None, mode=upscale_in_train)\n",
      "  (20): Linear(in_features=4096, out_features=10, dtype=float32)\n",
      ")\n"
     ]
    }
   ],
   "source": [
    "print(alexnet)"
   ]
  },
  {
   "cell_type": "code",
   "execution_count": 9,
   "metadata": {
    "execution": {
     "iopub.execute_input": "2022-03-07T09:53:16.761944Z",
     "iopub.status.busy": "2022-03-07T09:53:16.761344Z",
     "iopub.status.idle": "2022-03-07T09:53:16.776413Z",
     "shell.execute_reply": "2022-03-07T09:53:16.775603Z",
     "shell.execute_reply.started": "2022-03-07T09:53:16.761901Z"
    },
    "scrolled": true
   },
   "outputs": [
    {
     "name": "stdout",
     "output_type": "stream",
     "text": [
      "---------------------------------------------------------------------------\n",
      " Layer (type)       Input Shape          Output Shape         Param #    \n",
      "===========================================================================\n",
      "   Conv2D-1      [[1, 1, 224, 224]]    [1, 96, 54, 54]        11,712     \n",
      "    ReLU-1       [[1, 96, 54, 54]]     [1, 96, 54, 54]           0       \n",
      "  MaxPool2D-1    [[1, 96, 54, 54]]     [1, 96, 26, 26]           0       \n",
      "   Conv2D-2      [[1, 96, 26, 26]]     [1, 256, 26, 26]       614,656    \n",
      "    ReLU-2       [[1, 256, 26, 26]]    [1, 256, 26, 26]          0       \n",
      "  MaxPool2D-2    [[1, 256, 26, 26]]    [1, 256, 12, 12]          0       \n",
      "   Conv2D-3      [[1, 256, 12, 12]]    [1, 384, 12, 12]       885,120    \n",
      "    ReLU-3       [[1, 384, 12, 12]]    [1, 384, 12, 12]          0       \n",
      "   Conv2D-4      [[1, 384, 12, 12]]    [1, 384, 12, 12]      1,327,488   \n",
      "    ReLU-4       [[1, 384, 12, 12]]    [1, 384, 12, 12]          0       \n",
      "   Conv2D-5      [[1, 384, 12, 12]]    [1, 256, 12, 12]       884,992    \n",
      "    ReLU-5       [[1, 256, 12, 12]]    [1, 256, 12, 12]          0       \n",
      "  MaxPool2D-3    [[1, 256, 12, 12]]     [1, 256, 5, 5]           0       \n",
      "   Flatten-1      [[1, 256, 5, 5]]        [1, 6400]              0       \n",
      "   Linear-1         [[1, 6400]]           [1, 4096]         26,218,496   \n",
      "    ReLU-6          [[1, 4096]]           [1, 4096]              0       \n",
      "   Dropout-1        [[1, 4096]]           [1, 4096]              0       \n",
      "   Linear-2         [[1, 4096]]           [1, 4096]         16,781,312   \n",
      "    ReLU-7          [[1, 4096]]           [1, 4096]              0       \n",
      "   Dropout-2        [[1, 4096]]           [1, 4096]              0       \n",
      "   Linear-3         [[1, 4096]]            [1, 10]            40,970     \n",
      "===========================================================================\n",
      "Total params: 46,764,746\n",
      "Trainable params: 46,764,746\n",
      "Non-trainable params: 0\n",
      "---------------------------------------------------------------------------\n",
      "Input size (MB): 0.19\n",
      "Forward/backward pass size (MB): 10.22\n",
      "Params size (MB): 178.39\n",
      "Estimated Total Size (MB): 188.81\n",
      "---------------------------------------------------------------------------\n",
      "\n"
     ]
    },
    {
     "data": {
      "text/plain": [
       "{'total_params': 46764746, 'trainable_params': 46764746}"
      ]
     },
     "execution_count": 9,
     "metadata": {},
     "output_type": "execute_result"
    }
   ],
   "source": [
    "# instantiation\n",
    "model = paddle.Model(alexnet)\n",
    "\n",
    "# visualization of the model workflow\n",
    "model.summary((-1, 1, 224, 224)) # [N C H W]"
   ]
  },
  {
   "cell_type": "code",
   "execution_count": 10,
   "metadata": {
    "execution": {
     "iopub.execute_input": "2022-03-07T09:53:16.778267Z",
     "iopub.status.busy": "2022-03-07T09:53:16.777617Z",
     "iopub.status.idle": "2022-03-07T09:53:16.781374Z",
     "shell.execute_reply": "2022-03-07T09:53:16.780563Z",
     "shell.execute_reply.started": "2022-03-07T09:53:16.778224Z"
    },
    "scrolled": true
   },
   "outputs": [],
   "source": [
    "# X = paddle.to_tensor(np.random.rand(1, 1, 224, 224).astype('float32'))\n",
    "# for layer in alexnet:\n",
    "#     X = layer(X)\n",
    "#     print(layer.__class__.__name__, 'output shape:\\t', X.shape)"
   ]
  },
  {
   "cell_type": "markdown",
   "metadata": {},
   "source": [
    "### Training"
   ]
  },
  {
   "cell_type": "code",
   "execution_count": 11,
   "metadata": {
    "execution": {
     "iopub.execute_input": "2022-03-07T09:53:16.784863Z",
     "iopub.status.busy": "2022-03-07T09:53:16.784398Z",
     "iopub.status.idle": "2022-03-07T10:04:14.210074Z",
     "shell.execute_reply": "2022-03-07T10:04:14.209449Z",
     "shell.execute_reply.started": "2022-03-07T09:53:16.784814Z"
    },
    "scrolled": true
   },
   "outputs": [
    {
     "name": "stdout",
     "output_type": "stream",
     "text": [
      "The loss value printed in the log is the current step, and the metric is the average value of previous steps.\n",
      "Epoch 1/15\n"
     ]
    },
    {
     "name": "stderr",
     "output_type": "stream",
     "text": [
      "/opt/conda/envs/python35-paddle120-env/lib/python3.7/site-packages/paddle/fluid/layers/utils.py:77: DeprecationWarning: Using or importing the ABCs from 'collections' instead of from 'collections.abc' is deprecated, and in 3.8 it will stop working\n",
      "  return (isinstance(seq, collections.Sequence) and\n"
     ]
    },
    {
     "name": "stdout",
     "output_type": "stream",
     "text": [
      "step 235/235 [==============================] - loss: 0.3861 - acc: 0.7549 - 187ms/step          \n",
      "Epoch 2/15\n",
      "step 235/235 [==============================] - loss: 0.2643 - acc: 0.8714 - 192ms/step          \n",
      "Epoch 3/15\n",
      "step 235/235 [==============================] - loss: 0.2707 - acc: 0.8868 - 189ms/step          \n",
      "Epoch 4/15\n",
      "step 235/235 [==============================] - loss: 0.3754 - acc: 0.8973 - 183ms/step          \n",
      "Epoch 5/15\n",
      "step 235/235 [==============================] - loss: 0.2004 - acc: 0.9069 - 185ms/step          \n",
      "Epoch 6/15\n",
      "step 235/235 [==============================] - loss: 0.3146 - acc: 0.9129 - 187ms/step          \n",
      "Epoch 7/15\n",
      "step 235/235 [==============================] - loss: 0.2397 - acc: 0.9158 - 184ms/step          \n",
      "Epoch 8/15\n",
      "step 235/235 [==============================] - loss: 0.2696 - acc: 0.9209 - 187ms/step          \n",
      "Epoch 9/15\n",
      "step 235/235 [==============================] - loss: 0.1965 - acc: 0.9254 - 185ms/step          \n",
      "Epoch 10/15\n",
      "step 235/235 [==============================] - loss: 0.0955 - acc: 0.9301 - 185ms/step          \n",
      "Epoch 11/15\n",
      "step 235/235 [==============================] - loss: 0.2755 - acc: 0.9329 - 185ms/step          \n",
      "Epoch 12/15\n",
      "step 235/235 [==============================] - loss: 0.2202 - acc: 0.9330 - 187ms/step          \n",
      "Epoch 13/15\n",
      "step 235/235 [==============================] - loss: 0.0967 - acc: 0.9341 - 186ms/step          \n",
      "Epoch 14/15\n",
      "step 235/235 [==============================] - loss: 0.1872 - acc: 0.9405 - 188ms/step          \n",
      "Epoch 15/15\n",
      "step 235/235 [==============================] - loss: 0.0703 - acc: 0.9421 - 186ms/step          \n"
     ]
    }
   ],
   "source": [
    "# optimizer and loss\n",
    "model.prepare(optimizer=paddle.optimizer.Adam(parameters=model.parameters(), learning_rate=1e-3),\n",
    "              loss=nn.CrossEntropyLoss(),\n",
    "              metrics=paddle.metric.Accuracy())\n",
    "\n",
    "# training\n",
    "model.fit(train_loader,\n",
    "        # eval_data = test_loader\n",
    "        epochs=15,\n",
    "        verbose=1,\n",
    "        )"
   ]
  },
  {
   "cell_type": "code",
   "execution_count": 12,
   "metadata": {
    "execution": {
     "iopub.execute_input": "2022-03-07T10:04:14.211538Z",
     "iopub.status.busy": "2022-03-07T10:04:14.211057Z",
     "iopub.status.idle": "2022-03-07T10:04:50.951846Z",
     "shell.execute_reply": "2022-03-07T10:04:50.951169Z",
     "shell.execute_reply.started": "2022-03-07T10:04:14.211511Z"
    },
    "scrolled": true
   },
   "outputs": [
    {
     "name": "stdout",
     "output_type": "stream",
     "text": [
      "Eval begin...\n",
      "step 10000/10000 [==============================] - loss: 2.6923 - acc: 0.9131 - 4ms/step          \n",
      "Eval samples: 10000\n"
     ]
    },
    {
     "data": {
      "text/plain": [
       "{'loss': [2.6923413], 'acc': 0.9131}"
      ]
     },
     "execution_count": 12,
     "metadata": {},
     "output_type": "execute_result"
    }
   ],
   "source": [
    "model.evaluate(fashionmnist_test, verbose=1)"
   ]
  },
  {
   "cell_type": "code",
   "execution_count": null,
   "metadata": {
    "scrolled": true
   },
   "outputs": [],
   "source": []
  },
  {
   "cell_type": "code",
   "execution_count": null,
   "metadata": {
    "scrolled": true
   },
   "outputs": [],
   "source": []
  },
  {
   "cell_type": "code",
   "execution_count": null,
   "metadata": {
    "scrolled": true
   },
   "outputs": [],
   "source": []
  },
  {
   "cell_type": "code",
   "execution_count": null,
   "metadata": {
    "scrolled": true
   },
   "outputs": [],
   "source": []
  },
  {
   "cell_type": "code",
   "execution_count": null,
   "metadata": {
    "scrolled": true
   },
   "outputs": [],
   "source": []
  }
 ],
 "metadata": {
  "kernelspec": {
   "display_name": "Python 3",
   "language": "python",
   "name": "py35-paddle1.2.0"
  },
  "language_info": {
   "codemirror_mode": {
    "name": "ipython",
    "version": 3
   },
   "file_extension": ".py",
   "mimetype": "text/x-python",
   "name": "python",
   "nbconvert_exporter": "python",
   "pygments_lexer": "ipython3",
   "version": "3.7.4"
  }
 },
 "nbformat": 4,
 "nbformat_minor": 4
}
