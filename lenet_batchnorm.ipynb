{
 "cells": [
  {
   "cell_type": "markdown",
   "id": "d30648c0-5f81-4826-b8ac-5f29572003be",
   "metadata": {},
   "source": [
    "## LeNet with BatchNorm"
   ]
  },
  {
   "cell_type": "code",
   "execution_count": 1,
   "id": "b3db9d93-24da-415f-96db-066613b77819",
   "metadata": {
    "execution": {
     "iopub.execute_input": "2022-03-19T11:24:58.397475Z",
     "iopub.status.busy": "2022-03-19T11:24:58.397002Z",
     "iopub.status.idle": "2022-03-19T11:24:58.665403Z",
     "shell.execute_reply": "2022-03-19T11:24:58.664676Z",
     "shell.execute_reply.started": "2022-03-19T11:24:58.397424Z"
    },
    "scrolled": true
   },
   "outputs": [
    {
     "name": "stdout",
     "output_type": "stream",
     "text": [
      "Sat Mar 19 19:24:58 2022       \n",
      "+-----------------------------------------------------------------------------+\n",
      "| NVIDIA-SMI 418.67       Driver Version: 418.67       CUDA Version: 10.1     |\n",
      "|-------------------------------+----------------------+----------------------+\n",
      "| GPU  Name        Persistence-M| Bus-Id        Disp.A | Volatile Uncorr. ECC |\n",
      "| Fan  Temp  Perf  Pwr:Usage/Cap|         Memory-Usage | GPU-Util  Compute M. |\n",
      "|===============================+======================+======================|\n",
      "|   0  Tesla V100-SXM2...  On   | 00000000:00:0B.0 Off |                    0 |\n",
      "| N/A   40C    P0    44W / 300W |      0MiB / 32480MiB |      0%      Default |\n",
      "+-------------------------------+----------------------+----------------------+\n",
      "                                                                               \n",
      "+-----------------------------------------------------------------------------+\n",
      "| Processes:                                                       GPU Memory |\n",
      "|  GPU       PID   Type   Process name                             Usage      |\n",
      "|=============================================================================|\n",
      "|  No running processes found                                                 |\n",
      "+-----------------------------------------------------------------------------+\n"
     ]
    }
   ],
   "source": [
    "!nvidia-smi"
   ]
  },
  {
   "cell_type": "code",
   "execution_count": 2,
   "id": "1e7ced32-137f-4299-9dba-b5f1652f3218",
   "metadata": {
    "execution": {
     "iopub.execute_input": "2022-03-19T11:24:58.667967Z",
     "iopub.status.busy": "2022-03-19T11:24:58.667572Z",
     "iopub.status.idle": "2022-03-19T11:24:59.996513Z",
     "shell.execute_reply": "2022-03-19T11:24:59.995335Z",
     "shell.execute_reply.started": "2022-03-19T11:24:58.667920Z"
    },
    "scrolled": true
   },
   "outputs": [
    {
     "data": {
      "text/plain": [
       "('2.2.2', 'gpu:0')"
      ]
     },
     "execution_count": 2,
     "metadata": {},
     "output_type": "execute_result"
    }
   ],
   "source": [
    "import paddle\r\n",
    "import numpy as np\r\n",
    "\r\n",
    "paddle.__version__, paddle.device.get_device()"
   ]
  },
  {
   "cell_type": "markdown",
   "id": "f4a4427b-b16f-47f7-99f0-9c6b0e3e5ed9",
   "metadata": {},
   "source": [
    "### Data loading"
   ]
  },
  {
   "cell_type": "code",
   "execution_count": 3,
   "id": "1bd6076a-d9ee-497c-971c-f2620bf0082e",
   "metadata": {
    "execution": {
     "iopub.execute_input": "2022-03-19T11:24:59.998184Z",
     "iopub.status.busy": "2022-03-19T11:24:59.997790Z",
     "iopub.status.idle": "2022-03-19T11:25:04.231241Z",
     "shell.execute_reply": "2022-03-19T11:25:04.230495Z",
     "shell.execute_reply.started": "2022-03-19T11:24:59.998148Z"
    },
    "scrolled": true
   },
   "outputs": [],
   "source": [
    "import paddle.vision.transforms as T\r\n",
    "from paddle.vision.datasets import FashionMNIST\r\n",
    "\r\n",
    "# loading and normalization\r\n",
    "transform = T.Normalize(mean=[127.5], std=[127.5])  \r\n",
    "\r\n",
    "# constructing traning set and test set\r\n",
    "fashionmnist_train = FashionMNIST(mode='train', transform=transform)\r\n",
    "fashionmnist_test = FashionMNIST(mode='test', transform=transform)"
   ]
  },
  {
   "cell_type": "code",
   "execution_count": 4,
   "id": "f311ef14-e945-48c3-86bf-abc48500bf60",
   "metadata": {
    "execution": {
     "iopub.execute_input": "2022-03-19T11:25:04.232806Z",
     "iopub.status.busy": "2022-03-19T11:25:04.232331Z",
     "iopub.status.idle": "2022-03-19T11:25:04.237255Z",
     "shell.execute_reply": "2022-03-19T11:25:04.236412Z",
     "shell.execute_reply.started": "2022-03-19T11:25:04.232777Z"
    },
    "scrolled": true
   },
   "outputs": [
    {
     "data": {
      "text/plain": [
       "(60000, 10000)"
      ]
     },
     "execution_count": 4,
     "metadata": {},
     "output_type": "execute_result"
    }
   ],
   "source": [
    "# nums of train set and test set\r\n",
    "len(fashionmnist_train), len(fashionmnist_test)"
   ]
  },
  {
   "cell_type": "code",
   "execution_count": 5,
   "id": "2f8205d5-324f-4127-8da2-30e1a689fffc",
   "metadata": {
    "execution": {
     "iopub.execute_input": "2022-03-19T11:25:04.238310Z",
     "iopub.status.busy": "2022-03-19T11:25:04.238059Z",
     "iopub.status.idle": "2022-03-19T11:25:04.242957Z",
     "shell.execute_reply": "2022-03-19T11:25:04.242442Z",
     "shell.execute_reply.started": "2022-03-19T11:25:04.238285Z"
    },
    "scrolled": true
   },
   "outputs": [
    {
     "data": {
      "text/plain": [
       "(1, 28, 28)"
      ]
     },
     "execution_count": 5,
     "metadata": {},
     "output_type": "execute_result"
    }
   ],
   "source": [
    "# As for one sample, channel = 1, height, weight = 28\r\n",
    "fashionmnist_train[0][0].shape"
   ]
  },
  {
   "cell_type": "code",
   "execution_count": 6,
   "id": "20ee38fd-5162-404f-9f8a-0b26038dcf2e",
   "metadata": {
    "execution": {
     "iopub.execute_input": "2022-03-19T11:25:04.243952Z",
     "iopub.status.busy": "2022-03-19T11:25:04.243723Z",
     "iopub.status.idle": "2022-03-19T11:25:04.247732Z",
     "shell.execute_reply": "2022-03-19T11:25:04.247014Z",
     "shell.execute_reply.started": "2022-03-19T11:25:04.243929Z"
    },
    "scrolled": true
   },
   "outputs": [],
   "source": [
    "train_loader = paddle.io.DataLoader(fashionmnist_train, batch_size=256, shuffle=True)\r\n",
    "test_loader = paddle.io.DataLoader(fashionmnist_test, batch_size=64, shuffle=False)"
   ]
  },
  {
   "cell_type": "markdown",
   "id": "f4152298-2fe3-4b94-ab16-cf305cb6cad0",
   "metadata": {},
   "source": [
    "### Model"
   ]
  },
  {
   "cell_type": "code",
   "execution_count": 7,
   "id": "0e89b836-14f5-462c-a352-334bba859d72",
   "metadata": {
    "execution": {
     "iopub.execute_input": "2022-03-19T11:25:04.248685Z",
     "iopub.status.busy": "2022-03-19T11:25:04.248468Z",
     "iopub.status.idle": "2022-03-19T11:25:08.984212Z",
     "shell.execute_reply": "2022-03-19T11:25:08.983549Z",
     "shell.execute_reply.started": "2022-03-19T11:25:04.248663Z"
    },
    "scrolled": true
   },
   "outputs": [
    {
     "name": "stderr",
     "output_type": "stream",
     "text": [
      "W0319 19:25:04.261478  2096 device_context.cc:447] Please NOTE: device: 0, GPU Compute Capability: 7.0, Driver API Version: 10.1, Runtime API Version: 10.1\n",
      "W0319 19:25:04.265938  2096 device_context.cc:465] device: 0, cuDNN Version: 7.6.\n"
     ]
    }
   ],
   "source": [
    "from paddle import nn\r\n",
    "\r\n",
    "bn_lenet = net = nn.Sequential(\r\n",
    "    nn.Conv2D(1, 6, kernel_size=5), nn.BatchNorm2D(6), nn.Sigmoid(),\r\n",
    "    nn.AvgPool2D(kernel_size=2, stride=2),\r\n",
    "    nn.Conv2D(6, 16, kernel_size=5), nn.BatchNorm2D(16), nn.Sigmoid(),\r\n",
    "    nn.AvgPool2D(kernel_size=2, stride=2), nn.Flatten(),\r\n",
    "    nn.Linear(256, 120), nn.BatchNorm1D(120), nn.Sigmoid(),\r\n",
    "    nn.Linear(120, 84), nn.BatchNorm1D(84), nn.Sigmoid(),\r\n",
    "    nn.Linear(84, 10))\r\n",
    "    "
   ]
  },
  {
   "cell_type": "code",
   "execution_count": 8,
   "id": "3b59d00d-00d7-4e39-8565-83dcc7b35d54",
   "metadata": {
    "execution": {
     "iopub.execute_input": "2022-03-19T11:25:08.986647Z",
     "iopub.status.busy": "2022-03-19T11:25:08.986171Z",
     "iopub.status.idle": "2022-03-19T11:25:08.998336Z",
     "shell.execute_reply": "2022-03-19T11:25:08.997843Z",
     "shell.execute_reply.started": "2022-03-19T11:25:08.986614Z"
    },
    "scrolled": true
   },
   "outputs": [
    {
     "name": "stdout",
     "output_type": "stream",
     "text": [
      "---------------------------------------------------------------------------\n",
      " Layer (type)       Input Shape          Output Shape         Param #    \n",
      "===========================================================================\n",
      "   Conv2D-1       [[1, 1, 28, 28]]      [1, 6, 24, 24]          156      \n",
      " BatchNorm2D-1    [[1, 6, 24, 24]]      [1, 6, 24, 24]          24       \n",
      "   Sigmoid-1      [[1, 6, 24, 24]]      [1, 6, 24, 24]           0       \n",
      "  AvgPool2D-1     [[1, 6, 24, 24]]      [1, 6, 12, 12]           0       \n",
      "   Conv2D-2       [[1, 6, 12, 12]]      [1, 16, 8, 8]          2,416     \n",
      " BatchNorm2D-2    [[1, 16, 8, 8]]       [1, 16, 8, 8]           64       \n",
      "   Sigmoid-2      [[1, 16, 8, 8]]       [1, 16, 8, 8]            0       \n",
      "  AvgPool2D-2     [[1, 16, 8, 8]]       [1, 16, 4, 4]            0       \n",
      "   Flatten-1      [[1, 16, 4, 4]]          [1, 256]              0       \n",
      "   Linear-1          [[1, 256]]            [1, 120]           30,840     \n",
      " BatchNorm1D-1       [[1, 120]]            [1, 120]             480      \n",
      "   Sigmoid-3         [[1, 120]]            [1, 120]              0       \n",
      "   Linear-2          [[1, 120]]            [1, 84]            10,164     \n",
      " BatchNorm1D-2       [[1, 84]]             [1, 84]              336      \n",
      "   Sigmoid-4         [[1, 84]]             [1, 84]               0       \n",
      "   Linear-3          [[1, 84]]             [1, 10]              850      \n",
      "===========================================================================\n",
      "Total params: 45,330\n",
      "Trainable params: 44,426\n",
      "Non-trainable params: 904\n",
      "---------------------------------------------------------------------------\n",
      "Input size (MB): 0.00\n",
      "Forward/backward pass size (MB): 0.12\n",
      "Params size (MB): 0.17\n",
      "Estimated Total Size (MB): 0.29\n",
      "---------------------------------------------------------------------------\n",
      "\n"
     ]
    },
    {
     "data": {
      "text/plain": [
       "{'total_params': 45330, 'trainable_params': 44426}"
      ]
     },
     "execution_count": 8,
     "metadata": {},
     "output_type": "execute_result"
    }
   ],
   "source": [
    "# instantiation\r\n",
    "model = paddle.Model(bn_lenet)\r\n",
    "\r\n",
    "# visualization of the model workflow\r\n",
    "model.summary((-1, 1, 28, 28)) # [N C H W]"
   ]
  },
  {
   "cell_type": "markdown",
   "id": "c3983c37-836f-404f-8c35-88a821af3baf",
   "metadata": {},
   "source": [
    "### Training"
   ]
  },
  {
   "cell_type": "code",
   "execution_count": 9,
   "id": "217e708b-d466-46e6-84ee-3b1bd5329e89",
   "metadata": {
    "execution": {
     "iopub.execute_input": "2022-03-19T11:25:08.999544Z",
     "iopub.status.busy": "2022-03-19T11:25:08.999142Z",
     "iopub.status.idle": "2022-03-19T11:27:17.949831Z",
     "shell.execute_reply": "2022-03-19T11:27:17.949229Z",
     "shell.execute_reply.started": "2022-03-19T11:25:08.999519Z"
    },
    "scrolled": true
   },
   "outputs": [
    {
     "name": "stdout",
     "output_type": "stream",
     "text": [
      "The loss value printed in the log is the current step, and the metric is the average value of previous steps.\n",
      "Epoch 1/20\n"
     ]
    },
    {
     "name": "stderr",
     "output_type": "stream",
     "text": [
      "/opt/conda/envs/python35-paddle120-env/lib/python3.7/site-packages/paddle/fluid/layers/utils.py:77: DeprecationWarning: Using or importing the ABCs from 'collections' instead of from 'collections.abc' is deprecated, and in 3.8 it will stop working\n",
      "  return (isinstance(seq, collections.Sequence) and\n",
      "/opt/conda/envs/python35-paddle120-env/lib/python3.7/site-packages/paddle/nn/layer/norm.py:653: UserWarning: When training, we now always track global mean and variance.\n",
      "  \"When training, we now always track global mean and variance.\")\n"
     ]
    },
    {
     "name": "stdout",
     "output_type": "stream",
     "text": [
      "step 235/235 [==============================] - loss: 0.6304 - acc: 0.7492 - 28ms/step          \n",
      "Epoch 2/20\n",
      "step 235/235 [==============================] - loss: 0.3582 - acc: 0.8367 - 28ms/step          \n",
      "Epoch 3/20\n",
      "step 235/235 [==============================] - loss: 0.4655 - acc: 0.8541 - 27ms/step          \n",
      "Epoch 4/20\n",
      "step 235/235 [==============================] - loss: 0.2740 - acc: 0.8659 - 28ms/step          \n",
      "Epoch 5/20\n",
      "step 235/235 [==============================] - loss: 0.3584 - acc: 0.8737 - 27ms/step          \n",
      "Epoch 6/20\n",
      "step 235/235 [==============================] - loss: 0.3444 - acc: 0.8808 - 27ms/step          \n",
      "Epoch 7/20\n",
      "step 235/235 [==============================] - loss: 0.3056 - acc: 0.8843 - 28ms/step          \n",
      "Epoch 8/20\n",
      "step 235/235 [==============================] - loss: 0.2926 - acc: 0.8899 - 28ms/step          \n",
      "Epoch 9/20\n",
      "step 235/235 [==============================] - loss: 0.2758 - acc: 0.8928 - 28ms/step          \n",
      "Epoch 10/20\n",
      "step 235/235 [==============================] - loss: 0.3456 - acc: 0.8965 - 28ms/step          \n",
      "Epoch 11/20\n",
      "step 235/235 [==============================] - loss: 0.2512 - acc: 0.8980 - 27ms/step          \n",
      "Epoch 12/20\n",
      "step 235/235 [==============================] - loss: 0.2621 - acc: 0.9023 - 27ms/step          \n",
      "Epoch 13/20\n",
      "step 235/235 [==============================] - loss: 0.2263 - acc: 0.9057 - 27ms/step          \n",
      "Epoch 14/20\n",
      "step 235/235 [==============================] - loss: 0.2705 - acc: 0.9060 - 27ms/step          \n",
      "Epoch 15/20\n",
      "step 235/235 [==============================] - loss: 0.3353 - acc: 0.9087 - 27ms/step          \n",
      "Epoch 16/20\n",
      "step 235/235 [==============================] - loss: 0.1836 - acc: 0.9119 - 27ms/step          \n",
      "Epoch 17/20\n",
      "step 235/235 [==============================] - loss: 0.2545 - acc: 0.9137 - 28ms/step          \n",
      "Epoch 18/20\n",
      "step 235/235 [==============================] - loss: 0.2315 - acc: 0.9145 - 28ms/step          \n",
      "Epoch 19/20\n",
      "step 235/235 [==============================] - loss: 0.3356 - acc: 0.9176 - 28ms/step          \n",
      "Epoch 20/20\n",
      "step 235/235 [==============================] - loss: 0.2151 - acc: 0.9191 - 27ms/step          \n"
     ]
    }
   ],
   "source": [
    "# optimizer and loss\r\n",
    "model.prepare(optimizer=paddle.optimizer.Adam(parameters=model.parameters(), learning_rate=1e-3),\r\n",
    "              loss=nn.CrossEntropyLoss(),\r\n",
    "              metrics=paddle.metric.Accuracy())\r\n",
    "\r\n",
    "# training\r\n",
    "model.fit(train_loader,\r\n",
    "        # eval_data = test_loader\r\n",
    "        epochs=20,\r\n",
    "        verbose=1,\r\n",
    "        )"
   ]
  },
  {
   "cell_type": "code",
   "execution_count": 10,
   "id": "b6a840cc-6ee1-4531-a00c-efa7dd7bd266",
   "metadata": {
    "execution": {
     "iopub.execute_input": "2022-03-19T11:27:17.951284Z",
     "iopub.status.busy": "2022-03-19T11:27:17.950816Z",
     "iopub.status.idle": "2022-03-19T11:27:19.264281Z",
     "shell.execute_reply": "2022-03-19T11:27:19.263537Z",
     "shell.execute_reply.started": "2022-03-19T11:27:17.951255Z"
    },
    "scrolled": true
   },
   "outputs": [
    {
     "name": "stdout",
     "output_type": "stream",
     "text": [
      "Eval begin...\n",
      "step 157/157 [==============================] - loss: 0.4371 - acc: 0.8902 - 8ms/step          \n",
      "Eval samples: 10000\n"
     ]
    },
    {
     "data": {
      "text/plain": [
       "{'loss': [0.43707958], 'acc': 0.8902}"
      ]
     },
     "execution_count": 10,
     "metadata": {},
     "output_type": "execute_result"
    }
   ],
   "source": [
    "model.evaluate(fashionmnist_test, batch_size=64, verbose=1)"
   ]
  },
  {
   "cell_type": "code",
   "execution_count": null,
   "id": "aa85b6f9-5b75-47cf-a578-53e0ac444110",
   "metadata": {
    "scrolled": true
   },
   "outputs": [],
   "source": []
  },
  {
   "cell_type": "code",
   "execution_count": null,
   "id": "6a94015e-59c8-4803-8530-dd18b07221b0",
   "metadata": {
    "scrolled": true
   },
   "outputs": [],
   "source": []
  }
 ],
 "metadata": {
  "kernelspec": {
   "display_name": "Python 3",
   "language": "python",
   "name": "py35-paddle1.2.0"
  },
  "language_info": {
   "codemirror_mode": {
    "name": "ipython",
    "version": 3
   },
   "file_extension": ".py",
   "mimetype": "text/x-python",
   "name": "python",
   "nbconvert_exporter": "python",
   "pygments_lexer": "ipython3",
   "version": "3.7.4"
  }
 },
 "nbformat": 4,
 "nbformat_minor": 5
}
