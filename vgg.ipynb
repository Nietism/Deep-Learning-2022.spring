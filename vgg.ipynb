{
 "cells": [
  {
   "cell_type": "markdown",
   "id": "f6eeed3c-ebaf-46cd-8ad7-d3b3b21732d8",
   "metadata": {},
   "source": [
    "## VGG"
   ]
  },
  {
   "cell_type": "code",
   "execution_count": 1,
   "id": "c645a72f-5ddc-4d1f-b935-c430be30baa7",
   "metadata": {
    "execution": {
     "iopub.execute_input": "2022-03-07T11:20:42.078857Z",
     "iopub.status.busy": "2022-03-07T11:20:42.078438Z",
     "iopub.status.idle": "2022-03-07T11:20:42.534060Z",
     "shell.execute_reply": "2022-03-07T11:20:42.533360Z",
     "shell.execute_reply.started": "2022-03-07T11:20:42.078823Z"
    },
    "scrolled": true
   },
   "outputs": [
    {
     "name": "stdout",
     "output_type": "stream",
     "text": [
      "Mon Mar  7 19:20:42 2022       \n",
      "+-----------------------------------------------------------------------------+\n",
      "| NVIDIA-SMI 450.51.06    Driver Version: 450.51.06    CUDA Version: 11.0     |\n",
      "|-------------------------------+----------------------+----------------------+\n",
      "| GPU  Name        Persistence-M| Bus-Id        Disp.A | Volatile Uncorr. ECC |\n",
      "| Fan  Temp  Perf  Pwr:Usage/Cap|         Memory-Usage | GPU-Util  Compute M. |\n",
      "|                               |                      |               MIG M. |\n",
      "|===============================+======================+======================|\n",
      "|   0  Tesla V100-SXM2...  Off  | 00000000:00:09.0 Off |                    0 |\n",
      "| N/A   56C    P0    56W / 300W |   3749MiB / 16160MiB |      0%      Default |\n",
      "|                               |                      |                  N/A |\n",
      "+-------------------------------+----------------------+----------------------+\n",
      "                                                                               \n",
      "+-----------------------------------------------------------------------------+\n",
      "| Processes:                                                                  |\n",
      "|  GPU   GI   CI        PID   Type   Process name                  GPU Memory |\n",
      "|        ID   ID                                                   Usage      |\n",
      "|=============================================================================|\n",
      "+-----------------------------------------------------------------------------+\n"
     ]
    }
   ],
   "source": [
    "!nvidia-smi"
   ]
  },
  {
   "cell_type": "code",
   "execution_count": 2,
   "id": "72dc6f09-ea91-485f-a5da-53df9c3b4e2f",
   "metadata": {
    "execution": {
     "iopub.execute_input": "2022-03-07T11:20:42.536430Z",
     "iopub.status.busy": "2022-03-07T11:20:42.535871Z",
     "iopub.status.idle": "2022-03-07T11:20:44.175070Z",
     "shell.execute_reply": "2022-03-07T11:20:44.174435Z",
     "shell.execute_reply.started": "2022-03-07T11:20:42.536400Z"
    },
    "scrolled": true
   },
   "outputs": [
    {
     "name": "stderr",
     "output_type": "stream",
     "text": [
      "/opt/conda/envs/python35-paddle120-env/lib/python3.7/site-packages/matplotlib/__init__.py:107: DeprecationWarning: Using or importing the ABCs from 'collections' instead of from 'collections.abc' is deprecated, and in 3.8 it will stop working\n",
      "  from collections import MutableMapping\n",
      "/opt/conda/envs/python35-paddle120-env/lib/python3.7/site-packages/matplotlib/rcsetup.py:20: DeprecationWarning: Using or importing the ABCs from 'collections' instead of from 'collections.abc' is deprecated, and in 3.8 it will stop working\n",
      "  from collections import Iterable, Mapping\n",
      "/opt/conda/envs/python35-paddle120-env/lib/python3.7/site-packages/matplotlib/colors.py:53: DeprecationWarning: Using or importing the ABCs from 'collections' instead of from 'collections.abc' is deprecated, and in 3.8 it will stop working\n",
      "  from collections import Sized\n"
     ]
    },
    {
     "data": {
      "text/plain": [
       "('2.2.2', 'gpu:0')"
      ]
     },
     "execution_count": 2,
     "metadata": {},
     "output_type": "execute_result"
    }
   ],
   "source": [
    "import paddle\r\n",
    "import matplotlib.pyplot as plt\r\n",
    "import matplotlib.image as mping\r\n",
    "import numpy as np\r\n",
    "\r\n",
    "paddle.__version__, paddle.device.get_device()"
   ]
  },
  {
   "cell_type": "markdown",
   "id": "0f2bf4d7-808a-4621-8c06-c420fb8b3d34",
   "metadata": {},
   "source": [
    "### Data loading"
   ]
  },
  {
   "cell_type": "code",
   "execution_count": 3,
   "id": "91f28b9d-5dfe-44e4-9b3a-d6b3712cd002",
   "metadata": {
    "execution": {
     "iopub.execute_input": "2022-03-07T11:20:44.177059Z",
     "iopub.status.busy": "2022-03-07T11:20:44.176381Z",
     "iopub.status.idle": "2022-03-07T11:20:48.258650Z",
     "shell.execute_reply": "2022-03-07T11:20:48.257857Z",
     "shell.execute_reply.started": "2022-03-07T11:20:44.177004Z"
    },
    "scrolled": true
   },
   "outputs": [],
   "source": [
    "import paddle.vision.transforms as T\r\n",
    "from paddle.vision.datasets import FashionMNIST\r\n",
    "\r\n",
    "# loading and normalization\r\n",
    "# resize the shape to 224x224\r\n",
    "transform = [T.Resize(size=224), T.Normalize(mean=[127.5], std=[127.5])]\r\n",
    "transform = T.Compose(transform)\r\n",
    "\r\n",
    "# constructing traning set and test set\r\n",
    "fashionmnist_train = FashionMNIST(mode='train', transform=transform)\r\n",
    "fashionmnist_test = FashionMNIST(mode='test', transform=transform)"
   ]
  },
  {
   "cell_type": "code",
   "execution_count": 4,
   "id": "b3d745ca-28ae-4dee-80fc-22dcdebbcc0d",
   "metadata": {
    "execution": {
     "iopub.execute_input": "2022-03-07T11:20:48.260273Z",
     "iopub.status.busy": "2022-03-07T11:20:48.259738Z",
     "iopub.status.idle": "2022-03-07T11:20:48.264403Z",
     "shell.execute_reply": "2022-03-07T11:20:48.263839Z",
     "shell.execute_reply.started": "2022-03-07T11:20:48.260244Z"
    },
    "scrolled": true
   },
   "outputs": [
    {
     "data": {
      "text/plain": [
       "(60000, 10000)"
      ]
     },
     "execution_count": 4,
     "metadata": {},
     "output_type": "execute_result"
    }
   ],
   "source": [
    "# nums of train set and test set\r\n",
    "len(fashionmnist_train), len(fashionmnist_test)"
   ]
  },
  {
   "cell_type": "code",
   "execution_count": 5,
   "id": "a3059bff-2878-4e95-b195-8fb110d2915a",
   "metadata": {
    "execution": {
     "iopub.execute_input": "2022-03-07T11:20:48.265563Z",
     "iopub.status.busy": "2022-03-07T11:20:48.265306Z",
     "iopub.status.idle": "2022-03-07T11:20:48.271119Z",
     "shell.execute_reply": "2022-03-07T11:20:48.270593Z",
     "shell.execute_reply.started": "2022-03-07T11:20:48.265538Z"
    },
    "scrolled": true
   },
   "outputs": [
    {
     "data": {
      "text/plain": [
       "((1, 224, 224), (1, 224, 224))"
      ]
     },
     "execution_count": 5,
     "metadata": {},
     "output_type": "execute_result"
    }
   ],
   "source": [
    "# As for one sample, channel = 1, height, weight = 224\r\n",
    "# for adapting to the input shape of VGG\r\n",
    "fashionmnist_train[0][0].shape, fashionmnist_test[0][0].shape"
   ]
  },
  {
   "cell_type": "code",
   "execution_count": 6,
   "id": "f1fc998c-8144-4052-a633-b1945adc3589",
   "metadata": {
    "execution": {
     "iopub.execute_input": "2022-03-07T11:20:48.272229Z",
     "iopub.status.busy": "2022-03-07T11:20:48.271985Z",
     "iopub.status.idle": "2022-03-07T11:20:48.275618Z",
     "shell.execute_reply": "2022-03-07T11:20:48.275055Z",
     "shell.execute_reply.started": "2022-03-07T11:20:48.272207Z"
    },
    "scrolled": true
   },
   "outputs": [],
   "source": [
    "train_loader = paddle.io.DataLoader(fashionmnist_train, batch_size=256, shuffle=True)\r\n",
    "test_loader = paddle.io.DataLoader(fashionmnist_test, batch_size=64, shuffle=False)"
   ]
  },
  {
   "cell_type": "markdown",
   "id": "08a5c307-5316-4361-a8a0-e3e1d7c7538d",
   "metadata": {},
   "source": [
    "### Model"
   ]
  },
  {
   "cell_type": "code",
   "execution_count": 7,
   "id": "fcb8b220-4787-4bf3-9b87-e896682b8a78",
   "metadata": {
    "execution": {
     "iopub.execute_input": "2022-03-07T11:20:48.276839Z",
     "iopub.status.busy": "2022-03-07T11:20:48.276427Z",
     "iopub.status.idle": "2022-03-07T11:20:48.281021Z",
     "shell.execute_reply": "2022-03-07T11:20:48.280472Z",
     "shell.execute_reply.started": "2022-03-07T11:20:48.276814Z"
    },
    "scrolled": true
   },
   "outputs": [],
   "source": [
    "from paddle import nn\r\n",
    "\r\n",
    "# define vgg block as vgg's builing blocks\r\n",
    "def vgg_block(num_convs, in_channels, out_channels):\r\n",
    "    \r\n",
    "    layers = []\r\n",
    "\r\n",
    "    for _ in range(num_convs):\r\n",
    "        layers.append(nn.Conv2D(in_channels, out_channels,\r\n",
    "                                kernel_size=3, padding=1))\r\n",
    "        layers.append(nn.ReLU())\r\n",
    "        in_channels = out_channels\r\n",
    "\r\n",
    "    layers.append(nn.MaxPool2D(kernel_size=2,stride=2))\r\n",
    "\r\n",
    "    return nn.Sequential(*layers)"
   ]
  },
  {
   "cell_type": "code",
   "execution_count": 8,
   "id": "b3e9da47-e1a5-4d41-8a4e-dbf9d695d4a9",
   "metadata": {
    "execution": {
     "iopub.execute_input": "2022-03-07T11:20:48.281881Z",
     "iopub.status.busy": "2022-03-07T11:20:48.281727Z",
     "iopub.status.idle": "2022-03-07T11:20:51.259673Z",
     "shell.execute_reply": "2022-03-07T11:20:51.259073Z",
     "shell.execute_reply.started": "2022-03-07T11:20:48.281863Z"
    },
    "scrolled": true
   },
   "outputs": [
    {
     "name": "stderr",
     "output_type": "stream",
     "text": [
      "W0307 19:20:48.284443  9736 device_context.cc:447] Please NOTE: device: 0, GPU Compute Capability: 7.0, Driver API Version: 11.0, Runtime API Version: 10.1\n",
      "W0307 19:20:48.288749  9736 device_context.cc:465] device: 0, cuDNN Version: 7.6.\n"
     ]
    },
    {
     "data": {
      "text/plain": [
       "Sequential(\n",
       "  (0): Conv2D(3, 6, kernel_size=[3, 3], padding=1, data_format=NCHW)\n",
       "  (1): ReLU()\n",
       "  (2): Conv2D(6, 6, kernel_size=[3, 3], padding=1, data_format=NCHW)\n",
       "  (3): ReLU()\n",
       "  (4): MaxPool2D(kernel_size=2, stride=2, padding=0)\n",
       ")"
      ]
     },
     "execution_count": 8,
     "metadata": {},
     "output_type": "execute_result"
    }
   ],
   "source": [
    "vgg_block(2, 3, 6)"
   ]
  },
  {
   "cell_type": "code",
   "execution_count": 9,
   "id": "63b8ac56-8a8a-4bab-8057-2f095ffaf37e",
   "metadata": {
    "execution": {
     "iopub.execute_input": "2022-03-07T11:20:51.261286Z",
     "iopub.status.busy": "2022-03-07T11:20:51.260712Z",
     "iopub.status.idle": "2022-03-07T11:20:51.264615Z",
     "shell.execute_reply": "2022-03-07T11:20:51.264007Z",
     "shell.execute_reply.started": "2022-03-07T11:20:51.261240Z"
    },
    "scrolled": true
   },
   "outputs": [],
   "source": [
    "conv_arch = ((1, 64), (1, 128), (2, 256), (2, 512), (2, 512))"
   ]
  },
  {
   "cell_type": "code",
   "execution_count": 10,
   "id": "a114637f-7f46-4b72-a2fb-967f6fe70af1",
   "metadata": {
    "execution": {
     "iopub.execute_input": "2022-03-07T11:20:51.265922Z",
     "iopub.status.busy": "2022-03-07T11:20:51.265494Z",
     "iopub.status.idle": "2022-03-07T11:20:51.302828Z",
     "shell.execute_reply": "2022-03-07T11:20:51.302165Z",
     "shell.execute_reply.started": "2022-03-07T11:20:51.265897Z"
    },
    "scrolled": true
   },
   "outputs": [],
   "source": [
    "def vgg(conv_arch):\r\n",
    "    conv_blks = []\r\n",
    "    in_channels = 1\r\n",
    "    # The convolutional part\r\n",
    "    for (num_convs, out_channels) in conv_arch:\r\n",
    "        conv_blks.append(vgg_block(num_convs, in_channels, out_channels))\r\n",
    "        in_channels = out_channels\r\n",
    "\r\n",
    "    return nn.Sequential(\r\n",
    "        *conv_blks, nn.Flatten(),\r\n",
    "        # The fully-connected part\r\n",
    "        nn.Linear(out_channels * 7 * 7, 4096), nn.ReLU(), nn.Dropout(0.5),\r\n",
    "        nn.Linear(4096, 4096), nn.ReLU(), nn.Dropout(0.5),\r\n",
    "        nn.Linear(4096, 10))\r\n",
    "\r\n",
    "vgg_net = vgg(conv_arch)"
   ]
  },
  {
   "cell_type": "code",
   "execution_count": 11,
   "id": "f42560a8-b8a1-4fad-8469-a072f3a18ae8",
   "metadata": {
    "execution": {
     "iopub.execute_input": "2022-03-07T11:20:51.305361Z",
     "iopub.status.busy": "2022-03-07T11:20:51.304952Z",
     "iopub.status.idle": "2022-03-07T11:20:51.309279Z",
     "shell.execute_reply": "2022-03-07T11:20:51.308630Z",
     "shell.execute_reply.started": "2022-03-07T11:20:51.305332Z"
    },
    "scrolled": true
   },
   "outputs": [
    {
     "name": "stdout",
     "output_type": "stream",
     "text": [
      "Sequential(\n",
      "  (0): Sequential(\n",
      "    (0): Conv2D(1, 64, kernel_size=[3, 3], padding=1, data_format=NCHW)\n",
      "    (1): ReLU()\n",
      "    (2): MaxPool2D(kernel_size=2, stride=2, padding=0)\n",
      "  )\n",
      "  (1): Sequential(\n",
      "    (0): Conv2D(64, 128, kernel_size=[3, 3], padding=1, data_format=NCHW)\n",
      "    (1): ReLU()\n",
      "    (2): MaxPool2D(kernel_size=2, stride=2, padding=0)\n",
      "  )\n",
      "  (2): Sequential(\n",
      "    (0): Conv2D(128, 256, kernel_size=[3, 3], padding=1, data_format=NCHW)\n",
      "    (1): ReLU()\n",
      "    (2): Conv2D(256, 256, kernel_size=[3, 3], padding=1, data_format=NCHW)\n",
      "    (3): ReLU()\n",
      "    (4): MaxPool2D(kernel_size=2, stride=2, padding=0)\n",
      "  )\n",
      "  (3): Sequential(\n",
      "    (0): Conv2D(256, 512, kernel_size=[3, 3], padding=1, data_format=NCHW)\n",
      "    (1): ReLU()\n",
      "    (2): Conv2D(512, 512, kernel_size=[3, 3], padding=1, data_format=NCHW)\n",
      "    (3): ReLU()\n",
      "    (4): MaxPool2D(kernel_size=2, stride=2, padding=0)\n",
      "  )\n",
      "  (4): Sequential(\n",
      "    (0): Conv2D(512, 512, kernel_size=[3, 3], padding=1, data_format=NCHW)\n",
      "    (1): ReLU()\n",
      "    (2): Conv2D(512, 512, kernel_size=[3, 3], padding=1, data_format=NCHW)\n",
      "    (3): ReLU()\n",
      "    (4): MaxPool2D(kernel_size=2, stride=2, padding=0)\n",
      "  )\n",
      "  (5): Flatten()\n",
      "  (6): Linear(in_features=25088, out_features=4096, dtype=float32)\n",
      "  (7): ReLU()\n",
      "  (8): Dropout(p=0.5, axis=None, mode=upscale_in_train)\n",
      "  (9): Linear(in_features=4096, out_features=4096, dtype=float32)\n",
      "  (10): ReLU()\n",
      "  (11): Dropout(p=0.5, axis=None, mode=upscale_in_train)\n",
      "  (12): Linear(in_features=4096, out_features=10, dtype=float32)\n",
      ")\n"
     ]
    }
   ],
   "source": [
    "print(vgg_net)"
   ]
  },
  {
   "cell_type": "code",
   "execution_count": 12,
   "id": "b60298ff-0b1e-48ae-99c3-c2b156d2355b",
   "metadata": {
    "execution": {
     "iopub.execute_input": "2022-03-07T11:20:51.310617Z",
     "iopub.status.busy": "2022-03-07T11:20:51.310158Z",
     "iopub.status.idle": "2022-03-07T11:20:51.332500Z",
     "shell.execute_reply": "2022-03-07T11:20:51.331750Z",
     "shell.execute_reply.started": "2022-03-07T11:20:51.310588Z"
    },
    "scrolled": true
   },
   "outputs": [
    {
     "name": "stdout",
     "output_type": "stream",
     "text": [
      "Sequential(\n",
      "  (0): Sequential(\n",
      "    (0): Conv2D(1, 16, kernel_size=[3, 3], padding=1, data_format=NCHW)\n",
      "    (1): ReLU()\n",
      "    (2): MaxPool2D(kernel_size=2, stride=2, padding=0)\n",
      "  )\n",
      "  (1): Sequential(\n",
      "    (0): Conv2D(16, 32, kernel_size=[3, 3], padding=1, data_format=NCHW)\n",
      "    (1): ReLU()\n",
      "    (2): MaxPool2D(kernel_size=2, stride=2, padding=0)\n",
      "  )\n",
      "  (2): Sequential(\n",
      "    (0): Conv2D(32, 64, kernel_size=[3, 3], padding=1, data_format=NCHW)\n",
      "    (1): ReLU()\n",
      "    (2): Conv2D(64, 64, kernel_size=[3, 3], padding=1, data_format=NCHW)\n",
      "    (3): ReLU()\n",
      "    (4): MaxPool2D(kernel_size=2, stride=2, padding=0)\n",
      "  )\n",
      "  (3): Sequential(\n",
      "    (0): Conv2D(64, 128, kernel_size=[3, 3], padding=1, data_format=NCHW)\n",
      "    (1): ReLU()\n",
      "    (2): Conv2D(128, 128, kernel_size=[3, 3], padding=1, data_format=NCHW)\n",
      "    (3): ReLU()\n",
      "    (4): MaxPool2D(kernel_size=2, stride=2, padding=0)\n",
      "  )\n",
      "  (4): Sequential(\n",
      "    (0): Conv2D(128, 128, kernel_size=[3, 3], padding=1, data_format=NCHW)\n",
      "    (1): ReLU()\n",
      "    (2): Conv2D(128, 128, kernel_size=[3, 3], padding=1, data_format=NCHW)\n",
      "    (3): ReLU()\n",
      "    (4): MaxPool2D(kernel_size=2, stride=2, padding=0)\n",
      "  )\n",
      "  (5): Flatten()\n",
      "  (6): Linear(in_features=6272, out_features=4096, dtype=float32)\n",
      "  (7): ReLU()\n",
      "  (8): Dropout(p=0.5, axis=None, mode=upscale_in_train)\n",
      "  (9): Linear(in_features=4096, out_features=4096, dtype=float32)\n",
      "  (10): ReLU()\n",
      "  (11): Dropout(p=0.5, axis=None, mode=upscale_in_train)\n",
      "  (12): Linear(in_features=4096, out_features=10, dtype=float32)\n",
      ")\n"
     ]
    }
   ],
   "source": [
    "# a version with a smaller number of channels for sufficient training\r\n",
    "ratio = 4\r\n",
    "small_conv_arch = [(pair[0], pair[1] // ratio) for pair in conv_arch]\r\n",
    "vgg_net = vgg(small_conv_arch)\r\n",
    "\r\n",
    "print(vgg_net)"
   ]
  },
  {
   "cell_type": "code",
   "execution_count": 13,
   "id": "7cdc8328-09e5-4d8d-8a29-012ca6c91655",
   "metadata": {
    "execution": {
     "iopub.execute_input": "2022-03-07T11:20:51.333963Z",
     "iopub.status.busy": "2022-03-07T11:20:51.333515Z",
     "iopub.status.idle": "2022-03-07T11:20:51.347004Z",
     "shell.execute_reply": "2022-03-07T11:20:51.346450Z",
     "shell.execute_reply.started": "2022-03-07T11:20:51.333935Z"
    },
    "scrolled": true
   },
   "outputs": [
    {
     "name": "stdout",
     "output_type": "stream",
     "text": [
      "---------------------------------------------------------------------------\n",
      " Layer (type)       Input Shape          Output Shape         Param #    \n",
      "===========================================================================\n",
      "   Conv2D-11     [[1, 1, 224, 224]]   [1, 16, 224, 224]         160      \n",
      "    ReLU-13     [[1, 16, 224, 224]]   [1, 16, 224, 224]          0       \n",
      "  MaxPool2D-7   [[1, 16, 224, 224]]   [1, 16, 112, 112]          0       \n",
      "   Conv2D-12    [[1, 16, 112, 112]]   [1, 32, 112, 112]        4,640     \n",
      "    ReLU-14     [[1, 32, 112, 112]]   [1, 32, 112, 112]          0       \n",
      "  MaxPool2D-8   [[1, 32, 112, 112]]    [1, 32, 56, 56]           0       \n",
      "   Conv2D-13     [[1, 32, 56, 56]]     [1, 64, 56, 56]        18,496     \n",
      "    ReLU-15      [[1, 64, 56, 56]]     [1, 64, 56, 56]           0       \n",
      "   Conv2D-14     [[1, 64, 56, 56]]     [1, 64, 56, 56]        36,928     \n",
      "    ReLU-16      [[1, 64, 56, 56]]     [1, 64, 56, 56]           0       \n",
      "  MaxPool2D-9    [[1, 64, 56, 56]]     [1, 64, 28, 28]           0       \n",
      "   Conv2D-15     [[1, 64, 28, 28]]     [1, 128, 28, 28]       73,856     \n",
      "    ReLU-17      [[1, 128, 28, 28]]    [1, 128, 28, 28]          0       \n",
      "   Conv2D-16     [[1, 128, 28, 28]]    [1, 128, 28, 28]       147,584    \n",
      "    ReLU-18      [[1, 128, 28, 28]]    [1, 128, 28, 28]          0       \n",
      " MaxPool2D-10    [[1, 128, 28, 28]]    [1, 128, 14, 14]          0       \n",
      "   Conv2D-17     [[1, 128, 14, 14]]    [1, 128, 14, 14]       147,584    \n",
      "    ReLU-19      [[1, 128, 14, 14]]    [1, 128, 14, 14]          0       \n",
      "   Conv2D-18     [[1, 128, 14, 14]]    [1, 128, 14, 14]       147,584    \n",
      "    ReLU-20      [[1, 128, 14, 14]]    [1, 128, 14, 14]          0       \n",
      " MaxPool2D-11    [[1, 128, 14, 14]]     [1, 128, 7, 7]           0       \n",
      "   Flatten-2      [[1, 128, 7, 7]]        [1, 6272]              0       \n",
      "   Linear-4         [[1, 6272]]           [1, 4096]         25,694,208   \n",
      "    ReLU-21         [[1, 4096]]           [1, 4096]              0       \n",
      "   Dropout-3        [[1, 4096]]           [1, 4096]              0       \n",
      "   Linear-5         [[1, 4096]]           [1, 4096]         16,781,312   \n",
      "    ReLU-22         [[1, 4096]]           [1, 4096]              0       \n",
      "   Dropout-4        [[1, 4096]]           [1, 4096]              0       \n",
      "   Linear-6         [[1, 4096]]            [1, 10]            40,970     \n",
      "===========================================================================\n",
      "Total params: 43,093,322\n",
      "Trainable params: 43,093,322\n",
      "Non-trainable params: 0\n",
      "---------------------------------------------------------------------------\n",
      "Input size (MB): 0.19\n",
      "Forward/backward pass size (MB): 31.48\n",
      "Params size (MB): 164.39\n",
      "Estimated Total Size (MB): 196.06\n",
      "---------------------------------------------------------------------------\n",
      "\n"
     ]
    },
    {
     "data": {
      "text/plain": [
       "{'total_params': 43093322, 'trainable_params': 43093322}"
      ]
     },
     "execution_count": 13,
     "metadata": {},
     "output_type": "execute_result"
    }
   ],
   "source": [
    "# instantiation\r\n",
    "model = paddle.Model(vgg_net)\r\n",
    "\r\n",
    "# visualization of the model workflow\r\n",
    "model.summary((-1, 1, 224, 224)) # [N C H W]"
   ]
  },
  {
   "cell_type": "markdown",
   "id": "dcdb1a99-bbcf-49e1-85ba-9fb24a2ccb67",
   "metadata": {},
   "source": [
    "### Training"
   ]
  },
  {
   "cell_type": "code",
   "execution_count": 14,
   "id": "935fd76d-3a38-45c8-b340-997d5ad84b20",
   "metadata": {
    "execution": {
     "iopub.execute_input": "2022-03-07T11:20:51.348332Z",
     "iopub.status.busy": "2022-03-07T11:20:51.347900Z",
     "iopub.status.idle": "2022-03-07T11:32:43.038585Z",
     "shell.execute_reply": "2022-03-07T11:32:43.037817Z",
     "shell.execute_reply.started": "2022-03-07T11:20:51.348303Z"
    },
    "scrolled": true
   },
   "outputs": [
    {
     "name": "stdout",
     "output_type": "stream",
     "text": [
      "The loss value printed in the log is the current step, and the metric is the average value of previous steps.\n",
      "Epoch 1/15\n"
     ]
    },
    {
     "name": "stderr",
     "output_type": "stream",
     "text": [
      "/opt/conda/envs/python35-paddle120-env/lib/python3.7/site-packages/paddle/fluid/layers/utils.py:77: DeprecationWarning: Using or importing the ABCs from 'collections' instead of from 'collections.abc' is deprecated, and in 3.8 it will stop working\n",
      "  return (isinstance(seq, collections.Sequence) and\n"
     ]
    },
    {
     "name": "stdout",
     "output_type": "stream",
     "text": [
      "step 235/235 [==============================] - loss: 0.3515 - acc: 0.7808 - 203ms/step          \n",
      "Epoch 2/15\n",
      "step 235/235 [==============================] - loss: 0.3784 - acc: 0.8975 - 208ms/step          \n",
      "Epoch 3/15\n",
      "step 235/235 [==============================] - loss: 0.1341 - acc: 0.9173 - 200ms/step          \n",
      "Epoch 4/15\n",
      "step 235/235 [==============================] - loss: 0.1593 - acc: 0.9276 - 202ms/step          \n",
      "Epoch 5/15\n",
      "step 235/235 [==============================] - loss: 0.1445 - acc: 0.9375 - 202ms/step          \n",
      "Epoch 6/15\n",
      "step 235/235 [==============================] - loss: 0.1832 - acc: 0.9447 - 200ms/step          \n",
      "Epoch 7/15\n",
      "step 235/235 [==============================] - loss: 0.1607 - acc: 0.9525 - 204ms/step          \n",
      "Epoch 8/15\n",
      "step 235/235 [==============================] - loss: 0.0759 - acc: 0.9575 - 203ms/step          \n",
      "Epoch 9/15\n",
      "step 235/235 [==============================] - loss: 0.0977 - acc: 0.9616 - 201ms/step          \n",
      "Epoch 10/15\n",
      "step 235/235 [==============================] - loss: 0.1117 - acc: 0.9653 - 200ms/step          \n",
      "Epoch 11/15\n",
      "step 235/235 [==============================] - loss: 0.0323 - acc: 0.9706 - 201ms/step          \n",
      "Epoch 12/15\n",
      "step 235/235 [==============================] - loss: 0.0415 - acc: 0.9743 - 201ms/step          \n",
      "Epoch 13/15\n",
      "step 235/235 [==============================] - loss: 0.0612 - acc: 0.9762 - 200ms/step          \n",
      "Epoch 14/15\n",
      "step 235/235 [==============================] - loss: 0.0326 - acc: 0.9777 - 202ms/step          \n",
      "Epoch 15/15\n",
      "step 235/235 [==============================] - loss: 0.0466 - acc: 0.9798 - 201ms/step          \n"
     ]
    }
   ],
   "source": [
    "# optimizer and loss\r\n",
    "model.prepare(optimizer = paddle.optimizer.Adam(parameters=model.parameters(), learning_rate=1e-3),\r\n",
    "              loss=nn.CrossEntropyLoss(),\r\n",
    "              metrics=paddle.metric.Accuracy())\r\n",
    "\r\n",
    "# training\r\n",
    "model.fit(train_loader,\r\n",
    "        # eval_data = test_loader\r\n",
    "        epochs=15,\r\n",
    "        verbose=1,\r\n",
    "        )"
   ]
  },
  {
   "cell_type": "code",
   "execution_count": 15,
   "id": "c5b816cc-69db-4cb8-982b-29e683e9d341",
   "metadata": {
    "execution": {
     "iopub.execute_input": "2022-03-07T11:36:29.827006Z",
     "iopub.status.busy": "2022-03-07T11:36:29.826372Z",
     "iopub.status.idle": "2022-03-07T11:37:13.636173Z",
     "shell.execute_reply": "2022-03-07T11:37:13.635527Z",
     "shell.execute_reply.started": "2022-03-07T11:36:29.826974Z"
    },
    "scrolled": true
   },
   "outputs": [
    {
     "name": "stdout",
     "output_type": "stream",
     "text": [
      "Eval begin...\n",
      "step 10000/10000 [==============================] - loss: 3.0994e-06 - acc: 0.9242 - 4ms/step       \n",
      "Eval samples: 10000\n"
     ]
    },
    {
     "data": {
      "text/plain": [
       "{'loss': [3.0994368e-06], 'acc': 0.9242}"
      ]
     },
     "execution_count": 15,
     "metadata": {},
     "output_type": "execute_result"
    }
   ],
   "source": [
    "model.evaluate(fashionmnist_test, verbose=1)"
   ]
  },
  {
   "cell_type": "code",
   "execution_count": null,
   "id": "89473796-6876-4d7e-b113-009aeb66d0aa",
   "metadata": {
    "scrolled": true
   },
   "outputs": [],
   "source": []
  },
  {
   "cell_type": "code",
   "execution_count": null,
   "id": "c3484227-fdf9-4b94-ba45-63e8216c5d04",
   "metadata": {
    "scrolled": true
   },
   "outputs": [],
   "source": []
  },
  {
   "cell_type": "code",
   "execution_count": null,
   "id": "37c34ca7-3621-446a-b416-ad3fed748163",
   "metadata": {
    "scrolled": true
   },
   "outputs": [],
   "source": []
  }
 ],
 "metadata": {
  "kernelspec": {
   "display_name": "Python 3",
   "language": "python",
   "name": "py35-paddle1.2.0"
  },
  "language_info": {
   "codemirror_mode": {
    "name": "ipython",
    "version": 3
   },
   "file_extension": ".py",
   "mimetype": "text/x-python",
   "name": "python",
   "nbconvert_exporter": "python",
   "pygments_lexer": "ipython3",
   "version": "3.7.4"
  }
 },
 "nbformat": 4,
 "nbformat_minor": 5
}
