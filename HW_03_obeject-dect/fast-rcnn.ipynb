{
 "cells": [
  {
   "cell_type": "markdown",
   "id": "4900a08f-80b7-493b-873f-f80de489d379",
   "metadata": {},
   "source": [
    "# Fast R-CNN"
   ]
  },
  {
   "cell_type": "code",
   "execution_count": 1,
   "id": "0d966226-b944-46be-8948-7c2b631d4d0c",
   "metadata": {
    "execution": {
     "iopub.execute_input": "2022-04-01T13:36:07.744063Z",
     "iopub.status.busy": "2022-04-01T13:36:07.743867Z",
     "iopub.status.idle": "2022-04-01T13:36:08.012347Z",
     "shell.execute_reply": "2022-04-01T13:36:08.011712Z",
     "shell.execute_reply.started": "2022-04-01T13:36:07.744040Z"
    },
    "scrolled": true,
    "tags": []
   },
   "outputs": [
    {
     "name": "stdout",
     "output_type": "stream",
     "text": [
      "Fri Apr  1 21:36:07 2022       \n",
      "+-----------------------------------------------------------------------------+\n",
      "| NVIDIA-SMI 418.67       Driver Version: 418.67       CUDA Version: 10.1     |\n",
      "|-------------------------------+----------------------+----------------------+\n",
      "| GPU  Name        Persistence-M| Bus-Id        Disp.A | Volatile Uncorr. ECC |\n",
      "| Fan  Temp  Perf  Pwr:Usage/Cap|         Memory-Usage | GPU-Util  Compute M. |\n",
      "|===============================+======================+======================|\n",
      "|   0  Tesla V100-SXM2...  Off  | 00000000:43:00.0 Off |                    0 |\n",
      "| N/A   33C    P0    41W / 300W |      0MiB / 32480MiB |      0%      Default |\n",
      "+-------------------------------+----------------------+----------------------+\n",
      "                                                                               \n",
      "+-----------------------------------------------------------------------------+\n",
      "| Processes:                                                       GPU Memory |\n",
      "|  GPU       PID   Type   Process name                             Usage      |\n",
      "|=============================================================================|\n",
      "|  No running processes found                                                 |\n",
      "+-----------------------------------------------------------------------------+\n"
     ]
    }
   ],
   "source": [
    "!nvidia-smi"
   ]
  },
  {
   "cell_type": "markdown",
   "id": "3cefc6b8-0089-4c7b-99e8-f68628c69095",
   "metadata": {},
   "source": [
    "## Preparing"
   ]
  },
  {
   "cell_type": "code",
   "execution_count": 2,
   "id": "b3f19dfe-f6b6-464c-8f6b-a9c3b992ef25",
   "metadata": {
    "execution": {
     "iopub.execute_input": "2022-04-01T13:36:08.014092Z",
     "iopub.status.busy": "2022-04-01T13:36:08.013856Z",
     "iopub.status.idle": "2022-04-01T13:36:08.016821Z",
     "shell.execute_reply": "2022-04-01T13:36:08.016258Z",
     "shell.execute_reply.started": "2022-04-01T13:36:08.014069Z"
    },
    "scrolled": true,
    "tags": []
   },
   "outputs": [],
   "source": [
    "# install PaddleX\n",
    "# ! pip install paddlex"
   ]
  },
  {
   "cell_type": "code",
   "execution_count": 3,
   "id": "f18a5542-8745-45e0-813d-ebf040e8dfe5",
   "metadata": {
    "execution": {
     "iopub.execute_input": "2022-04-01T13:36:08.017954Z",
     "iopub.status.busy": "2022-04-01T13:36:08.017640Z",
     "iopub.status.idle": "2022-04-01T13:36:12.590472Z",
     "shell.execute_reply": "2022-04-01T13:36:12.589832Z",
     "shell.execute_reply.started": "2022-04-01T13:36:08.017931Z"
    },
    "scrolled": true,
    "tags": []
   },
   "outputs": [
    {
     "name": "stdout",
     "output_type": "stream",
     "text": [
      "[04-01 21:36:09 MainThread @utils.py:79] WRN paddlepaddle version: 2.2.2. The dynamic graph version of PARL is under development, not fully tested and supported\n"
     ]
    },
    {
     "name": "stderr",
     "output_type": "stream",
     "text": [
      "/opt/conda/envs/python35-paddle120-env/lib/python3.7/site-packages/parl/remote/communication.py:38: DeprecationWarning: 'pyarrow.default_serialization_context' is deprecated as of 2.0.0 and will be removed in a future version. Use pickle or the pyarrow IPC functionality instead.\n",
      "  context = pyarrow.default_serialization_context()\n",
      "/opt/conda/envs/python35-paddle120-env/lib/python3.7/site-packages/matplotlib/__init__.py:107: DeprecationWarning: Using or importing the ABCs from 'collections' instead of from 'collections.abc' is deprecated, and in 3.8 it will stop working\n",
      "  from collections import MutableMapping\n",
      "/opt/conda/envs/python35-paddle120-env/lib/python3.7/site-packages/matplotlib/rcsetup.py:20: DeprecationWarning: Using or importing the ABCs from 'collections' instead of from 'collections.abc' is deprecated, and in 3.8 it will stop working\n",
      "  from collections import Iterable, Mapping\n",
      "/opt/conda/envs/python35-paddle120-env/lib/python3.7/site-packages/matplotlib/colors.py:53: DeprecationWarning: Using or importing the ABCs from 'collections' instead of from 'collections.abc' is deprecated, and in 3.8 it will stop working\n",
      "  from collections import Sized\n"
     ]
    },
    {
     "data": {
      "text/plain": [
       "('2.2.2', 'gpu:0', '2.1.0')"
      ]
     },
     "execution_count": 3,
     "metadata": {},
     "output_type": "execute_result"
    }
   ],
   "source": [
    "import paddle\n",
    "import paddlex as pdx\n",
    "import numpy as np\n",
    "\n",
    "paddle.__version__, paddle.device.get_device(), pdx.__version__"
   ]
  },
  {
   "cell_type": "code",
   "execution_count": 4,
   "id": "753aefb0-cf83-475a-b552-134dbd99f3cc",
   "metadata": {
    "execution": {
     "iopub.execute_input": "2022-04-01T13:36:12.592064Z",
     "iopub.status.busy": "2022-04-01T13:36:12.591639Z",
     "iopub.status.idle": "2022-04-01T13:36:13.166954Z",
     "shell.execute_reply": "2022-04-01T13:36:13.166391Z",
     "shell.execute_reply.started": "2022-04-01T13:36:12.592038Z"
    },
    "scrolled": true,
    "tags": []
   },
   "outputs": [
    {
     "name": "stdout",
     "output_type": "stream",
     "text": [
      "2022-04-01 21:36:12 [INFO]\tDownloading insect_det.tar.gz from https://bj.bcebos.com/paddlex/datasets/insect_det.tar.gz\n"
     ]
    },
    {
     "name": "stderr",
     "output_type": "stream",
     "text": [
      "100%|██████████| 16899/16899 [00:00<00:00, 54458.13KB/s]\n"
     ]
    },
    {
     "name": "stdout",
     "output_type": "stream",
     "text": [
      "2022-04-01 21:36:12 [INFO]\tDecompressing ./insect_det.tar.gz...\n"
     ]
    }
   ],
   "source": [
    "import paddlex as pdx\n",
    "# from paddlex import transforms as T\n",
    "from paddlex import transforms as T\n",
    "\n",
    "# download and unzip an insect recognition dataset\n",
    "dataset = 'https://bj.bcebos.com/paddlex/datasets/insect_det.tar.gz'\n",
    "pdx.utils.download_and_decompress(dataset, path='./')\n",
    "\n",
    "train_transforms = T.Compose([\n",
    "    T.RandomResizeByShort(\n",
    "        short_sizes=[640, 672, 704, 736, 768, 800],\n",
    "        max_size=1333,\n",
    "        interp='CUBIC'), T.RandomHorizontalFlip(), T.Normalize(\n",
    "            mean=[0.485, 0.456, 0.406], std=[0.229, 0.224, 0.225])\n",
    "])\n",
    "\n",
    "eval_transforms = T.Compose([\n",
    "    T.ResizeByShort(\n",
    "        short_size=800, max_size=1333, interp='CUBIC'), T.Normalize(\n",
    "            mean=[0.485, 0.456, 0.406], std=[0.229, 0.224, 0.225])\n",
    "])"
   ]
  },
  {
   "cell_type": "markdown",
   "id": "9cdf8893-80dc-4a0d-af31-6330258d07e4",
   "metadata": {
    "execution": {
     "iopub.execute_input": "2022-04-01T12:04:54.550655Z",
     "iopub.status.busy": "2022-04-01T12:04:54.549423Z",
     "iopub.status.idle": "2022-04-01T12:04:54.556889Z",
     "shell.execute_reply": "2022-04-01T12:04:54.556101Z",
     "shell.execute_reply.started": "2022-04-01T12:04:54.550589Z"
    },
    "tags": []
   },
   "source": [
    "## Dataset"
   ]
  },
  {
   "cell_type": "code",
   "execution_count": 5,
   "id": "fdb97df3-0e37-49ed-9fdb-615e6463305d",
   "metadata": {
    "execution": {
     "iopub.execute_input": "2022-04-01T13:36:13.168140Z",
     "iopub.status.busy": "2022-04-01T13:36:13.167887Z",
     "iopub.status.idle": "2022-04-01T13:36:13.901299Z",
     "shell.execute_reply": "2022-04-01T13:36:13.900803Z",
     "shell.execute_reply.started": "2022-04-01T13:36:13.168116Z"
    },
    "scrolled": true,
    "tags": []
   },
   "outputs": [
    {
     "name": "stdout",
     "output_type": "stream",
     "text": [
      "2022-04-01 21:36:13 [INFO]\tStarting to read file list from dataset...\n",
      "2022-04-01 21:36:13 [INFO]\t169 samples in file insect_det/train_list.txt, including 169 positive samples and 0 negative samples.\n",
      "creating index...\n",
      "index created!\n",
      "2022-04-01 21:36:13 [INFO]\tStarting to read file list from dataset...\n",
      "2022-04-01 21:36:13 [INFO]\t24 samples in file insect_det/val_list.txt, including 24 positive samples and 0 negative samples.\n",
      "creating index...\n",
      "index created!\n"
     ]
    }
   ],
   "source": [
    "train_dataset = pdx.datasets.VOCDetection(\n",
    "    data_dir='insect_det',\n",
    "    file_list='insect_det/train_list.txt',\n",
    "    label_list='insect_det/labels.txt',\n",
    "    transforms=train_transforms,\n",
    "    shuffle=True)\n",
    "\n",
    "eval_dataset = pdx.datasets.VOCDetection(\n",
    "    data_dir='insect_det',\n",
    "    file_list='insect_det/val_list.txt',\n",
    "    label_list='insect_det/labels.txt',\n",
    "    transforms=eval_transforms,\n",
    "    shuffle=False)"
   ]
  },
  {
   "cell_type": "code",
   "execution_count": 6,
   "id": "79691a6e-8d42-4484-ab56-fb2a30f76dab",
   "metadata": {
    "execution": {
     "iopub.execute_input": "2022-04-01T13:36:13.902393Z",
     "iopub.status.busy": "2022-04-01T13:36:13.902160Z",
     "iopub.status.idle": "2022-04-01T13:36:16.450045Z",
     "shell.execute_reply": "2022-04-01T13:36:16.449339Z",
     "shell.execute_reply.started": "2022-04-01T13:36:13.902370Z"
    },
    "scrolled": true,
    "tags": []
   },
   "outputs": [
    {
     "name": "stdout",
     "output_type": "stream",
     "text": [
      "num of labels is: 6\n"
     ]
    },
    {
     "name": "stderr",
     "output_type": "stream",
     "text": [
      "W0401 21:36:13.906572   836 device_context.cc:447] Please NOTE: device: 0, GPU Compute Capability: 7.0, Driver API Version: 10.1, Runtime API Version: 10.1\n",
      "W0401 21:36:13.910257   836 device_context.cc:465] device: 0, cuDNN Version: 7.6.\n"
     ]
    }
   ],
   "source": [
    "num_classes = len(train_dataset.labels)\n",
    "print(\"num of labels is:\", num_classes)\n",
    "model = pdx.det.FasterRCNN(num_classes=num_classes, backbone='ResNet101_vd', with_fpn=True)"
   ]
  },
  {
   "cell_type": "markdown",
   "id": "7e71db82-93c3-476a-880f-094f3cd5f86c",
   "metadata": {
    "execution": {
     "iopub.execute_input": "2022-04-01T12:10:37.396376Z",
     "iopub.status.busy": "2022-04-01T12:10:37.395783Z",
     "iopub.status.idle": "2022-04-01T12:10:37.400423Z",
     "shell.execute_reply": "2022-04-01T12:10:37.399686Z",
     "shell.execute_reply.started": "2022-04-01T12:10:37.396317Z"
    }
   },
   "source": [
    "## Training"
   ]
  },
  {
   "cell_type": "code",
   "execution_count": 7,
   "id": "64afec19-16b2-4b9e-85c8-f667099cbd0c",
   "metadata": {
    "execution": {
     "iopub.execute_input": "2022-04-01T13:36:16.451694Z",
     "iopub.status.busy": "2022-04-01T13:36:16.451106Z",
     "iopub.status.idle": "2022-04-01T13:41:06.761002Z",
     "shell.execute_reply": "2022-04-01T13:41:06.760324Z",
     "shell.execute_reply.started": "2022-04-01T13:36:16.451666Z"
    },
    "scrolled": true,
    "tags": []
   },
   "outputs": [
    {
     "name": "stdout",
     "output_type": "stream",
     "text": [
      "2022-04-01 21:36:16 [INFO]\tDownloading ResNet101_vd_pretrained.pdparams from https://paddledet.bj.bcebos.com/models/pretrained/ResNet101_vd_pretrained.pdparams\n"
     ]
    },
    {
     "name": "stderr",
     "output_type": "stream",
     "text": [
      "100%|██████████| 166559/166559 [00:02<00:00, 70994.87KB/s]\n"
     ]
    },
    {
     "name": "stdout",
     "output_type": "stream",
     "text": [
      "2022-04-01 21:36:18 [INFO]\tLoading pretrained model from output/faster_rcnn_r50_fpn/pretrain/ResNet101_vd_pretrained.pdparams\n",
      "2022-04-01 21:36:19 [WARNING]\tneck.fpn_inner_res2_sum_lateral.weight is not in pretrained model\n",
      "2022-04-01 21:36:19 [WARNING]\tneck.fpn_inner_res2_sum_lateral.bias is not in pretrained model\n",
      "2022-04-01 21:36:19 [WARNING]\tneck.fpn_res2_sum.weight is not in pretrained model\n",
      "2022-04-01 21:36:19 [WARNING]\tneck.fpn_res2_sum.bias is not in pretrained model\n",
      "2022-04-01 21:36:19 [WARNING]\tneck.fpn_inner_res3_sum_lateral.weight is not in pretrained model\n",
      "2022-04-01 21:36:19 [WARNING]\tneck.fpn_inner_res3_sum_lateral.bias is not in pretrained model\n",
      "2022-04-01 21:36:19 [WARNING]\tneck.fpn_res3_sum.weight is not in pretrained model\n",
      "2022-04-01 21:36:19 [WARNING]\tneck.fpn_res3_sum.bias is not in pretrained model\n",
      "2022-04-01 21:36:19 [WARNING]\tneck.fpn_inner_res4_sum_lateral.weight is not in pretrained model\n",
      "2022-04-01 21:36:19 [WARNING]\tneck.fpn_inner_res4_sum_lateral.bias is not in pretrained model\n",
      "2022-04-01 21:36:19 [WARNING]\tneck.fpn_res4_sum.weight is not in pretrained model\n",
      "2022-04-01 21:36:19 [WARNING]\tneck.fpn_res4_sum.bias is not in pretrained model\n",
      "2022-04-01 21:36:19 [WARNING]\tneck.fpn_inner_res5_sum.weight is not in pretrained model\n",
      "2022-04-01 21:36:19 [WARNING]\tneck.fpn_inner_res5_sum.bias is not in pretrained model\n",
      "2022-04-01 21:36:19 [WARNING]\tneck.fpn_res5_sum.weight is not in pretrained model\n",
      "2022-04-01 21:36:19 [WARNING]\tneck.fpn_res5_sum.bias is not in pretrained model\n",
      "2022-04-01 21:36:19 [WARNING]\trpn_head.rpn_feat.rpn_conv.weight is not in pretrained model\n",
      "2022-04-01 21:36:19 [WARNING]\trpn_head.rpn_feat.rpn_conv.bias is not in pretrained model\n",
      "2022-04-01 21:36:19 [WARNING]\trpn_head.rpn_rois_score.weight is not in pretrained model\n",
      "2022-04-01 21:36:19 [WARNING]\trpn_head.rpn_rois_score.bias is not in pretrained model\n",
      "2022-04-01 21:36:19 [WARNING]\trpn_head.rpn_rois_delta.weight is not in pretrained model\n",
      "2022-04-01 21:36:19 [WARNING]\trpn_head.rpn_rois_delta.bias is not in pretrained model\n",
      "2022-04-01 21:36:19 [WARNING]\tbbox_head.head.fc6.weight is not in pretrained model\n",
      "2022-04-01 21:36:19 [WARNING]\tbbox_head.head.fc6.bias is not in pretrained model\n",
      "2022-04-01 21:36:19 [WARNING]\tbbox_head.head.fc7.weight is not in pretrained model\n",
      "2022-04-01 21:36:19 [WARNING]\tbbox_head.head.fc7.bias is not in pretrained model\n",
      "2022-04-01 21:36:19 [WARNING]\tbbox_head.bbox_score.weight is not in pretrained model\n",
      "2022-04-01 21:36:19 [WARNING]\tbbox_head.bbox_score.bias is not in pretrained model\n",
      "2022-04-01 21:36:19 [WARNING]\tbbox_head.bbox_delta.weight is not in pretrained model\n",
      "2022-04-01 21:36:19 [WARNING]\tbbox_head.bbox_delta.bias is not in pretrained model\n",
      "2022-04-01 21:36:19 [INFO]\tThere are 530/560 variables loaded into FasterRCNN.\n",
      "2022-04-01 21:36:22 [INFO]\t[TRAIN] Epoch=1/13, Step=10/84, loss_rpn_cls=0.688638, loss_rpn_reg=0.061604, loss_bbox_cls=0.677735, loss_bbox_reg=0.000566, loss=1.428542, lr=0.000291, time_each_step=0.26s, eta=0:4:46\n",
      "2022-04-01 21:36:24 [INFO]\t[TRAIN] Epoch=1/13, Step=20/84, loss_rpn_cls=0.606729, loss_rpn_reg=0.085599, loss_bbox_cls=0.304404, loss_bbox_reg=0.001450, loss=0.998182, lr=0.000336, time_each_step=0.2s, eta=0:3:33\n",
      "2022-04-01 21:36:26 [INFO]\t[TRAIN] Epoch=1/13, Step=30/84, loss_rpn_cls=0.351468, loss_rpn_reg=0.052179, loss_bbox_cls=0.210058, loss_bbox_reg=0.000859, loss=0.614564, lr=0.000380, time_each_step=0.21s, eta=0:3:43\n",
      "2022-04-01 21:36:28 [INFO]\t[TRAIN] Epoch=1/13, Step=40/84, loss_rpn_cls=0.230919, loss_rpn_reg=0.029029, loss_bbox_cls=0.397417, loss_bbox_reg=0.294879, loss=0.952243, lr=0.000425, time_each_step=0.21s, eta=0:3:46\n",
      "2022-04-01 21:36:30 [INFO]\t[TRAIN] Epoch=1/13, Step=50/84, loss_rpn_cls=0.123546, loss_rpn_reg=0.022519, loss_bbox_cls=0.280015, loss_bbox_reg=0.128015, loss=0.554096, lr=0.000470, time_each_step=0.21s, eta=0:3:44\n",
      "2022-04-01 21:36:32 [INFO]\t[TRAIN] Epoch=1/13, Step=60/84, loss_rpn_cls=0.166850, loss_rpn_reg=0.054819, loss_bbox_cls=0.440579, loss_bbox_reg=0.352625, loss=1.014873, lr=0.000516, time_each_step=0.2s, eta=0:3:30\n",
      "2022-04-01 21:36:34 [INFO]\t[TRAIN] Epoch=1/13, Step=70/84, loss_rpn_cls=0.123081, loss_rpn_reg=0.038836, loss_bbox_cls=0.441937, loss_bbox_reg=0.339431, loss=0.943286, lr=0.000561, time_each_step=0.19s, eta=0:3:18\n",
      "2022-04-01 21:36:36 [INFO]\t[TRAIN] Epoch=1/13, Step=80/84, loss_rpn_cls=0.097873, loss_rpn_reg=0.042300, loss_bbox_cls=0.544447, loss_bbox_reg=0.458639, loss=1.143259, lr=0.000606, time_each_step=0.2s, eta=0:3:22\n",
      "2022-04-01 21:36:37 [INFO]\t[TRAIN] Epoch 1 finished, loss_rpn_cls=0.32447934, loss_rpn_reg=0.049719553, loss_bbox_cls=0.50781214, loss_bbox_reg=0.1889783, loss=1.0709894 .\n",
      "2022-04-01 21:36:37 [WARNING]\tDetector only supports single card evaluation with batch_size=1 during evaluation, so batch_size is forcibly set to 1.\n",
      "2022-04-01 21:36:37 [INFO]\tStart to evaluate(total_samples=24, total_steps=24)...\n",
      "2022-04-01 21:36:39 [INFO]\tAccumulating evaluatation results...\n",
      "2022-04-01 21:36:39 [INFO]\t[EVAL] Finished, Epoch=1, bbox_map=1.652947 .\n",
      "2022-04-01 21:36:40 [INFO]\tModel saved in output/faster_rcnn_r50_fpn/best_model.\n",
      "2022-04-01 21:36:40 [INFO]\tCurrent evaluated best model on eval_dataset is epoch_1, bbox_map=1.6529467797088038\n",
      "2022-04-01 21:36:40 [INFO]\tModel saved in output/faster_rcnn_r50_fpn/epoch_1.\n",
      "2022-04-01 21:36:42 [INFO]\t[TRAIN] Epoch=2/13, Step=6/84, loss_rpn_cls=0.100599, loss_rpn_reg=0.050782, loss_bbox_cls=0.502477, loss_bbox_reg=0.468493, loss=1.122352, lr=0.000651, time_each_step=0.24s, eta=0:4:26\n",
      "2022-04-01 21:36:44 [INFO]\t[TRAIN] Epoch=2/13, Step=16/84, loss_rpn_cls=0.091138, loss_rpn_reg=0.044535, loss_bbox_cls=0.657941, loss_bbox_reg=0.653390, loss=1.447005, lr=0.000696, time_each_step=0.2s, eta=0:3:47\n",
      "2022-04-01 21:36:46 [INFO]\t[TRAIN] Epoch=2/13, Step=26/84, loss_rpn_cls=0.082714, loss_rpn_reg=0.039574, loss_bbox_cls=0.495999, loss_bbox_reg=0.580842, loss=1.199128, lr=0.000741, time_each_step=0.2s, eta=0:3:47\n",
      "2022-04-01 21:36:48 [INFO]\t[TRAIN] Epoch=2/13, Step=36/84, loss_rpn_cls=0.103562, loss_rpn_reg=0.059959, loss_bbox_cls=0.655388, loss_bbox_reg=0.789057, loss=1.607966, lr=0.000786, time_each_step=0.2s, eta=0:3:43\n",
      "2022-04-01 21:36:50 [INFO]\t[TRAIN] Epoch=2/13, Step=46/84, loss_rpn_cls=0.077621, loss_rpn_reg=0.037834, loss_bbox_cls=0.517488, loss_bbox_reg=0.568044, loss=1.200987, lr=0.000831, time_each_step=0.2s, eta=0:3:39\n",
      "2022-04-01 21:36:52 [INFO]\t[TRAIN] Epoch=2/13, Step=56/84, loss_rpn_cls=0.067942, loss_rpn_reg=0.040758, loss_bbox_cls=0.478113, loss_bbox_reg=0.612063, loss=1.198877, lr=0.000876, time_each_step=0.2s, eta=0:3:44\n",
      "2022-04-01 21:36:54 [INFO]\t[TRAIN] Epoch=2/13, Step=66/84, loss_rpn_cls=0.062688, loss_rpn_reg=0.030527, loss_bbox_cls=0.525268, loss_bbox_reg=0.677480, loss=1.295964, lr=0.000921, time_each_step=0.2s, eta=0:3:35\n",
      "2022-04-01 21:36:56 [INFO]\t[TRAIN] Epoch=2/13, Step=76/84, loss_rpn_cls=0.069121, loss_rpn_reg=0.043327, loss_bbox_cls=0.524261, loss_bbox_reg=0.704690, loss=1.341398, lr=0.000966, time_each_step=0.2s, eta=0:3:32\n",
      "2022-04-01 21:36:58 [INFO]\t[TRAIN] Epoch 2 finished, loss_rpn_cls=0.089846954, loss_rpn_reg=0.04523794, loss_bbox_cls=0.5768898, loss_bbox_reg=0.6561996, loss=1.3681743 .\n",
      "2022-04-01 21:36:58 [WARNING]\tDetector only supports single card evaluation with batch_size=1 during evaluation, so batch_size is forcibly set to 1.\n",
      "2022-04-01 21:36:58 [INFO]\tStart to evaluate(total_samples=24, total_steps=24)...\n",
      "2022-04-01 21:37:00 [INFO]\tAccumulating evaluatation results...\n",
      "2022-04-01 21:37:00 [INFO]\t[EVAL] Finished, Epoch=2, bbox_map=22.225821 .\n",
      "2022-04-01 21:37:07 [INFO]\tModel saved in output/faster_rcnn_r50_fpn/best_model.\n",
      "2022-04-01 21:37:07 [INFO]\tCurrent evaluated best model on eval_dataset is epoch_2, bbox_map=22.225821494479085\n",
      "2022-04-01 21:37:07 [INFO]\tModel saved in output/faster_rcnn_r50_fpn/epoch_2.\n",
      "2022-04-01 21:37:08 [INFO]\t[TRAIN] Epoch=3/13, Step=2/84, loss_rpn_cls=0.059155, loss_rpn_reg=0.031561, loss_bbox_cls=0.558528, loss_bbox_reg=0.741875, loss=1.391120, lr=0.001011, time_each_step=0.24s, eta=0:5:12\n",
      "2022-04-01 21:37:10 [INFO]\t[TRAIN] Epoch=3/13, Step=12/84, loss_rpn_cls=0.071273, loss_rpn_reg=0.039063, loss_bbox_cls=0.579332, loss_bbox_reg=0.704350, loss=1.394018, lr=0.001056, time_each_step=0.19s, eta=0:4:21\n",
      "2022-04-01 21:37:12 [INFO]\t[TRAIN] Epoch=3/13, Step=22/84, loss_rpn_cls=0.056421, loss_rpn_reg=0.045846, loss_bbox_cls=0.609439, loss_bbox_reg=0.763210, loss=1.474914, lr=0.001101, time_each_step=0.2s, eta=0:4:24\n",
      "2022-04-01 21:37:14 [INFO]\t[TRAIN] Epoch=3/13, Step=32/84, loss_rpn_cls=0.073823, loss_rpn_reg=0.044215, loss_bbox_cls=0.718079, loss_bbox_reg=0.822143, loss=1.658260, lr=0.001146, time_each_step=0.2s, eta=0:4:26\n",
      "2022-04-01 21:37:16 [INFO]\t[TRAIN] Epoch=3/13, Step=42/84, loss_rpn_cls=0.064519, loss_rpn_reg=0.053544, loss_bbox_cls=0.516753, loss_bbox_reg=0.752326, loss=1.387142, lr=0.001191, time_each_step=0.2s, eta=0:4:26\n",
      "2022-04-01 21:37:18 [INFO]\t[TRAIN] Epoch=3/13, Step=52/84, loss_rpn_cls=0.046537, loss_rpn_reg=0.055806, loss_bbox_cls=0.633682, loss_bbox_reg=0.748929, loss=1.484953, lr=0.001236, time_each_step=0.19s, eta=0:4:15\n",
      "2022-04-01 21:37:20 [INFO]\t[TRAIN] Epoch=3/13, Step=62/84, loss_rpn_cls=0.048172, loss_rpn_reg=0.058366, loss_bbox_cls=0.751867, loss_bbox_reg=0.720876, loss=1.579281, lr=0.001281, time_each_step=0.2s, eta=0:4:20\n",
      "2022-04-01 21:37:22 [INFO]\t[TRAIN] Epoch=3/13, Step=72/84, loss_rpn_cls=0.021383, loss_rpn_reg=0.051814, loss_bbox_cls=0.482517, loss_bbox_reg=0.487715, loss=1.043430, lr=0.001326, time_each_step=0.21s, eta=0:4:23\n",
      "2022-04-01 21:37:24 [INFO]\t[TRAIN] Epoch=3/13, Step=82/84, loss_rpn_cls=0.022872, loss_rpn_reg=0.025606, loss_bbox_cls=0.514933, loss_bbox_reg=0.715822, loss=1.279233, lr=0.001370, time_each_step=0.2s, eta=0:4:19\n",
      "2022-04-01 21:37:24 [INFO]\t[TRAIN] Epoch 3 finished, loss_rpn_cls=0.04978685, loss_rpn_reg=0.041396182, loss_bbox_cls=0.58016926, loss_bbox_reg=0.6968466, loss=1.368199 .\n",
      "2022-04-01 21:37:24 [WARNING]\tDetector only supports single card evaluation with batch_size=1 during evaluation, so batch_size is forcibly set to 1.\n",
      "2022-04-01 21:37:25 [INFO]\tStart to evaluate(total_samples=24, total_steps=24)...\n",
      "2022-04-01 21:37:26 [INFO]\tAccumulating evaluatation results...\n",
      "2022-04-01 21:37:26 [INFO]\t[EVAL] Finished, Epoch=3, bbox_map=37.305061 .\n",
      "2022-04-01 21:37:30 [INFO]\tModel saved in output/faster_rcnn_r50_fpn/best_model.\n",
      "2022-04-01 21:37:30 [INFO]\tCurrent evaluated best model on eval_dataset is epoch_3, bbox_map=37.30506130574007\n",
      "2022-04-01 21:37:31 [INFO]\tModel saved in output/faster_rcnn_r50_fpn/epoch_3.\n",
      "2022-04-01 21:37:33 [INFO]\t[TRAIN] Epoch=4/13, Step=8/84, loss_rpn_cls=0.061068, loss_rpn_reg=0.036769, loss_bbox_cls=0.610420, loss_bbox_reg=0.699860, loss=1.408116, lr=0.001416, time_each_step=0.22s, eta=0:3:53\n",
      "2022-04-01 21:37:35 [INFO]\t[TRAIN] Epoch=4/13, Step=18/84, loss_rpn_cls=0.028172, loss_rpn_reg=0.031954, loss_bbox_cls=0.462132, loss_bbox_reg=0.694674, loss=1.216931, lr=0.001461, time_each_step=0.19s, eta=0:3:27\n",
      "2022-04-01 21:37:37 [INFO]\t[TRAIN] Epoch=4/13, Step=28/84, loss_rpn_cls=0.041809, loss_rpn_reg=0.036838, loss_bbox_cls=0.547041, loss_bbox_reg=0.650414, loss=1.276102, lr=0.001506, time_each_step=0.2s, eta=0:3:32\n",
      "2022-04-01 21:37:39 [INFO]\t[TRAIN] Epoch=4/13, Step=38/84, loss_rpn_cls=0.022124, loss_rpn_reg=0.026029, loss_bbox_cls=0.579355, loss_bbox_reg=0.686460, loss=1.313967, lr=0.001551, time_each_step=0.19s, eta=0:3:24\n",
      "2022-04-01 21:37:41 [INFO]\t[TRAIN] Epoch=4/13, Step=48/84, loss_rpn_cls=0.020518, loss_rpn_reg=0.033176, loss_bbox_cls=0.513657, loss_bbox_reg=0.553735, loss=1.121085, lr=0.001596, time_each_step=0.2s, eta=0:3:28\n",
      "2022-04-01 21:37:42 [INFO]\t[TRAIN] Epoch=4/13, Step=58/84, loss_rpn_cls=0.027197, loss_rpn_reg=0.027294, loss_bbox_cls=0.529939, loss_bbox_reg=0.671486, loss=1.255916, lr=0.001641, time_each_step=0.19s, eta=0:3:22\n",
      "2022-04-01 21:37:44 [INFO]\t[TRAIN] Epoch=4/13, Step=68/84, loss_rpn_cls=0.015205, loss_rpn_reg=0.040074, loss_bbox_cls=0.516046, loss_bbox_reg=0.580863, loss=1.152187, lr=0.001686, time_each_step=0.2s, eta=0:3:26\n",
      "2022-04-01 21:37:46 [INFO]\t[TRAIN] Epoch=4/13, Step=78/84, loss_rpn_cls=0.027519, loss_rpn_reg=0.040629, loss_bbox_cls=0.495012, loss_bbox_reg=0.640067, loss=1.203227, lr=0.001731, time_each_step=0.2s, eta=0:3:20\n",
      "2022-04-01 21:37:48 [INFO]\t[TRAIN] Epoch 4 finished, loss_rpn_cls=0.02380316, loss_rpn_reg=0.037151825, loss_bbox_cls=0.49296498, loss_bbox_reg=0.62358296, loss=1.1775028 .\n",
      "2022-04-01 21:37:48 [WARNING]\tDetector only supports single card evaluation with batch_size=1 during evaluation, so batch_size is forcibly set to 1.\n",
      "2022-04-01 21:37:48 [INFO]\tStart to evaluate(total_samples=24, total_steps=24)...\n",
      "2022-04-01 21:37:49 [INFO]\tAccumulating evaluatation results...\n",
      "2022-04-01 21:37:49 [INFO]\t[EVAL] Finished, Epoch=4, bbox_map=58.166913 .\n",
      "2022-04-01 21:37:52 [INFO]\tModel saved in output/faster_rcnn_r50_fpn/best_model.\n",
      "2022-04-01 21:37:52 [INFO]\tCurrent evaluated best model on eval_dataset is epoch_4, bbox_map=58.16691323451897\n",
      "2022-04-01 21:37:53 [INFO]\tModel saved in output/faster_rcnn_r50_fpn/epoch_4.\n",
      "2022-04-01 21:37:54 [INFO]\t[TRAIN] Epoch=5/13, Step=4/84, loss_rpn_cls=0.024592, loss_rpn_reg=0.028628, loss_bbox_cls=0.498576, loss_bbox_reg=0.493066, loss=1.044862, lr=0.001776, time_each_step=0.23s, eta=0:3:28\n",
      "2022-04-01 21:37:56 [INFO]\t[TRAIN] Epoch=5/13, Step=14/84, loss_rpn_cls=0.023095, loss_rpn_reg=0.039204, loss_bbox_cls=0.392180, loss_bbox_reg=0.521637, loss=0.976117, lr=0.001821, time_each_step=0.19s, eta=0:3:1\n",
      "2022-04-01 21:37:58 [INFO]\t[TRAIN] Epoch=5/13, Step=24/84, loss_rpn_cls=0.015860, loss_rpn_reg=0.036064, loss_bbox_cls=0.350890, loss_bbox_reg=0.519015, loss=0.921827, lr=0.001866, time_each_step=0.2s, eta=0:3:3\n",
      "2022-04-01 21:38:00 [INFO]\t[TRAIN] Epoch=5/13, Step=34/84, loss_rpn_cls=0.011433, loss_rpn_reg=0.046963, loss_bbox_cls=0.412205, loss_bbox_reg=0.533528, loss=1.004129, lr=0.001911, time_each_step=0.2s, eta=0:3:2\n",
      "2022-04-01 21:38:02 [INFO]\t[TRAIN] Epoch=5/13, Step=44/84, loss_rpn_cls=0.009542, loss_rpn_reg=0.031458, loss_bbox_cls=0.507920, loss_bbox_reg=0.513914, loss=1.062834, lr=0.001956, time_each_step=0.2s, eta=0:2:59\n",
      "2022-04-01 21:38:04 [INFO]\t[TRAIN] Epoch=5/13, Step=54/84, loss_rpn_cls=0.017527, loss_rpn_reg=0.041737, loss_bbox_cls=0.496108, loss_bbox_reg=0.519002, loss=1.074374, lr=0.002001, time_each_step=0.2s, eta=0:3:0\n",
      "2022-04-01 21:38:06 [INFO]\t[TRAIN] Epoch=5/13, Step=64/84, loss_rpn_cls=0.015028, loss_rpn_reg=0.026284, loss_bbox_cls=0.342357, loss_bbox_reg=0.381833, loss=0.765501, lr=0.002046, time_each_step=0.2s, eta=0:2:54\n",
      "2022-04-01 21:38:08 [INFO]\t[TRAIN] Epoch=5/13, Step=74/84, loss_rpn_cls=0.011002, loss_rpn_reg=0.023070, loss_bbox_cls=0.402337, loss_bbox_reg=0.555079, loss=0.991488, lr=0.002091, time_each_step=0.2s, eta=0:2:52\n",
      "2022-04-01 21:38:10 [INFO]\t[TRAIN] Epoch=5/13, Step=84/84, loss_rpn_cls=0.009898, loss_rpn_reg=0.034080, loss_bbox_cls=0.363672, loss_bbox_reg=0.492001, loss=0.899651, lr=0.002136, time_each_step=0.19s, eta=0:2:45\n",
      "2022-04-01 21:38:10 [INFO]\t[TRAIN] Epoch 5 finished, loss_rpn_cls=0.017336782, loss_rpn_reg=0.036569897, loss_bbox_cls=0.44832808, loss_bbox_reg=0.5100006, loss=1.0122354 .\n",
      "2022-04-01 21:38:10 [WARNING]\tDetector only supports single card evaluation with batch_size=1 during evaluation, so batch_size is forcibly set to 1.\n",
      "2022-04-01 21:38:10 [INFO]\tStart to evaluate(total_samples=24, total_steps=24)...\n",
      "2022-04-01 21:38:12 [INFO]\tAccumulating evaluatation results...\n",
      "2022-04-01 21:38:12 [INFO]\t[EVAL] Finished, Epoch=5, bbox_map=62.765215 .\n",
      "2022-04-01 21:38:16 [INFO]\tModel saved in output/faster_rcnn_r50_fpn/best_model.\n",
      "2022-04-01 21:38:16 [INFO]\tCurrent evaluated best model on eval_dataset is epoch_5, bbox_map=62.76521539063328\n",
      "2022-04-01 21:38:16 [INFO]\tModel saved in output/faster_rcnn_r50_fpn/epoch_5.\n",
      "2022-04-01 21:38:19 [INFO]\t[TRAIN] Epoch=6/13, Step=10/84, loss_rpn_cls=0.012201, loss_rpn_reg=0.038127, loss_bbox_cls=0.453354, loss_bbox_reg=0.546867, loss=1.050549, lr=0.002181, time_each_step=0.22s, eta=0:3:5\n",
      "2022-04-01 21:38:20 [INFO]\t[TRAIN] Epoch=6/13, Step=20/84, loss_rpn_cls=0.018018, loss_rpn_reg=0.038247, loss_bbox_cls=0.500000, loss_bbox_reg=0.514630, loss=1.070895, lr=0.002226, time_each_step=0.2s, eta=0:2:46\n",
      "2022-04-01 21:38:23 [INFO]\t[TRAIN] Epoch=6/13, Step=30/84, loss_rpn_cls=0.010887, loss_rpn_reg=0.043620, loss_bbox_cls=0.393133, loss_bbox_reg=0.535122, loss=0.982761, lr=0.002270, time_each_step=0.2s, eta=0:2:48\n",
      "2022-04-01 21:38:25 [INFO]\t[TRAIN] Epoch=6/13, Step=40/84, loss_rpn_cls=0.021221, loss_rpn_reg=0.033766, loss_bbox_cls=0.415474, loss_bbox_reg=0.500660, loss=0.971121, lr=0.002315, time_each_step=0.2s, eta=0:2:43\n",
      "2022-04-01 21:38:27 [INFO]\t[TRAIN] Epoch=6/13, Step=50/84, loss_rpn_cls=0.007808, loss_rpn_reg=0.042334, loss_bbox_cls=0.463229, loss_bbox_reg=0.476681, loss=0.990052, lr=0.002360, time_each_step=0.2s, eta=0:2:40\n",
      "2022-04-01 21:38:28 [INFO]\t[TRAIN] Epoch=6/13, Step=60/84, loss_rpn_cls=0.009075, loss_rpn_reg=0.028056, loss_bbox_cls=0.498763, loss_bbox_reg=0.403361, loss=0.939255, lr=0.002406, time_each_step=0.19s, eta=0:2:31\n",
      "2022-04-01 21:38:30 [INFO]\t[TRAIN] Epoch=6/13, Step=70/84, loss_rpn_cls=0.013975, loss_rpn_reg=0.031942, loss_bbox_cls=0.367278, loss_bbox_reg=0.444434, loss=0.857629, lr=0.002451, time_each_step=0.19s, eta=0:2:33\n",
      "2022-04-01 21:38:32 [INFO]\t[TRAIN] Epoch=6/13, Step=80/84, loss_rpn_cls=0.025791, loss_rpn_reg=0.040669, loss_bbox_cls=0.419475, loss_bbox_reg=0.536871, loss=1.022805, lr=0.002496, time_each_step=0.2s, eta=0:2:33\n",
      "2022-04-01 21:38:33 [INFO]\t[TRAIN] Epoch 6 finished, loss_rpn_cls=0.013578834, loss_rpn_reg=0.0374451, loss_bbox_cls=0.3769132, loss_bbox_reg=0.45194107, loss=0.87987816 .\n",
      "2022-04-01 21:38:33 [WARNING]\tDetector only supports single card evaluation with batch_size=1 during evaluation, so batch_size is forcibly set to 1.\n",
      "2022-04-01 21:38:33 [INFO]\tStart to evaluate(total_samples=24, total_steps=24)...\n",
      "2022-04-01 21:38:35 [INFO]\tAccumulating evaluatation results...\n",
      "2022-04-01 21:38:35 [INFO]\t[EVAL] Finished, Epoch=6, bbox_map=75.826538 .\n",
      "2022-04-01 21:38:38 [INFO]\tModel saved in output/faster_rcnn_r50_fpn/best_model.\n",
      "2022-04-01 21:38:38 [INFO]\tCurrent evaluated best model on eval_dataset is epoch_6, bbox_map=75.82653771491516\n",
      "2022-04-01 21:38:39 [INFO]\tModel saved in output/faster_rcnn_r50_fpn/epoch_6.\n",
      "2022-04-01 21:38:40 [INFO]\t[TRAIN] Epoch=7/13, Step=6/84, loss_rpn_cls=0.005653, loss_rpn_reg=0.025108, loss_bbox_cls=0.358845, loss_bbox_reg=0.355600, loss=0.745206, lr=0.002500, time_each_step=0.22s, eta=0:2:39\n",
      "2022-04-01 21:38:42 [INFO]\t[TRAIN] Epoch=7/13, Step=16/84, loss_rpn_cls=0.013040, loss_rpn_reg=0.043697, loss_bbox_cls=0.397115, loss_bbox_reg=0.524068, loss=0.977920, lr=0.002500, time_each_step=0.19s, eta=0:2:19\n",
      "2022-04-01 21:38:44 [INFO]\t[TRAIN] Epoch=7/13, Step=26/84, loss_rpn_cls=0.005903, loss_rpn_reg=0.030315, loss_bbox_cls=0.295871, loss_bbox_reg=0.445965, loss=0.778055, lr=0.002500, time_each_step=0.19s, eta=0:2:15\n",
      "2022-04-01 21:38:46 [INFO]\t[TRAIN] Epoch=7/13, Step=36/84, loss_rpn_cls=0.009685, loss_rpn_reg=0.029341, loss_bbox_cls=0.338583, loss_bbox_reg=0.461139, loss=0.838750, lr=0.002500, time_each_step=0.19s, eta=0:2:15\n",
      "2022-04-01 21:38:48 [INFO]\t[TRAIN] Epoch=7/13, Step=46/84, loss_rpn_cls=0.008385, loss_rpn_reg=0.034455, loss_bbox_cls=0.259250, loss_bbox_reg=0.312514, loss=0.614603, lr=0.002500, time_each_step=0.19s, eta=0:2:10\n",
      "2022-04-01 21:38:50 [INFO]\t[TRAIN] Epoch=7/13, Step=56/84, loss_rpn_cls=0.013865, loss_rpn_reg=0.035219, loss_bbox_cls=0.413576, loss_bbox_reg=0.410817, loss=0.873476, lr=0.002500, time_each_step=0.19s, eta=0:2:12\n",
      "2022-04-01 21:38:52 [INFO]\t[TRAIN] Epoch=7/13, Step=66/84, loss_rpn_cls=0.019130, loss_rpn_reg=0.029846, loss_bbox_cls=0.321350, loss_bbox_reg=0.444152, loss=0.814479, lr=0.002500, time_each_step=0.2s, eta=0:2:12\n",
      "2022-04-01 21:38:54 [INFO]\t[TRAIN] Epoch=7/13, Step=76/84, loss_rpn_cls=0.009842, loss_rpn_reg=0.046768, loss_bbox_cls=0.453974, loss_bbox_reg=0.485189, loss=0.995774, lr=0.002500, time_each_step=0.2s, eta=0:2:10\n",
      "2022-04-01 21:38:55 [INFO]\t[TRAIN] Epoch 7 finished, loss_rpn_cls=0.011898418, loss_rpn_reg=0.032940518, loss_bbox_cls=0.33010462, loss_bbox_reg=0.40766403, loss=0.78260756 .\n",
      "2022-04-01 21:38:55 [WARNING]\tDetector only supports single card evaluation with batch_size=1 during evaluation, so batch_size is forcibly set to 1.\n",
      "2022-04-01 21:38:56 [INFO]\tStart to evaluate(total_samples=24, total_steps=24)...\n",
      "2022-04-01 21:38:57 [INFO]\tAccumulating evaluatation results...\n",
      "2022-04-01 21:38:57 [INFO]\t[EVAL] Finished, Epoch=7, bbox_map=75.086933 .\n",
      "2022-04-01 21:38:57 [INFO]\tCurrent evaluated best model on eval_dataset is epoch_6, bbox_map=75.82653771491516\n",
      "2022-04-01 21:38:58 [INFO]\tModel saved in output/faster_rcnn_r50_fpn/epoch_7.\n",
      "2022-04-01 21:38:59 [INFO]\t[TRAIN] Epoch=8/13, Step=2/84, loss_rpn_cls=0.002937, loss_rpn_reg=0.015336, loss_bbox_cls=0.325571, loss_bbox_reg=0.330002, loss=0.673846, lr=0.002500, time_each_step=0.22s, eta=0:2:0\n",
      "2022-04-01 21:39:01 [INFO]\t[TRAIN] Epoch=8/13, Step=12/84, loss_rpn_cls=0.014754, loss_rpn_reg=0.033441, loss_bbox_cls=0.294661, loss_bbox_reg=0.419466, loss=0.762322, lr=0.002500, time_each_step=0.2s, eta=0:1:47\n",
      "2022-04-01 21:39:03 [INFO]\t[TRAIN] Epoch=8/13, Step=22/84, loss_rpn_cls=0.012932, loss_rpn_reg=0.043563, loss_bbox_cls=0.500336, loss_bbox_reg=0.437684, loss=0.994514, lr=0.002500, time_each_step=0.2s, eta=0:1:44\n",
      "2022-04-01 21:39:05 [INFO]\t[TRAIN] Epoch=8/13, Step=32/84, loss_rpn_cls=0.018566, loss_rpn_reg=0.021036, loss_bbox_cls=0.318660, loss_bbox_reg=0.341044, loss=0.699306, lr=0.002500, time_each_step=0.2s, eta=0:1:42\n",
      "2022-04-01 21:39:07 [INFO]\t[TRAIN] Epoch=8/13, Step=42/84, loss_rpn_cls=0.009390, loss_rpn_reg=0.030257, loss_bbox_cls=0.266262, loss_bbox_reg=0.425929, loss=0.731838, lr=0.002500, time_each_step=0.2s, eta=0:1:39\n",
      "2022-04-01 21:39:09 [INFO]\t[TRAIN] Epoch=8/13, Step=52/84, loss_rpn_cls=0.007223, loss_rpn_reg=0.036201, loss_bbox_cls=0.212456, loss_bbox_reg=0.352062, loss=0.607942, lr=0.002500, time_each_step=0.19s, eta=0:1:36\n",
      "2022-04-01 21:39:11 [INFO]\t[TRAIN] Epoch=8/13, Step=62/84, loss_rpn_cls=0.006134, loss_rpn_reg=0.024543, loss_bbox_cls=0.326363, loss_bbox_reg=0.327374, loss=0.684414, lr=0.002500, time_each_step=0.2s, eta=0:1:36\n",
      "2022-04-01 21:39:13 [INFO]\t[TRAIN] Epoch=8/13, Step=72/84, loss_rpn_cls=0.009874, loss_rpn_reg=0.024588, loss_bbox_cls=0.258747, loss_bbox_reg=0.427445, loss=0.720654, lr=0.002500, time_each_step=0.2s, eta=0:1:34\n",
      "2022-04-01 21:39:14 [INFO]\t[TRAIN] Epoch=8/13, Step=82/84, loss_rpn_cls=0.009372, loss_rpn_reg=0.025484, loss_bbox_cls=0.197793, loss_bbox_reg=0.352426, loss=0.585075, lr=0.002500, time_each_step=0.18s, eta=0:1:26\n",
      "2022-04-01 21:39:15 [INFO]\t[TRAIN] Epoch 8 finished, loss_rpn_cls=0.010366443, loss_rpn_reg=0.0310702, loss_bbox_cls=0.29761565, loss_bbox_reg=0.39264792, loss=0.73170024 .\n",
      "2022-04-01 21:39:15 [WARNING]\tDetector only supports single card evaluation with batch_size=1 during evaluation, so batch_size is forcibly set to 1.\n",
      "2022-04-01 21:39:15 [INFO]\tStart to evaluate(total_samples=24, total_steps=24)...\n",
      "2022-04-01 21:39:17 [INFO]\tAccumulating evaluatation results...\n",
      "2022-04-01 21:39:17 [INFO]\t[EVAL] Finished, Epoch=8, bbox_map=78.848092 .\n",
      "2022-04-01 21:39:20 [INFO]\tModel saved in output/faster_rcnn_r50_fpn/best_model.\n",
      "2022-04-01 21:39:20 [INFO]\tCurrent evaluated best model on eval_dataset is epoch_8, bbox_map=78.8480924759803\n",
      "2022-04-01 21:39:21 [INFO]\tModel saved in output/faster_rcnn_r50_fpn/epoch_8.\n",
      "2022-04-01 21:39:23 [INFO]\t[TRAIN] Epoch=9/13, Step=8/84, loss_rpn_cls=0.008512, loss_rpn_reg=0.021373, loss_bbox_cls=0.261581, loss_bbox_reg=0.340477, loss=0.631942, lr=0.002500, time_each_step=0.23s, eta=0:1:57\n",
      "2022-04-01 21:39:25 [INFO]\t[TRAIN] Epoch=9/13, Step=18/84, loss_rpn_cls=0.012364, loss_rpn_reg=0.020647, loss_bbox_cls=0.292205, loss_bbox_reg=0.395806, loss=0.721022, lr=0.002500, time_each_step=0.2s, eta=0:1:41\n",
      "2022-04-01 21:39:27 [INFO]\t[TRAIN] Epoch=9/13, Step=28/84, loss_rpn_cls=0.011485, loss_rpn_reg=0.020880, loss_bbox_cls=0.284830, loss_bbox_reg=0.462293, loss=0.779487, lr=0.002500, time_each_step=0.19s, eta=0:1:37\n",
      "2022-04-01 21:39:29 [INFO]\t[TRAIN] Epoch=9/13, Step=38/84, loss_rpn_cls=0.011797, loss_rpn_reg=0.019048, loss_bbox_cls=0.270773, loss_bbox_reg=0.351808, loss=0.653425, lr=0.002500, time_each_step=0.2s, eta=0:1:36\n",
      "2022-04-01 21:39:31 [INFO]\t[TRAIN] Epoch=9/13, Step=48/84, loss_rpn_cls=0.007738, loss_rpn_reg=0.021594, loss_bbox_cls=0.297185, loss_bbox_reg=0.339765, loss=0.666282, lr=0.002500, time_each_step=0.19s, eta=0:1:33\n",
      "2022-04-01 21:39:33 [INFO]\t[TRAIN] Epoch=9/13, Step=58/84, loss_rpn_cls=0.012967, loss_rpn_reg=0.024635, loss_bbox_cls=0.203938, loss_bbox_reg=0.409117, loss=0.650657, lr=0.002500, time_each_step=0.19s, eta=0:1:30\n",
      "2022-04-01 21:39:35 [INFO]\t[TRAIN] Epoch=9/13, Step=68/84, loss_rpn_cls=0.010781, loss_rpn_reg=0.023932, loss_bbox_cls=0.195511, loss_bbox_reg=0.279630, loss=0.509854, lr=0.002500, time_each_step=0.19s, eta=0:1:30\n",
      "2022-04-01 21:39:37 [INFO]\t[TRAIN] Epoch=9/13, Step=78/84, loss_rpn_cls=0.008757, loss_rpn_reg=0.029164, loss_bbox_cls=0.318601, loss_bbox_reg=0.270539, loss=0.627061, lr=0.002500, time_each_step=0.2s, eta=0:1:30\n",
      "2022-04-01 21:39:38 [INFO]\t[TRAIN] Epoch 9 finished, loss_rpn_cls=0.009291028, loss_rpn_reg=0.028293977, loss_bbox_cls=0.2825139, loss_bbox_reg=0.36233458, loss=0.6824334 .\n",
      "2022-04-01 21:39:38 [WARNING]\tDetector only supports single card evaluation with batch_size=1 during evaluation, so batch_size is forcibly set to 1.\n",
      "2022-04-01 21:39:38 [INFO]\tStart to evaluate(total_samples=24, total_steps=24)...\n",
      "2022-04-01 21:39:40 [INFO]\tAccumulating evaluatation results...\n",
      "2022-04-01 21:39:40 [INFO]\t[EVAL] Finished, Epoch=9, bbox_map=78.639144 .\n",
      "2022-04-01 21:39:40 [INFO]\tCurrent evaluated best model on eval_dataset is epoch_8, bbox_map=78.8480924759803\n",
      "2022-04-01 21:39:41 [INFO]\tModel saved in output/faster_rcnn_r50_fpn/epoch_9.\n",
      "2022-04-01 21:39:42 [INFO]\t[TRAIN] Epoch=10/13, Step=4/84, loss_rpn_cls=0.005551, loss_rpn_reg=0.024292, loss_bbox_cls=0.332127, loss_bbox_reg=0.378892, loss=0.740863, lr=0.002500, time_each_step=0.23s, eta=0:1:20\n",
      "2022-04-01 21:39:44 [INFO]\t[TRAIN] Epoch=10/13, Step=14/84, loss_rpn_cls=0.004161, loss_rpn_reg=0.019793, loss_bbox_cls=0.214464, loss_bbox_reg=0.373002, loss=0.611420, lr=0.002500, time_each_step=0.19s, eta=0:1:7\n",
      "2022-04-01 21:39:46 [INFO]\t[TRAIN] Epoch=10/13, Step=24/84, loss_rpn_cls=0.010893, loss_rpn_reg=0.030428, loss_bbox_cls=0.221356, loss_bbox_reg=0.334707, loss=0.597384, lr=0.002500, time_each_step=0.19s, eta=0:1:5\n",
      "2022-04-01 21:39:48 [INFO]\t[TRAIN] Epoch=10/13, Step=34/84, loss_rpn_cls=0.007769, loss_rpn_reg=0.031148, loss_bbox_cls=0.217576, loss_bbox_reg=0.344473, loss=0.600966, lr=0.002500, time_each_step=0.2s, eta=0:1:5\n",
      "2022-04-01 21:39:49 [INFO]\t[TRAIN] Epoch=10/13, Step=44/84, loss_rpn_cls=0.002581, loss_rpn_reg=0.025905, loss_bbox_cls=0.246188, loss_bbox_reg=0.322348, loss=0.597021, lr=0.002500, time_each_step=0.2s, eta=0:1:2\n",
      "2022-04-01 21:39:51 [INFO]\t[TRAIN] Epoch=10/13, Step=54/84, loss_rpn_cls=0.011177, loss_rpn_reg=0.018400, loss_bbox_cls=0.198661, loss_bbox_reg=0.349945, loss=0.578184, lr=0.002500, time_each_step=0.2s, eta=0:1:0\n",
      "2022-04-01 21:39:54 [INFO]\t[TRAIN] Epoch=10/13, Step=64/84, loss_rpn_cls=0.011160, loss_rpn_reg=0.027562, loss_bbox_cls=0.228978, loss_bbox_reg=0.333252, loss=0.600952, lr=0.002500, time_each_step=0.21s, eta=0:1:1\n",
      "2022-04-01 21:39:55 [INFO]\t[TRAIN] Epoch=10/13, Step=74/84, loss_rpn_cls=0.006916, loss_rpn_reg=0.017096, loss_bbox_cls=0.334199, loss_bbox_reg=0.314422, loss=0.672634, lr=0.002500, time_each_step=0.2s, eta=0:0:57\n",
      "2022-04-01 21:39:57 [INFO]\t[TRAIN] Epoch=10/13, Step=84/84, loss_rpn_cls=0.008698, loss_rpn_reg=0.032272, loss_bbox_cls=0.293401, loss_bbox_reg=0.292131, loss=0.626502, lr=0.002500, time_each_step=0.2s, eta=0:0:55\n",
      "2022-04-01 21:39:58 [INFO]\t[TRAIN] Epoch 10 finished, loss_rpn_cls=0.009646164, loss_rpn_reg=0.028708793, loss_bbox_cls=0.27029872, loss_bbox_reg=0.33334374, loss=0.64199746 .\n",
      "2022-04-01 21:39:58 [WARNING]\tDetector only supports single card evaluation with batch_size=1 during evaluation, so batch_size is forcibly set to 1.\n",
      "2022-04-01 21:39:58 [INFO]\tStart to evaluate(total_samples=24, total_steps=24)...\n",
      "2022-04-01 21:39:59 [INFO]\tAccumulating evaluatation results...\n",
      "2022-04-01 21:39:59 [INFO]\t[EVAL] Finished, Epoch=10, bbox_map=80.934503 .\n",
      "2022-04-01 21:40:03 [INFO]\tModel saved in output/faster_rcnn_r50_fpn/best_model.\n",
      "2022-04-01 21:40:03 [INFO]\tCurrent evaluated best model on eval_dataset is epoch_10, bbox_map=80.93450296154633\n",
      "2022-04-01 21:40:03 [INFO]\tModel saved in output/faster_rcnn_r50_fpn/epoch_10.\n",
      "2022-04-01 21:40:06 [INFO]\t[TRAIN] Epoch=11/13, Step=10/84, loss_rpn_cls=0.007703, loss_rpn_reg=0.020722, loss_bbox_cls=0.441958, loss_bbox_reg=0.343800, loss=0.814183, lr=0.002500, time_each_step=0.22s, eta=0:1:2\n",
      "2022-04-01 21:40:08 [INFO]\t[TRAIN] Epoch=11/13, Step=20/84, loss_rpn_cls=0.013190, loss_rpn_reg=0.028028, loss_bbox_cls=0.305068, loss_bbox_reg=0.300435, loss=0.646720, lr=0.002500, time_each_step=0.2s, eta=0:0:55\n",
      "2022-04-01 21:40:10 [INFO]\t[TRAIN] Epoch=11/13, Step=30/84, loss_rpn_cls=0.004342, loss_rpn_reg=0.021873, loss_bbox_cls=0.193806, loss_bbox_reg=0.273005, loss=0.493025, lr=0.002500, time_each_step=0.19s, eta=0:0:52\n",
      "2022-04-01 21:40:12 [INFO]\t[TRAIN] Epoch=11/13, Step=40/84, loss_rpn_cls=0.012167, loss_rpn_reg=0.027040, loss_bbox_cls=0.353950, loss_bbox_reg=0.363106, loss=0.756263, lr=0.002500, time_each_step=0.2s, eta=0:0:52\n",
      "2022-04-01 21:40:14 [INFO]\t[TRAIN] Epoch=11/13, Step=50/84, loss_rpn_cls=0.012806, loss_rpn_reg=0.035868, loss_bbox_cls=0.267481, loss_bbox_reg=0.358516, loss=0.674671, lr=0.002500, time_each_step=0.2s, eta=0:0:49\n",
      "2022-04-01 21:40:15 [INFO]\t[TRAIN] Epoch=11/13, Step=60/84, loss_rpn_cls=0.005609, loss_rpn_reg=0.043759, loss_bbox_cls=0.252581, loss_bbox_reg=0.443435, loss=0.745385, lr=0.002500, time_each_step=0.2s, eta=0:0:47\n",
      "2022-04-01 21:40:17 [INFO]\t[TRAIN] Epoch=11/13, Step=70/84, loss_rpn_cls=0.006424, loss_rpn_reg=0.029459, loss_bbox_cls=0.243653, loss_bbox_reg=0.302543, loss=0.582080, lr=0.002500, time_each_step=0.19s, eta=0:0:45\n",
      "2022-04-01 21:40:19 [INFO]\t[TRAIN] Epoch=11/13, Step=80/84, loss_rpn_cls=0.003376, loss_rpn_reg=0.032313, loss_bbox_cls=0.194523, loss_bbox_reg=0.307828, loss=0.538039, lr=0.002500, time_each_step=0.2s, eta=0:0:44\n",
      "2022-04-01 21:40:21 [INFO]\t[TRAIN] Epoch 11 finished, loss_rpn_cls=0.007922731, loss_rpn_reg=0.028772201, loss_bbox_cls=0.25430313, loss_bbox_reg=0.3251288, loss=0.61612684 .\n",
      "2022-04-01 21:40:21 [WARNING]\tDetector only supports single card evaluation with batch_size=1 during evaluation, so batch_size is forcibly set to 1.\n",
      "2022-04-01 21:40:21 [INFO]\tStart to evaluate(total_samples=24, total_steps=24)...\n",
      "2022-04-01 21:40:22 [INFO]\tAccumulating evaluatation results...\n",
      "2022-04-01 21:40:22 [INFO]\t[EVAL] Finished, Epoch=11, bbox_map=78.793286 .\n",
      "2022-04-01 21:40:22 [INFO]\tCurrent evaluated best model on eval_dataset is epoch_10, bbox_map=80.93450296154633\n",
      "2022-04-01 21:40:23 [INFO]\tModel saved in output/faster_rcnn_r50_fpn/epoch_11.\n",
      "2022-04-01 21:40:25 [INFO]\t[TRAIN] Epoch=12/13, Step=6/84, loss_rpn_cls=0.005112, loss_rpn_reg=0.022977, loss_bbox_cls=0.254915, loss_bbox_reg=0.311397, loss=0.594401, lr=0.002500, time_each_step=0.25s, eta=0:0:42\n",
      "2022-04-01 21:40:27 [INFO]\t[TRAIN] Epoch=12/13, Step=16/84, loss_rpn_cls=0.024232, loss_rpn_reg=0.030716, loss_bbox_cls=0.288952, loss_bbox_reg=0.290307, loss=0.634208, lr=0.002500, time_each_step=0.19s, eta=0:0:31\n",
      "2022-04-01 21:40:29 [INFO]\t[TRAIN] Epoch=12/13, Step=26/84, loss_rpn_cls=0.011058, loss_rpn_reg=0.016683, loss_bbox_cls=0.217436, loss_bbox_reg=0.277314, loss=0.522491, lr=0.002500, time_each_step=0.2s, eta=0:0:30\n",
      "2022-04-01 21:40:31 [INFO]\t[TRAIN] Epoch=12/13, Step=36/84, loss_rpn_cls=0.005476, loss_rpn_reg=0.029599, loss_bbox_cls=0.179018, loss_bbox_reg=0.356278, loss=0.570371, lr=0.002500, time_each_step=0.2s, eta=0:0:28\n",
      "2022-04-01 21:40:33 [INFO]\t[TRAIN] Epoch=12/13, Step=46/84, loss_rpn_cls=0.004919, loss_rpn_reg=0.027864, loss_bbox_cls=0.169404, loss_bbox_reg=0.330221, loss=0.532408, lr=0.002500, time_each_step=0.19s, eta=0:0:25\n",
      "2022-04-01 21:40:35 [INFO]\t[TRAIN] Epoch=12/13, Step=56/84, loss_rpn_cls=0.005798, loss_rpn_reg=0.025179, loss_bbox_cls=0.176674, loss_bbox_reg=0.295494, loss=0.503145, lr=0.002500, time_each_step=0.2s, eta=0:0:24\n",
      "2022-04-01 21:40:37 [INFO]\t[TRAIN] Epoch=12/13, Step=66/84, loss_rpn_cls=0.008178, loss_rpn_reg=0.035836, loss_bbox_cls=0.257743, loss_bbox_reg=0.269216, loss=0.570973, lr=0.002500, time_each_step=0.2s, eta=0:0:22\n",
      "2022-04-01 21:40:39 [INFO]\t[TRAIN] Epoch=12/13, Step=76/84, loss_rpn_cls=0.009381, loss_rpn_reg=0.027169, loss_bbox_cls=0.234974, loss_bbox_reg=0.304496, loss=0.576020, lr=0.002500, time_each_step=0.2s, eta=0:0:19\n",
      "2022-04-01 21:40:41 [INFO]\t[TRAIN] Epoch 12 finished, loss_rpn_cls=0.0079452945, loss_rpn_reg=0.025713047, loss_bbox_cls=0.24348688, loss_bbox_reg=0.3151452, loss=0.59229046 .\n",
      "2022-04-01 21:40:41 [WARNING]\tDetector only supports single card evaluation with batch_size=1 during evaluation, so batch_size is forcibly set to 1.\n",
      "2022-04-01 21:40:41 [INFO]\tStart to evaluate(total_samples=24, total_steps=24)...\n",
      "2022-04-01 21:40:42 [INFO]\tAccumulating evaluatation results...\n",
      "2022-04-01 21:40:42 [INFO]\t[EVAL] Finished, Epoch=12, bbox_map=83.663978 .\n",
      "2022-04-01 21:40:46 [INFO]\tModel saved in output/faster_rcnn_r50_fpn/best_model.\n",
      "2022-04-01 21:40:46 [INFO]\tCurrent evaluated best model on eval_dataset is epoch_12, bbox_map=83.66397754940242\n",
      "2022-04-01 21:40:47 [INFO]\tModel saved in output/faster_rcnn_r50_fpn/epoch_12.\n",
      "2022-04-01 21:40:48 [INFO]\t[TRAIN] Epoch=13/13, Step=2/84, loss_rpn_cls=0.004010, loss_rpn_reg=0.030073, loss_bbox_cls=0.207106, loss_bbox_reg=0.279488, loss=0.520678, lr=0.002500, time_each_step=0.23s, eta=0:0:18\n",
      "2022-04-01 21:40:49 [INFO]\t[TRAIN] Epoch=13/13, Step=12/84, loss_rpn_cls=0.006634, loss_rpn_reg=0.012873, loss_bbox_cls=0.153420, loss_bbox_reg=0.258005, loss=0.430932, lr=0.002500, time_each_step=0.19s, eta=0:0:13\n",
      "2022-04-01 21:40:51 [INFO]\t[TRAIN] Epoch=13/13, Step=22/84, loss_rpn_cls=0.007549, loss_rpn_reg=0.033626, loss_bbox_cls=0.387455, loss_bbox_reg=0.307233, loss=0.735863, lr=0.002500, time_each_step=0.19s, eta=0:0:12\n",
      "2022-04-01 21:40:53 [INFO]\t[TRAIN] Epoch=13/13, Step=32/84, loss_rpn_cls=0.007029, loss_rpn_reg=0.035972, loss_bbox_cls=0.288532, loss_bbox_reg=0.396112, loss=0.727646, lr=0.002500, time_each_step=0.19s, eta=0:0:10\n",
      "2022-04-01 21:40:55 [INFO]\t[TRAIN] Epoch=13/13, Step=42/84, loss_rpn_cls=0.007716, loss_rpn_reg=0.027687, loss_bbox_cls=0.195618, loss_bbox_reg=0.271565, loss=0.502586, lr=0.002500, time_each_step=0.19s, eta=0:0:8\n",
      "2022-04-01 21:40:57 [INFO]\t[TRAIN] Epoch=13/13, Step=52/84, loss_rpn_cls=0.002970, loss_rpn_reg=0.022478, loss_bbox_cls=0.194408, loss_bbox_reg=0.288880, loss=0.508736, lr=0.002500, time_each_step=0.2s, eta=0:0:6\n",
      "2022-04-01 21:40:59 [INFO]\t[TRAIN] Epoch=13/13, Step=62/84, loss_rpn_cls=0.005820, loss_rpn_reg=0.033299, loss_bbox_cls=0.194136, loss_bbox_reg=0.359409, loss=0.592663, lr=0.002500, time_each_step=0.19s, eta=0:0:4\n",
      "2022-04-01 21:41:01 [INFO]\t[TRAIN] Epoch=13/13, Step=72/84, loss_rpn_cls=0.003374, loss_rpn_reg=0.022223, loss_bbox_cls=0.191544, loss_bbox_reg=0.305700, loss=0.522841, lr=0.002500, time_each_step=0.2s, eta=0:0:2\n",
      "2022-04-01 21:41:03 [INFO]\t[TRAIN] Epoch=13/13, Step=82/84, loss_rpn_cls=0.009064, loss_rpn_reg=0.022721, loss_bbox_cls=0.449577, loss_bbox_reg=0.376745, loss=0.858106, lr=0.002500, time_each_step=0.19s, eta=0:0:0\n",
      "2022-04-01 21:41:04 [INFO]\t[TRAIN] Epoch 13 finished, loss_rpn_cls=0.0064493353, loss_rpn_reg=0.024396112, loss_bbox_cls=0.237914, loss_bbox_reg=0.319864, loss=0.58862346 .\n",
      "2022-04-01 21:41:04 [WARNING]\tDetector only supports single card evaluation with batch_size=1 during evaluation, so batch_size is forcibly set to 1.\n",
      "2022-04-01 21:41:04 [INFO]\tStart to evaluate(total_samples=24, total_steps=24)...\n",
      "2022-04-01 21:41:05 [INFO]\tAccumulating evaluatation results...\n",
      "2022-04-01 21:41:05 [INFO]\t[EVAL] Finished, Epoch=13, bbox_map=79.211208 .\n",
      "2022-04-01 21:41:05 [INFO]\tCurrent evaluated best model on eval_dataset is epoch_12, bbox_map=83.66397754940242\n",
      "2022-04-01 21:41:06 [INFO]\tModel saved in output/faster_rcnn_r50_fpn/epoch_13.\n"
     ]
    }
   ],
   "source": [
    "model.train(\n",
    "    num_epochs=13,\n",
    "    train_dataset=train_dataset,\n",
    "    train_batch_size=2,\n",
    "    eval_dataset=eval_dataset,\n",
    "    learning_rate=0.0025,\n",
    "    lr_decay_epochs=[8, 11],\n",
    "    warmup_steps=500,\n",
    "    warmup_start_lr=0.00025,\n",
    "    # save_interval_epochs=1,\n",
    "    save_dir='output/faster_rcnn_r50_fpn',\n",
    "    use_vdl=True)"
   ]
  },
  {
   "cell_type": "markdown",
   "id": "d123d432-f80e-47c4-9dfc-58b135197e14",
   "metadata": {},
   "source": [
    "\n",
    "### Metric curve from VisualDL"
   ]
  },
  {
   "cell_type": "markdown",
   "id": "24543356-e5ea-49c0-aa5b-e6aba685ac76",
   "metadata": {},
   "source": [
    "![](https://ai-studio-static-online.cdn.bcebos.com/bfca8aa4f75c46c293eba6be9bba5614c554eaee21d54047ab95d413ea429ff3)\n",
    "![](https://ai-studio-static-online.cdn.bcebos.com/52f2fbe2e20f46b8b35d046763a05c5966f45a3dd491484ba8666dda73137917)\n",
    "![](https://ai-studio-static-online.cdn.bcebos.com/5bb2713606a043b0ad81eb3a4a6831605d648c963972479f9043df019901583c)\n",
    "\n"
   ]
  },
  {
   "cell_type": "markdown",
   "id": "d5161cce-b04e-4d3b-8aea-0952cb69059c",
   "metadata": {},
   "source": [
    "## Prediction"
   ]
  },
  {
   "cell_type": "code",
   "execution_count": 8,
   "id": "ac1ff108-3bca-4b35-a434-3e07759d3bf7",
   "metadata": {
    "execution": {
     "iopub.execute_input": "2022-04-01T13:41:06.763145Z",
     "iopub.status.busy": "2022-04-01T13:41:06.762866Z",
     "iopub.status.idle": "2022-04-01T13:41:07.533515Z",
     "shell.execute_reply": "2022-04-01T13:41:07.533019Z",
     "shell.execute_reply.started": "2022-04-01T13:41:06.763120Z"
    },
    "scrolled": true,
    "tags": []
   },
   "outputs": [
    {
     "name": "stdout",
     "output_type": "stream",
     "text": [
      "2022-04-01 21:41:07 [INFO]\tModel[FasterRCNN] loaded.\n",
      "2022-04-01 21:41:07 [INFO]\tThe visualized result is saved at ./output/faster_rcnn_r50_fpn/visualize_0216.jpg\n"
     ]
    }
   ],
   "source": [
    "import paddlex as pdx\n",
    "model = pdx.load_model('output/faster_rcnn_r50_fpn/best_model')\n",
    "image_name = 'insect_det/JPEGImages/0216.jpg'\n",
    "result = model.predict(image_name)\n",
    "\n",
    "pdx.det.visualize(image_name, result, threshold=0.5, save_dir='./output/faster_rcnn_r50_fpn')"
   ]
  },
  {
   "cell_type": "markdown",
   "id": "85b55890-5fa5-4ed1-8b4e-f72c73746bba",
   "metadata": {},
   "source": [
    "### 0216.jpg\n",
    "![](https://ai-studio-static-online.cdn.bcebos.com/e7f192edc43741b99dbd07c171fa2447307d536025984460ba5702860532f237)\n"
   ]
  },
  {
   "cell_type": "code",
   "execution_count": 9,
   "id": "e1c0dc2b-a623-44ae-bc66-13823164415a",
   "metadata": {
    "execution": {
     "iopub.execute_input": "2022-04-01T13:41:07.534553Z",
     "iopub.status.busy": "2022-04-01T13:41:07.534323Z",
     "iopub.status.idle": "2022-04-01T13:41:07.644303Z",
     "shell.execute_reply": "2022-04-01T13:41:07.643818Z",
     "shell.execute_reply.started": "2022-04-01T13:41:07.534531Z"
    },
    "scrolled": true,
    "tags": []
   },
   "outputs": [
    {
     "name": "stdout",
     "output_type": "stream",
     "text": [
      "2022-04-01 21:41:07 [INFO]\tThe visualized result is saved at ./output/faster_rcnn_r50_fpn/visualize_0217.jpg\n"
     ]
    }
   ],
   "source": [
    "image_name = 'insect_det/JPEGImages/0217.jpg'\n",
    "result = model.predict(image_name)\n",
    "\n",
    "pdx.det.visualize(image_name, result, threshold=0.5, save_dir='./output/faster_rcnn_r50_fpn')"
   ]
  },
  {
   "cell_type": "markdown",
   "id": "9dfb4174-9e5c-48b4-b66c-0e7d23493633",
   "metadata": {},
   "source": [
    "### 0217.jpg\n",
    "![](https://ai-studio-static-online.cdn.bcebos.com/94801fd9c84b40138de769b41734f0b58aed5a6419264f9fb6bc4572d857e089)\n"
   ]
  },
  {
   "cell_type": "code",
   "execution_count": 10,
   "id": "f29e4ca2-4435-44a9-9659-4014fd29989a",
   "metadata": {
    "execution": {
     "iopub.execute_input": "2022-04-01T13:41:07.645319Z",
     "iopub.status.busy": "2022-04-01T13:41:07.645091Z",
     "iopub.status.idle": "2022-04-01T13:41:07.751995Z",
     "shell.execute_reply": "2022-04-01T13:41:07.751499Z",
     "shell.execute_reply.started": "2022-04-01T13:41:07.645297Z"
    },
    "scrolled": true,
    "tags": []
   },
   "outputs": [
    {
     "name": "stdout",
     "output_type": "stream",
     "text": [
      "2022-04-01 21:41:07 [INFO]\tThe visualized result is saved at ./output/faster_rcnn_r50_fpn/visualize_0214.jpg\n"
     ]
    }
   ],
   "source": [
    "image_name = 'insect_det/JPEGImages/0214.jpg'\n",
    "result = model.predict(image_name)\n",
    "\n",
    "pdx.det.visualize(image_name, result, threshold=0.5, save_dir='./output/faster_rcnn_r50_fpn')"
   ]
  },
  {
   "cell_type": "markdown",
   "id": "56417342-cf37-4a39-9bec-6c504df4192a",
   "metadata": {},
   "source": [
    "### 0214.jpg\n",
    "![](https://ai-studio-static-online.cdn.bcebos.com/055428a0eea34d76a58dc0efefaf12e950a271c6a96b4820b9c19e136a864488)\n"
   ]
  },
  {
   "cell_type": "code",
   "execution_count": null,
   "id": "50729f63-7894-4014-8892-266ddbb9e6a1",
   "metadata": {
    "scrolled": true
   },
   "outputs": [],
   "source": []
  },
  {
   "cell_type": "code",
   "execution_count": null,
   "id": "cc1a2ba3-10b1-4b58-a088-4187afd9425e",
   "metadata": {
    "scrolled": true
   },
   "outputs": [],
   "source": []
  }
 ],
 "metadata": {
  "kernelspec": {
   "display_name": "Python 3",
   "language": "python",
   "name": "py35-paddle1.2.0"
  },
  "language_info": {
   "codemirror_mode": {
    "name": "ipython",
    "version": 3
   },
   "file_extension": ".py",
   "mimetype": "text/x-python",
   "name": "python",
   "nbconvert_exporter": "python",
   "pygments_lexer": "ipython3",
   "version": "3.7.4"
  }
 },
 "nbformat": 4,
 "nbformat_minor": 5
}
