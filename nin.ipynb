{
 "cells": [
  {
   "cell_type": "markdown",
   "id": "435ecfa0-4a1d-4bbb-b1f1-5feb38e83e55",
   "metadata": {},
   "source": [
    "## Network in Network"
   ]
  },
  {
   "cell_type": "code",
   "execution_count": 1,
   "id": "2117bef6-2e3a-40e8-9536-d39c7978ee66",
   "metadata": {
    "execution": {
     "iopub.execute_input": "2022-03-16T01:50:50.777722Z",
     "iopub.status.busy": "2022-03-16T01:50:50.777400Z",
     "iopub.status.idle": "2022-03-16T01:50:51.267835Z",
     "shell.execute_reply": "2022-03-16T01:50:51.267212Z",
     "shell.execute_reply.started": "2022-03-16T01:50:50.777693Z"
    },
    "scrolled": true
   },
   "outputs": [
    {
     "name": "stdout",
     "output_type": "stream",
     "text": [
      "Wed Mar 16 09:50:51 2022       \n",
      "+-----------------------------------------------------------------------------+\n",
      "| NVIDIA-SMI 450.51.06    Driver Version: 450.51.06    CUDA Version: 11.0     |\n",
      "|-------------------------------+----------------------+----------------------+\n",
      "| GPU  Name        Persistence-M| Bus-Id        Disp.A | Volatile Uncorr. ECC |\n",
      "| Fan  Temp  Perf  Pwr:Usage/Cap|         Memory-Usage | GPU-Util  Compute M. |\n",
      "|                               |                      |               MIG M. |\n",
      "|===============================+======================+======================|\n",
      "|   0  Tesla V100-SXM2...  On   | 00000000:06:00.0 Off |                    0 |\n",
      "| N/A   34C    P0    40W / 300W |      0MiB / 16160MiB |      0%      Default |\n",
      "|                               |                      |                  N/A |\n",
      "+-------------------------------+----------------------+----------------------+\n",
      "                                                                               \n",
      "+-----------------------------------------------------------------------------+\n",
      "| Processes:                                                                  |\n",
      "|  GPU   GI   CI        PID   Type   Process name                  GPU Memory |\n",
      "|        ID   ID                                                   Usage      |\n",
      "|=============================================================================|\n",
      "|  No running processes found                                                 |\n",
      "+-----------------------------------------------------------------------------+\n"
     ]
    }
   ],
   "source": [
    "!nvidia-smi"
   ]
  },
  {
   "cell_type": "code",
   "execution_count": 2,
   "id": "a812bb00-052f-4776-ad60-c4b4228dbd0f",
   "metadata": {
    "execution": {
     "iopub.execute_input": "2022-03-16T01:50:51.270997Z",
     "iopub.status.busy": "2022-03-16T01:50:51.270401Z",
     "iopub.status.idle": "2022-03-16T01:50:52.467302Z",
     "shell.execute_reply": "2022-03-16T01:50:52.466729Z",
     "shell.execute_reply.started": "2022-03-16T01:50:51.270964Z"
    },
    "scrolled": true
   },
   "outputs": [
    {
     "data": {
      "text/plain": [
       "('2.2.2', 'gpu:0')"
      ]
     },
     "execution_count": 2,
     "metadata": {},
     "output_type": "execute_result"
    }
   ],
   "source": [
    "import paddle\n",
    "import numpy as np\n",
    "\n",
    "paddle.__version__, paddle.device.get_device()"
   ]
  },
  {
   "cell_type": "markdown",
   "id": "fad5a536-1a4e-434d-8dab-5efa83b49143",
   "metadata": {},
   "source": [
    "### Data loading"
   ]
  },
  {
   "cell_type": "code",
   "execution_count": 3,
   "id": "ad38c08e-41c3-4595-b769-51bd341adbc5",
   "metadata": {
    "execution": {
     "iopub.execute_input": "2022-03-16T01:50:52.468836Z",
     "iopub.status.busy": "2022-03-16T01:50:52.468335Z",
     "iopub.status.idle": "2022-03-16T01:50:56.544272Z",
     "shell.execute_reply": "2022-03-16T01:50:56.543611Z",
     "shell.execute_reply.started": "2022-03-16T01:50:52.468808Z"
    },
    "scrolled": true
   },
   "outputs": [],
   "source": [
    "import paddle.vision.transforms as T\n",
    "from paddle.vision.datasets import FashionMNIST\n",
    "\n",
    "# loading and normalization\n",
    "# resize the shape to 224x224\n",
    "transform = [T.Resize(size=224), T.Normalize(mean=[127.5], std=[127.5])]\n",
    "transform = T.Compose(transform)\n",
    "\n",
    "# constructing traning set and test set\n",
    "fashionmnist_train = FashionMNIST(mode='train', transform=transform)\n",
    "fashionmnist_test = FashionMNIST(mode='test', transform=transform)"
   ]
  },
  {
   "cell_type": "code",
   "execution_count": 4,
   "id": "3f33ac89-0ddf-4593-ae59-c779b4ff8450",
   "metadata": {
    "execution": {
     "iopub.execute_input": "2022-03-16T01:50:56.545691Z",
     "iopub.status.busy": "2022-03-16T01:50:56.545266Z",
     "iopub.status.idle": "2022-03-16T01:50:56.549371Z",
     "shell.execute_reply": "2022-03-16T01:50:56.548917Z",
     "shell.execute_reply.started": "2022-03-16T01:50:56.545664Z"
    },
    "scrolled": true
   },
   "outputs": [
    {
     "data": {
      "text/plain": [
       "(60000, 10000)"
      ]
     },
     "execution_count": 4,
     "metadata": {},
     "output_type": "execute_result"
    }
   ],
   "source": [
    "# nums of train set and test set\n",
    "len(fashionmnist_train), len(fashionmnist_test)"
   ]
  },
  {
   "cell_type": "code",
   "execution_count": 5,
   "id": "2dbc671f-0c10-4fc4-904c-301acc74c952",
   "metadata": {
    "execution": {
     "iopub.execute_input": "2022-03-16T01:50:56.550405Z",
     "iopub.status.busy": "2022-03-16T01:50:56.550111Z",
     "iopub.status.idle": "2022-03-16T01:50:56.555358Z",
     "shell.execute_reply": "2022-03-16T01:50:56.554911Z",
     "shell.execute_reply.started": "2022-03-16T01:50:56.550382Z"
    },
    "scrolled": true
   },
   "outputs": [
    {
     "data": {
      "text/plain": [
       "((1, 224, 224), (1, 224, 224))"
      ]
     },
     "execution_count": 5,
     "metadata": {},
     "output_type": "execute_result"
    }
   ],
   "source": [
    "# As for one sample, channel = 1, height, weight = 224\n",
    "# for adapting to the input shape of NiN\n",
    "fashionmnist_train[0][0].shape, fashionmnist_test[0][0].shape"
   ]
  },
  {
   "cell_type": "code",
   "execution_count": 6,
   "id": "d5c43828-ffe1-4782-b869-8a7c89dd4513",
   "metadata": {
    "execution": {
     "iopub.execute_input": "2022-03-16T01:50:56.556330Z",
     "iopub.status.busy": "2022-03-16T01:50:56.556115Z",
     "iopub.status.idle": "2022-03-16T01:50:56.559382Z",
     "shell.execute_reply": "2022-03-16T01:50:56.558930Z",
     "shell.execute_reply.started": "2022-03-16T01:50:56.556309Z"
    },
    "scrolled": true
   },
   "outputs": [],
   "source": [
    "train_loader = paddle.io.DataLoader(fashionmnist_train, batch_size=256, shuffle=True)\n",
    "test_loader = paddle.io.DataLoader(fashionmnist_test, batch_size=64, shuffle=False)"
   ]
  },
  {
   "cell_type": "markdown",
   "id": "48e03ecd-2f8e-496c-928a-b0ba2cba860f",
   "metadata": {},
   "source": [
    "### Model"
   ]
  },
  {
   "cell_type": "code",
   "execution_count": 7,
   "id": "54f64bf0-f6df-48e1-95fe-99f51b9585c2",
   "metadata": {
    "execution": {
     "iopub.execute_input": "2022-03-16T01:50:56.560338Z",
     "iopub.status.busy": "2022-03-16T01:50:56.560039Z",
     "iopub.status.idle": "2022-03-16T01:50:56.564012Z",
     "shell.execute_reply": "2022-03-16T01:50:56.563545Z",
     "shell.execute_reply.started": "2022-03-16T01:50:56.560316Z"
    },
    "scrolled": true
   },
   "outputs": [],
   "source": [
    "from paddle import nn\n",
    "\n",
    "# define nin block as building blocks\n",
    "def nin_block(in_channels, out_channels, kernel_size, strides, padding):\n",
    "    return nn.Sequential(\n",
    "        nn.Conv2D(in_channels, out_channels, kernel_size, strides, padding),\n",
    "        nn.ReLU(),\n",
    "        nn.Conv2D(out_channels, out_channels, kernel_size=1), nn.ReLU(),\n",
    "        nn.Conv2D(out_channels, out_channels, kernel_size=1), nn.ReLU())"
   ]
  },
  {
   "cell_type": "code",
   "execution_count": 8,
   "id": "1ef62ddf-f8fe-4edb-9c00-7de6a7a76211",
   "metadata": {
    "execution": {
     "iopub.execute_input": "2022-03-16T01:50:56.564823Z",
     "iopub.status.busy": "2022-03-16T01:50:56.564674Z",
     "iopub.status.idle": "2022-03-16T01:50:59.214586Z",
     "shell.execute_reply": "2022-03-16T01:50:59.213974Z",
     "shell.execute_reply.started": "2022-03-16T01:50:56.564805Z"
    },
    "scrolled": true
   },
   "outputs": [
    {
     "name": "stderr",
     "output_type": "stream",
     "text": [
      "W0316 09:50:56.573233  2671 device_context.cc:447] Please NOTE: device: 0, GPU Compute Capability: 7.0, Driver API Version: 11.0, Runtime API Version: 10.1\n",
      "W0316 09:50:56.576443  2671 device_context.cc:465] device: 0, cuDNN Version: 7.6.\n"
     ]
    }
   ],
   "source": [
    "nin_net = nn.Sequential(\n",
    "    nin_block(1, 96, kernel_size=11, strides=4, padding=0),\n",
    "    nn.MaxPool2D(3, stride=2),\n",
    "    nin_block(96, 256, kernel_size=5, strides=1, padding=2),\n",
    "    nn.MaxPool2D(3, stride=2),\n",
    "    nin_block(256, 384, kernel_size=3, strides=1, padding=1),\n",
    "    nn.MaxPool2D(3, stride=2),\n",
    "    nn.Dropout(0.5),\n",
    "    # There are 10 label classes\n",
    "    nin_block(384, 10, kernel_size=3, strides=1, padding=1),\n",
    "    nn.AdaptiveAvgPool2D((1, 1)),\n",
    "    # Transform the four-dimensional output into two-dimensional output with a\n",
    "    # shape of (batch size, 10)\n",
    "    nn.Flatten())"
   ]
  },
  {
   "cell_type": "code",
   "execution_count": 9,
   "id": "3804049c-59ff-4da8-ad67-fa66a2b179c1",
   "metadata": {
    "execution": {
     "iopub.execute_input": "2022-03-16T01:50:59.215994Z",
     "iopub.status.busy": "2022-03-16T01:50:59.215693Z",
     "iopub.status.idle": "2022-03-16T01:50:59.229502Z",
     "shell.execute_reply": "2022-03-16T01:50:59.229026Z",
     "shell.execute_reply.started": "2022-03-16T01:50:59.215970Z"
    },
    "scrolled": true
   },
   "outputs": [
    {
     "name": "stdout",
     "output_type": "stream",
     "text": [
      "-------------------------------------------------------------------------------\n",
      "   Layer (type)         Input Shape          Output Shape         Param #    \n",
      "===============================================================================\n",
      "     Conv2D-1        [[1, 1, 224, 224]]    [1, 96, 54, 54]        11,712     \n",
      "      ReLU-1         [[1, 96, 54, 54]]     [1, 96, 54, 54]           0       \n",
      "     Conv2D-2        [[1, 96, 54, 54]]     [1, 96, 54, 54]         9,312     \n",
      "      ReLU-2         [[1, 96, 54, 54]]     [1, 96, 54, 54]           0       \n",
      "     Conv2D-3        [[1, 96, 54, 54]]     [1, 96, 54, 54]         9,312     \n",
      "      ReLU-3         [[1, 96, 54, 54]]     [1, 96, 54, 54]           0       \n",
      "    MaxPool2D-1      [[1, 96, 54, 54]]     [1, 96, 26, 26]           0       \n",
      "     Conv2D-4        [[1, 96, 26, 26]]     [1, 256, 26, 26]       614,656    \n",
      "      ReLU-4         [[1, 256, 26, 26]]    [1, 256, 26, 26]          0       \n",
      "     Conv2D-5        [[1, 256, 26, 26]]    [1, 256, 26, 26]       65,792     \n",
      "      ReLU-5         [[1, 256, 26, 26]]    [1, 256, 26, 26]          0       \n",
      "     Conv2D-6        [[1, 256, 26, 26]]    [1, 256, 26, 26]       65,792     \n",
      "      ReLU-6         [[1, 256, 26, 26]]    [1, 256, 26, 26]          0       \n",
      "    MaxPool2D-2      [[1, 256, 26, 26]]    [1, 256, 12, 12]          0       \n",
      "     Conv2D-7        [[1, 256, 12, 12]]    [1, 384, 12, 12]       885,120    \n",
      "      ReLU-7         [[1, 384, 12, 12]]    [1, 384, 12, 12]          0       \n",
      "     Conv2D-8        [[1, 384, 12, 12]]    [1, 384, 12, 12]       147,840    \n",
      "      ReLU-8         [[1, 384, 12, 12]]    [1, 384, 12, 12]          0       \n",
      "     Conv2D-9        [[1, 384, 12, 12]]    [1, 384, 12, 12]       147,840    \n",
      "      ReLU-9         [[1, 384, 12, 12]]    [1, 384, 12, 12]          0       \n",
      "    MaxPool2D-3      [[1, 384, 12, 12]]     [1, 384, 5, 5]           0       \n",
      "     Dropout-1        [[1, 384, 5, 5]]      [1, 384, 5, 5]           0       \n",
      "     Conv2D-10        [[1, 384, 5, 5]]      [1, 10, 5, 5]         34,570     \n",
      "      ReLU-10         [[1, 10, 5, 5]]       [1, 10, 5, 5]            0       \n",
      "     Conv2D-11        [[1, 10, 5, 5]]       [1, 10, 5, 5]           110      \n",
      "      ReLU-11         [[1, 10, 5, 5]]       [1, 10, 5, 5]            0       \n",
      "     Conv2D-12        [[1, 10, 5, 5]]       [1, 10, 5, 5]           110      \n",
      "      ReLU-12         [[1, 10, 5, 5]]       [1, 10, 5, 5]            0       \n",
      "AdaptiveAvgPool2D-1   [[1, 10, 5, 5]]       [1, 10, 1, 1]            0       \n",
      "     Flatten-1        [[1, 10, 1, 1]]          [1, 10]               0       \n",
      "===============================================================================\n",
      "Total params: 1,992,166\n",
      "Trainable params: 1,992,166\n",
      "Non-trainable params: 0\n",
      "-------------------------------------------------------------------------------\n",
      "Input size (MB): 0.19\n",
      "Forward/backward pass size (MB): 24.20\n",
      "Params size (MB): 7.60\n",
      "Estimated Total Size (MB): 31.99\n",
      "-------------------------------------------------------------------------------\n",
      "\n"
     ]
    },
    {
     "data": {
      "text/plain": [
       "{'total_params': 1992166, 'trainable_params': 1992166}"
      ]
     },
     "execution_count": 9,
     "metadata": {},
     "output_type": "execute_result"
    }
   ],
   "source": [
    "# instantiation\n",
    "model = paddle.Model(nin_net)\n",
    "\n",
    "# visualization of the model workflow\n",
    "model.summary((-1, 1, 224, 224)) # [N C H W]"
   ]
  },
  {
   "cell_type": "markdown",
   "id": "01ed9aae-3bba-409c-97e7-7660e68f19ce",
   "metadata": {},
   "source": [
    "### Training"
   ]
  },
  {
   "cell_type": "code",
   "execution_count": 10,
   "id": "cf6647f9-b85d-4559-bf2e-5087561d80ca",
   "metadata": {
    "execution": {
     "iopub.execute_input": "2022-03-16T01:50:59.230658Z",
     "iopub.status.busy": "2022-03-16T01:50:59.230283Z",
     "iopub.status.idle": "2022-03-16T02:04:36.939331Z",
     "shell.execute_reply": "2022-03-16T02:04:36.938780Z",
     "shell.execute_reply.started": "2022-03-16T01:50:59.230633Z"
    },
    "scrolled": true
   },
   "outputs": [
    {
     "name": "stdout",
     "output_type": "stream",
     "text": [
      "The loss value printed in the log is the current step, and the metric is the average value of previous steps.\n",
      "Epoch 1/20\n"
     ]
    },
    {
     "name": "stderr",
     "output_type": "stream",
     "text": [
      "/opt/conda/envs/python35-paddle120-env/lib/python3.7/site-packages/paddle/fluid/layers/utils.py:77: DeprecationWarning: Using or importing the ABCs from 'collections' instead of from 'collections.abc' is deprecated, and in 3.8 it will stop working\n",
      "  return (isinstance(seq, collections.Sequence) and\n"
     ]
    },
    {
     "name": "stdout",
     "output_type": "stream",
     "text": [
      "step 235/235 [==============================] - loss: 0.7167 - acc: 0.4291 - 175ms/step          \n",
      "Epoch 2/20\n",
      "step 235/235 [==============================] - loss: 0.3616 - acc: 0.8147 - 173ms/step          \n",
      "Epoch 3/20\n",
      "step 235/235 [==============================] - loss: 0.4375 - acc: 0.8636 - 174ms/step          \n",
      "Epoch 4/20\n",
      "step 235/235 [==============================] - loss: 0.3586 - acc: 0.8817 - 174ms/step          \n",
      "Epoch 5/20\n",
      "step 235/235 [==============================] - loss: 0.2975 - acc: 0.8918 - 173ms/step          \n",
      "Epoch 6/20\n",
      "step 235/235 [==============================] - loss: 0.3766 - acc: 0.9024 - 174ms/step          \n",
      "Epoch 7/20\n",
      "step 235/235 [==============================] - loss: 0.2790 - acc: 0.9083 - 175ms/step          \n",
      "Epoch 8/20\n",
      "step 235/235 [==============================] - loss: 0.2330 - acc: 0.9143 - 173ms/step          \n",
      "Epoch 9/20\n",
      "step 235/235 [==============================] - loss: 0.1308 - acc: 0.9215 - 175ms/step          \n",
      "Epoch 10/20\n",
      "step 235/235 [==============================] - loss: 0.1504 - acc: 0.9273 - 174ms/step          \n",
      "Epoch 11/20\n",
      "step 235/235 [==============================] - loss: 0.1466 - acc: 0.9304 - 172ms/step          \n",
      "Epoch 12/20\n",
      "step 235/235 [==============================] - loss: 0.1465 - acc: 0.9349 - 174ms/step          \n",
      "Epoch 13/20\n",
      "step 235/235 [==============================] - loss: 0.0701 - acc: 0.9366 - 175ms/step          \n",
      "Epoch 14/20\n",
      "step 235/235 [==============================] - loss: 0.2282 - acc: 0.9390 - 173ms/step          \n",
      "Epoch 15/20\n",
      "step 235/235 [==============================] - loss: 0.2454 - acc: 0.9428 - 173ms/step          \n",
      "Epoch 16/20\n",
      "step 235/235 [==============================] - loss: 0.1688 - acc: 0.9471 - 175ms/step          \n",
      "Epoch 17/20\n",
      "step 235/235 [==============================] - loss: 0.1868 - acc: 0.9486 - 173ms/step          \n",
      "Epoch 18/20\n",
      "step 235/235 [==============================] - loss: 0.0949 - acc: 0.9539 - 175ms/step          \n",
      "Epoch 19/20\n",
      "step 235/235 [==============================] - loss: 0.0658 - acc: 0.9583 - 174ms/step          \n",
      "Epoch 20/20\n",
      "step 235/235 [==============================] - loss: 0.0735 - acc: 0.9577 - 174ms/step          \n"
     ]
    }
   ],
   "source": [
    "# optimizer and loss\n",
    "model.prepare(optimizer=paddle.optimizer.Adam(parameters=model.parameters(), learning_rate=1e-3),\n",
    "              loss=nn.CrossEntropyLoss(),\n",
    "              metrics=paddle.metric.Accuracy())\n",
    "\n",
    "# training\n",
    "model.fit(train_loader,\n",
    "        # eval_data = test_loader\n",
    "        epochs=20,\n",
    "        verbose=1,\n",
    "        )"
   ]
  },
  {
   "cell_type": "code",
   "execution_count": 11,
   "id": "757d05bc-a07d-4d27-9c97-cc76594b59d0",
   "metadata": {
    "execution": {
     "iopub.execute_input": "2022-03-16T02:04:36.941826Z",
     "iopub.status.busy": "2022-03-16T02:04:36.941407Z",
     "iopub.status.idle": "2022-03-16T02:05:17.986927Z",
     "shell.execute_reply": "2022-03-16T02:05:17.986400Z",
     "shell.execute_reply.started": "2022-03-16T02:04:36.941799Z"
    },
    "scrolled": true
   },
   "outputs": [
    {
     "name": "stdout",
     "output_type": "stream",
     "text": [
      "Eval begin...\n",
      "step 10000/10000 [==============================] - loss: 0.0207 - acc: 0.9133 - 4ms/step              \n",
      "Eval samples: 10000\n"
     ]
    },
    {
     "data": {
      "text/plain": [
       "{'loss': [0.020713678], 'acc': 0.9133}"
      ]
     },
     "execution_count": 11,
     "metadata": {},
     "output_type": "execute_result"
    }
   ],
   "source": [
    "model.evaluate(fashionmnist_test, verbose=1)"
   ]
  },
  {
   "cell_type": "code",
   "execution_count": null,
   "id": "b464be06-c0ca-4655-acae-6138af50461e",
   "metadata": {
    "scrolled": true
   },
   "outputs": [],
   "source": []
  },
  {
   "cell_type": "code",
   "execution_count": null,
   "id": "4bd44a7e-473f-478f-a494-f5257098e18c",
   "metadata": {
    "scrolled": true
   },
   "outputs": [],
   "source": []
  }
 ],
 "metadata": {
  "kernelspec": {
   "display_name": "Python 3",
   "language": "python",
   "name": "py35-paddle1.2.0"
  },
  "language_info": {
   "codemirror_mode": {
    "name": "ipython",
    "version": 3
   },
   "file_extension": ".py",
   "mimetype": "text/x-python",
   "name": "python",
   "nbconvert_exporter": "python",
   "pygments_lexer": "ipython3",
   "version": "3.7.4"
  }
 },
 "nbformat": 4,
 "nbformat_minor": 5
}
