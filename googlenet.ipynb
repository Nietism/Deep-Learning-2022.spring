{
 "cells": [
  {
   "cell_type": "markdown",
   "id": "dcc371e1-0550-4520-8846-292c8515b82b",
   "metadata": {
    "execution": {
     "iopub.execute_input": "2022-03-07T10:23:42.604073Z",
     "iopub.status.busy": "2022-03-07T10:23:42.603376Z",
     "iopub.status.idle": "2022-03-07T10:23:42.613412Z",
     "shell.execute_reply": "2022-03-07T10:23:42.612808Z",
     "shell.execute_reply.started": "2022-03-07T10:23:42.604034Z"
    }
   },
   "source": [
    "## GoogLeNet"
   ]
  },
  {
   "cell_type": "code",
   "execution_count": 1,
   "id": "1a6a997f-6c52-4c35-b7d4-cfcf06e08985",
   "metadata": {
    "execution": {
     "iopub.execute_input": "2022-03-07T12:06:11.599411Z",
     "iopub.status.busy": "2022-03-07T12:06:11.598945Z",
     "iopub.status.idle": "2022-03-07T12:06:12.058478Z",
     "shell.execute_reply": "2022-03-07T12:06:12.057774Z",
     "shell.execute_reply.started": "2022-03-07T12:06:11.599378Z"
    },
    "scrolled": true
   },
   "outputs": [
    {
     "name": "stdout",
     "output_type": "stream",
     "text": [
      "Mon Mar  7 20:06:11 2022       \n",
      "+-----------------------------------------------------------------------------+\n",
      "| NVIDIA-SMI 450.51.06    Driver Version: 450.51.06    CUDA Version: 11.0     |\n",
      "|-------------------------------+----------------------+----------------------+\n",
      "| GPU  Name        Persistence-M| Bus-Id        Disp.A | Volatile Uncorr. ECC |\n",
      "| Fan  Temp  Perf  Pwr:Usage/Cap|         Memory-Usage | GPU-Util  Compute M. |\n",
      "|                               |                      |               MIG M. |\n",
      "|===============================+======================+======================|\n",
      "|   0  Tesla V100-SXM2...  Off  | 00000000:00:09.0 Off |                    0 |\n",
      "| N/A   54C    P0    56W / 300W |   9462MiB / 16160MiB |      0%      Default |\n",
      "|                               |                      |                  N/A |\n",
      "+-------------------------------+----------------------+----------------------+\n",
      "                                                                               \n",
      "+-----------------------------------------------------------------------------+\n",
      "| Processes:                                                                  |\n",
      "|  GPU   GI   CI        PID   Type   Process name                  GPU Memory |\n",
      "|        ID   ID                                                   Usage      |\n",
      "|=============================================================================|\n",
      "+-----------------------------------------------------------------------------+\n"
     ]
    }
   ],
   "source": [
    "!nvidia-smi"
   ]
  },
  {
   "cell_type": "code",
   "execution_count": 2,
   "id": "7b190285-dfff-4669-8da8-e082b43993b2",
   "metadata": {
    "execution": {
     "iopub.execute_input": "2022-03-07T12:06:12.061039Z",
     "iopub.status.busy": "2022-03-07T12:06:12.060291Z",
     "iopub.status.idle": "2022-03-07T12:06:13.717152Z",
     "shell.execute_reply": "2022-03-07T12:06:13.716557Z",
     "shell.execute_reply.started": "2022-03-07T12:06:12.061006Z"
    },
    "scrolled": true
   },
   "outputs": [
    {
     "name": "stderr",
     "output_type": "stream",
     "text": [
      "/opt/conda/envs/python35-paddle120-env/lib/python3.7/site-packages/matplotlib/__init__.py:107: DeprecationWarning: Using or importing the ABCs from 'collections' instead of from 'collections.abc' is deprecated, and in 3.8 it will stop working\n",
      "  from collections import MutableMapping\n",
      "/opt/conda/envs/python35-paddle120-env/lib/python3.7/site-packages/matplotlib/rcsetup.py:20: DeprecationWarning: Using or importing the ABCs from 'collections' instead of from 'collections.abc' is deprecated, and in 3.8 it will stop working\n",
      "  from collections import Iterable, Mapping\n",
      "/opt/conda/envs/python35-paddle120-env/lib/python3.7/site-packages/matplotlib/colors.py:53: DeprecationWarning: Using or importing the ABCs from 'collections' instead of from 'collections.abc' is deprecated, and in 3.8 it will stop working\n",
      "  from collections import Sized\n"
     ]
    },
    {
     "data": {
      "text/plain": [
       "('2.2.2', 'gpu:0')"
      ]
     },
     "execution_count": 2,
     "metadata": {},
     "output_type": "execute_result"
    }
   ],
   "source": [
    "import paddle\r\n",
    "import matplotlib.pyplot as plt\r\n",
    "import matplotlib.image as mping\r\n",
    "import numpy as np\r\n",
    "\r\n",
    "paddle.__version__, paddle.device.get_device()"
   ]
  },
  {
   "cell_type": "markdown",
   "id": "42ec1d6b-f0cf-497e-b356-750826e34a86",
   "metadata": {},
   "source": [
    "### Data loading"
   ]
  },
  {
   "cell_type": "code",
   "execution_count": 3,
   "id": "a1794b42-956d-4e27-9eaa-530674ea6839",
   "metadata": {
    "execution": {
     "iopub.execute_input": "2022-03-07T12:06:13.718682Z",
     "iopub.status.busy": "2022-03-07T12:06:13.718244Z",
     "iopub.status.idle": "2022-03-07T12:06:18.459387Z",
     "shell.execute_reply": "2022-03-07T12:06:18.458604Z",
     "shell.execute_reply.started": "2022-03-07T12:06:13.718650Z"
    },
    "scrolled": true
   },
   "outputs": [],
   "source": [
    "import paddle.vision.transforms as T\r\n",
    "from paddle.vision.datasets import FashionMNIST\r\n",
    "\r\n",
    "# loading and normalization\r\n",
    "# resize the shape to 96x96\r\n",
    "transform = [T.Resize(size=96), T.Normalize(mean=[127.5], std=[127.5])]\r\n",
    "transform = T.Compose(transform)\r\n",
    "\r\n",
    "# constructing traning set and test set\r\n",
    "fashionmnist_train = FashionMNIST(mode='train', transform=transform)\r\n",
    "fashionmnist_test = FashionMNIST(mode='test', transform=transform)"
   ]
  },
  {
   "cell_type": "code",
   "execution_count": 4,
   "id": "4d043fff-6743-43b2-989a-3f3a65ca2d93",
   "metadata": {
    "execution": {
     "iopub.execute_input": "2022-03-07T12:06:18.461192Z",
     "iopub.status.busy": "2022-03-07T12:06:18.460994Z",
     "iopub.status.idle": "2022-03-07T12:06:18.465473Z",
     "shell.execute_reply": "2022-03-07T12:06:18.464883Z",
     "shell.execute_reply.started": "2022-03-07T12:06:18.461167Z"
    },
    "scrolled": true
   },
   "outputs": [
    {
     "data": {
      "text/plain": [
       "(60000, 10000)"
      ]
     },
     "execution_count": 4,
     "metadata": {},
     "output_type": "execute_result"
    }
   ],
   "source": [
    "# nums of train set and test set\r\n",
    "len(fashionmnist_train), len(fashionmnist_test)"
   ]
  },
  {
   "cell_type": "code",
   "execution_count": 5,
   "id": "350960a1-fbe6-4fe4-bb5a-9e7b8c6bef2f",
   "metadata": {
    "execution": {
     "iopub.execute_input": "2022-03-07T12:06:18.466952Z",
     "iopub.status.busy": "2022-03-07T12:06:18.466357Z",
     "iopub.status.idle": "2022-03-07T12:06:18.476849Z",
     "shell.execute_reply": "2022-03-07T12:06:18.476220Z",
     "shell.execute_reply.started": "2022-03-07T12:06:18.466921Z"
    },
    "scrolled": true
   },
   "outputs": [
    {
     "data": {
      "text/plain": [
       "((1, 96, 96), (1, 96, 96))"
      ]
     },
     "execution_count": 5,
     "metadata": {},
     "output_type": "execute_result"
    }
   ],
   "source": [
    "# As for one sample, channel = 1, height, weight = 96\r\n",
    "# for adapting to the input shape of googlenet\r\n",
    "fashionmnist_train[0][0].shape, fashionmnist_test[0][0].shape"
   ]
  },
  {
   "cell_type": "code",
   "execution_count": 6,
   "id": "74a2343c-0662-4a84-a007-eb107ad65af5",
   "metadata": {
    "execution": {
     "iopub.execute_input": "2022-03-07T12:06:18.478490Z",
     "iopub.status.busy": "2022-03-07T12:06:18.477857Z",
     "iopub.status.idle": "2022-03-07T12:06:18.481730Z",
     "shell.execute_reply": "2022-03-07T12:06:18.481173Z",
     "shell.execute_reply.started": "2022-03-07T12:06:18.478459Z"
    },
    "scrolled": true
   },
   "outputs": [],
   "source": [
    "train_loader = paddle.io.DataLoader(fashionmnist_train, batch_size=256, shuffle=True)\r\n",
    "test_loader = paddle.io.DataLoader(fashionmnist_test, batch_size=64, shuffle=False)"
   ]
  },
  {
   "cell_type": "markdown",
   "id": "89a125ee-f0f2-4ee6-a4c5-2a8495d7ea03",
   "metadata": {},
   "source": [
    "### Model"
   ]
  },
  {
   "cell_type": "code",
   "execution_count": 7,
   "id": "a43ac8dd-dd24-4f63-9c1f-666cd65812ba",
   "metadata": {
    "execution": {
     "iopub.execute_input": "2022-03-07T12:06:18.483051Z",
     "iopub.status.busy": "2022-03-07T12:06:18.482512Z",
     "iopub.status.idle": "2022-03-07T12:06:18.506649Z",
     "shell.execute_reply": "2022-03-07T12:06:18.505906Z",
     "shell.execute_reply.started": "2022-03-07T12:06:18.483020Z"
    },
    "scrolled": true
   },
   "outputs": [],
   "source": [
    "import paddle.nn as nn\r\n",
    "import paddle.nn.functional as F\r\n",
    "\r\n",
    "# define inception block as googlenet's buliding blocks\r\n",
    "class Inception(nn.Layer):\r\n",
    "\r\n",
    "    # `c1`--`c4` are the number of output channels for each path\r\n",
    "    def __init__(self, in_channels, c1, c2, c3, c4, **kwargs):\r\n",
    "        super(Inception, self).__init__(**kwargs)\r\n",
    "        # Path 1 is a single 1 x 1 convolutional layer\r\n",
    "        self.p1_1 = nn.Conv2D(in_channels, c1, kernel_size=1)\r\n",
    "        # Path 2 is a 1 x 1 convolutional layer followed by a 3 x 3\r\n",
    "        # convolutional layer\r\n",
    "        self.p2_1 = nn.Conv2D(in_channels, c2[0], kernel_size=1)\r\n",
    "        self.p2_2 = nn.Conv2D(c2[0], c2[1], kernel_size=3, padding=1)\r\n",
    "        # Path 3 is a 1 x 1 convolutional layer followed by a 5 x 5\r\n",
    "        # convolutional layer\r\n",
    "        self.p3_1 = nn.Conv2D(in_channels, c3[0], kernel_size=1)\r\n",
    "        self.p3_2 = nn.Conv2D(c3[0], c3[1], kernel_size=5, padding=2)\r\n",
    "        # Path 4 is a 3 x 3 maximum pooling layer followed by a 1 x 1\r\n",
    "        # convolutional layer\r\n",
    "        self.p4_1 = nn.MaxPool2D(kernel_size=3, stride=1, padding=1)\r\n",
    "        self.p4_2 = nn.Conv2D(in_channels, c4, kernel_size=1)\r\n",
    "\r\n",
    "    def forward(self, x):\r\n",
    "        p1 = F.relu(self.p1_1(x))\r\n",
    "        p2 = F.relu(self.p2_2(F.relu(self.p2_1(x))))\r\n",
    "        p3 = F.relu(self.p3_2(F.relu(self.p3_1(x))))\r\n",
    "        p4 = F.relu(self.p4_2(self.p4_1(x)))\r\n",
    "        # Concatenate the outputs on the channel dimension\r\n",
    "        return paddle.concat((p1, p2, p3, p4), axis=1)"
   ]
  },
  {
   "cell_type": "code",
   "execution_count": 8,
   "id": "9b4ec8f7-ecfe-4dc8-a786-b9178ef7728e",
   "metadata": {
    "execution": {
     "iopub.execute_input": "2022-03-07T12:06:18.508673Z",
     "iopub.status.busy": "2022-03-07T12:06:18.507811Z",
     "iopub.status.idle": "2022-03-07T12:06:21.872047Z",
     "shell.execute_reply": "2022-03-07T12:06:21.871395Z",
     "shell.execute_reply.started": "2022-03-07T12:06:18.508636Z"
    },
    "scrolled": true
   },
   "outputs": [
    {
     "name": "stderr",
     "output_type": "stream",
     "text": [
      "W0307 20:06:18.511240 12954 device_context.cc:447] Please NOTE: device: 0, GPU Compute Capability: 7.0, Driver API Version: 11.0, Runtime API Version: 10.1\n",
      "W0307 20:06:18.516088 12954 device_context.cc:465] device: 0, cuDNN Version: 7.6.\n"
     ]
    }
   ],
   "source": [
    "b1 = nn.Sequential(nn.Conv2D(1, 64, kernel_size=7, stride=2, padding=3),\r\n",
    "                   nn.ReLU(),\r\n",
    "                   nn.MaxPool2D(kernel_size=3, stride=2, padding=1))"
   ]
  },
  {
   "cell_type": "code",
   "execution_count": 9,
   "id": "7575cd69-d1ed-4a82-83f8-5e84eb14ec37",
   "metadata": {
    "execution": {
     "iopub.execute_input": "2022-03-07T12:06:21.873692Z",
     "iopub.status.busy": "2022-03-07T12:06:21.873037Z",
     "iopub.status.idle": "2022-03-07T12:06:21.879902Z",
     "shell.execute_reply": "2022-03-07T12:06:21.879243Z",
     "shell.execute_reply.started": "2022-03-07T12:06:21.873656Z"
    },
    "scrolled": true
   },
   "outputs": [],
   "source": [
    "b2 = nn.Sequential(nn.Conv2D(64, 64, kernel_size=1),\r\n",
    "                   nn.ReLU(),\r\n",
    "                   nn.Conv2D(64, 192, kernel_size=3, padding=1),\r\n",
    "                   nn.ReLU(),\r\n",
    "                   nn.MaxPool2D(kernel_size=3, stride=2, padding=1))"
   ]
  },
  {
   "cell_type": "code",
   "execution_count": 10,
   "id": "836f976e-40db-4e9d-885e-13c73a862220",
   "metadata": {
    "execution": {
     "iopub.execute_input": "2022-03-07T12:06:21.881549Z",
     "iopub.status.busy": "2022-03-07T12:06:21.880866Z",
     "iopub.status.idle": "2022-03-07T12:06:21.896010Z",
     "shell.execute_reply": "2022-03-07T12:06:21.895349Z",
     "shell.execute_reply.started": "2022-03-07T12:06:21.881505Z"
    },
    "scrolled": true
   },
   "outputs": [],
   "source": [
    "b3 = nn.Sequential(Inception(192, 64, (96, 128), (16, 32), 32),\r\n",
    "                   Inception(256, 128, (128, 192), (32, 96), 64),\r\n",
    "                   nn.MaxPool2D(kernel_size=3, stride=2, padding=1))"
   ]
  },
  {
   "cell_type": "code",
   "execution_count": 11,
   "id": "0bd6bf7e-f662-414f-9e5b-718844025954",
   "metadata": {
    "execution": {
     "iopub.execute_input": "2022-03-07T12:06:21.898920Z",
     "iopub.status.busy": "2022-03-07T12:06:21.898316Z",
     "iopub.status.idle": "2022-03-07T12:06:21.930008Z",
     "shell.execute_reply": "2022-03-07T12:06:21.929353Z",
     "shell.execute_reply.started": "2022-03-07T12:06:21.898886Z"
    },
    "scrolled": true
   },
   "outputs": [],
   "source": [
    "b4 = nn.Sequential(Inception(480, 192, (96, 208), (16, 48), 64),\r\n",
    "                   Inception(512, 160, (112, 224), (24, 64), 64),\r\n",
    "                   Inception(512, 128, (128, 256), (24, 64), 64),\r\n",
    "                   Inception(512, 112, (144, 288), (32, 64), 64),\r\n",
    "                   Inception(528, 256, (160, 320), (32, 128), 128),\r\n",
    "                   nn.MaxPool2D(kernel_size=3, stride=2, padding=1))"
   ]
  },
  {
   "cell_type": "code",
   "execution_count": 12,
   "id": "2f9e015b-735f-441d-89b3-267735796e42",
   "metadata": {
    "execution": {
     "iopub.execute_input": "2022-03-07T12:06:21.931445Z",
     "iopub.status.busy": "2022-03-07T12:06:21.930948Z",
     "iopub.status.idle": "2022-03-07T12:06:21.946557Z",
     "shell.execute_reply": "2022-03-07T12:06:21.945987Z",
     "shell.execute_reply.started": "2022-03-07T12:06:21.931416Z"
    },
    "scrolled": true
   },
   "outputs": [],
   "source": [
    "b5 = nn.Sequential(Inception(832, 256, (160, 320), (32, 128), 128),\r\n",
    "                   Inception(832, 384, (192, 384), (48, 128), 128),\r\n",
    "                   nn.AdaptiveAvgPool2D((1,1)),\r\n",
    "                   nn.Flatten()) "
   ]
  },
  {
   "cell_type": "code",
   "execution_count": 13,
   "id": "7af9e8e1-a2ca-41dc-aceb-a787654a8ccf",
   "metadata": {
    "execution": {
     "iopub.execute_input": "2022-03-07T12:06:21.948029Z",
     "iopub.status.busy": "2022-03-07T12:06:21.947464Z",
     "iopub.status.idle": "2022-03-07T12:06:21.953392Z",
     "shell.execute_reply": "2022-03-07T12:06:21.952827Z",
     "shell.execute_reply.started": "2022-03-07T12:06:21.948000Z"
    },
    "scrolled": true
   },
   "outputs": [
    {
     "name": "stdout",
     "output_type": "stream",
     "text": [
      "Sequential(\n",
      "  (0): Sequential(\n",
      "    (0): Conv2D(1, 64, kernel_size=[7, 7], stride=[2, 2], padding=3, data_format=NCHW)\n",
      "    (1): ReLU()\n",
      "    (2): MaxPool2D(kernel_size=3, stride=2, padding=1)\n",
      "  )\n",
      "  (1): Sequential(\n",
      "    (0): Conv2D(64, 64, kernel_size=[1, 1], data_format=NCHW)\n",
      "    (1): ReLU()\n",
      "    (2): Conv2D(64, 192, kernel_size=[3, 3], padding=1, data_format=NCHW)\n",
      "    (3): ReLU()\n",
      "    (4): MaxPool2D(kernel_size=3, stride=2, padding=1)\n",
      "  )\n",
      "  (2): Sequential(\n",
      "    (0): Inception(\n",
      "      (p1_1): Conv2D(192, 64, kernel_size=[1, 1], data_format=NCHW)\n",
      "      (p2_1): Conv2D(192, 96, kernel_size=[1, 1], data_format=NCHW)\n",
      "      (p2_2): Conv2D(96, 128, kernel_size=[3, 3], padding=1, data_format=NCHW)\n",
      "      (p3_1): Conv2D(192, 16, kernel_size=[1, 1], data_format=NCHW)\n",
      "      (p3_2): Conv2D(16, 32, kernel_size=[5, 5], padding=2, data_format=NCHW)\n",
      "      (p4_1): MaxPool2D(kernel_size=3, stride=1, padding=1)\n",
      "      (p4_2): Conv2D(192, 32, kernel_size=[1, 1], data_format=NCHW)\n",
      "    )\n",
      "    (1): Inception(\n",
      "      (p1_1): Conv2D(256, 128, kernel_size=[1, 1], data_format=NCHW)\n",
      "      (p2_1): Conv2D(256, 128, kernel_size=[1, 1], data_format=NCHW)\n",
      "      (p2_2): Conv2D(128, 192, kernel_size=[3, 3], padding=1, data_format=NCHW)\n",
      "      (p3_1): Conv2D(256, 32, kernel_size=[1, 1], data_format=NCHW)\n",
      "      (p3_2): Conv2D(32, 96, kernel_size=[5, 5], padding=2, data_format=NCHW)\n",
      "      (p4_1): MaxPool2D(kernel_size=3, stride=1, padding=1)\n",
      "      (p4_2): Conv2D(256, 64, kernel_size=[1, 1], data_format=NCHW)\n",
      "    )\n",
      "    (2): MaxPool2D(kernel_size=3, stride=2, padding=1)\n",
      "  )\n",
      "  (3): Sequential(\n",
      "    (0): Inception(\n",
      "      (p1_1): Conv2D(480, 192, kernel_size=[1, 1], data_format=NCHW)\n",
      "      (p2_1): Conv2D(480, 96, kernel_size=[1, 1], data_format=NCHW)\n",
      "      (p2_2): Conv2D(96, 208, kernel_size=[3, 3], padding=1, data_format=NCHW)\n",
      "      (p3_1): Conv2D(480, 16, kernel_size=[1, 1], data_format=NCHW)\n",
      "      (p3_2): Conv2D(16, 48, kernel_size=[5, 5], padding=2, data_format=NCHW)\n",
      "      (p4_1): MaxPool2D(kernel_size=3, stride=1, padding=1)\n",
      "      (p4_2): Conv2D(480, 64, kernel_size=[1, 1], data_format=NCHW)\n",
      "    )\n",
      "    (1): Inception(\n",
      "      (p1_1): Conv2D(512, 160, kernel_size=[1, 1], data_format=NCHW)\n",
      "      (p2_1): Conv2D(512, 112, kernel_size=[1, 1], data_format=NCHW)\n",
      "      (p2_2): Conv2D(112, 224, kernel_size=[3, 3], padding=1, data_format=NCHW)\n",
      "      (p3_1): Conv2D(512, 24, kernel_size=[1, 1], data_format=NCHW)\n",
      "      (p3_2): Conv2D(24, 64, kernel_size=[5, 5], padding=2, data_format=NCHW)\n",
      "      (p4_1): MaxPool2D(kernel_size=3, stride=1, padding=1)\n",
      "      (p4_2): Conv2D(512, 64, kernel_size=[1, 1], data_format=NCHW)\n",
      "    )\n",
      "    (2): Inception(\n",
      "      (p1_1): Conv2D(512, 128, kernel_size=[1, 1], data_format=NCHW)\n",
      "      (p2_1): Conv2D(512, 128, kernel_size=[1, 1], data_format=NCHW)\n",
      "      (p2_2): Conv2D(128, 256, kernel_size=[3, 3], padding=1, data_format=NCHW)\n",
      "      (p3_1): Conv2D(512, 24, kernel_size=[1, 1], data_format=NCHW)\n",
      "      (p3_2): Conv2D(24, 64, kernel_size=[5, 5], padding=2, data_format=NCHW)\n",
      "      (p4_1): MaxPool2D(kernel_size=3, stride=1, padding=1)\n",
      "      (p4_2): Conv2D(512, 64, kernel_size=[1, 1], data_format=NCHW)\n",
      "    )\n",
      "    (3): Inception(\n",
      "      (p1_1): Conv2D(512, 112, kernel_size=[1, 1], data_format=NCHW)\n",
      "      (p2_1): Conv2D(512, 144, kernel_size=[1, 1], data_format=NCHW)\n",
      "      (p2_2): Conv2D(144, 288, kernel_size=[3, 3], padding=1, data_format=NCHW)\n",
      "      (p3_1): Conv2D(512, 32, kernel_size=[1, 1], data_format=NCHW)\n",
      "      (p3_2): Conv2D(32, 64, kernel_size=[5, 5], padding=2, data_format=NCHW)\n",
      "      (p4_1): MaxPool2D(kernel_size=3, stride=1, padding=1)\n",
      "      (p4_2): Conv2D(512, 64, kernel_size=[1, 1], data_format=NCHW)\n",
      "    )\n",
      "    (4): Inception(\n",
      "      (p1_1): Conv2D(528, 256, kernel_size=[1, 1], data_format=NCHW)\n",
      "      (p2_1): Conv2D(528, 160, kernel_size=[1, 1], data_format=NCHW)\n",
      "      (p2_2): Conv2D(160, 320, kernel_size=[3, 3], padding=1, data_format=NCHW)\n",
      "      (p3_1): Conv2D(528, 32, kernel_size=[1, 1], data_format=NCHW)\n",
      "      (p3_2): Conv2D(32, 128, kernel_size=[5, 5], padding=2, data_format=NCHW)\n",
      "      (p4_1): MaxPool2D(kernel_size=3, stride=1, padding=1)\n",
      "      (p4_2): Conv2D(528, 128, kernel_size=[1, 1], data_format=NCHW)\n",
      "    )\n",
      "    (5): MaxPool2D(kernel_size=3, stride=2, padding=1)\n",
      "  )\n",
      "  (4): Sequential(\n",
      "    (0): Inception(\n",
      "      (p1_1): Conv2D(832, 256, kernel_size=[1, 1], data_format=NCHW)\n",
      "      (p2_1): Conv2D(832, 160, kernel_size=[1, 1], data_format=NCHW)\n",
      "      (p2_2): Conv2D(160, 320, kernel_size=[3, 3], padding=1, data_format=NCHW)\n",
      "      (p3_1): Conv2D(832, 32, kernel_size=[1, 1], data_format=NCHW)\n",
      "      (p3_2): Conv2D(32, 128, kernel_size=[5, 5], padding=2, data_format=NCHW)\n",
      "      (p4_1): MaxPool2D(kernel_size=3, stride=1, padding=1)\n",
      "      (p4_2): Conv2D(832, 128, kernel_size=[1, 1], data_format=NCHW)\n",
      "    )\n",
      "    (1): Inception(\n",
      "      (p1_1): Conv2D(832, 384, kernel_size=[1, 1], data_format=NCHW)\n",
      "      (p2_1): Conv2D(832, 192, kernel_size=[1, 1], data_format=NCHW)\n",
      "      (p2_2): Conv2D(192, 384, kernel_size=[3, 3], padding=1, data_format=NCHW)\n",
      "      (p3_1): Conv2D(832, 48, kernel_size=[1, 1], data_format=NCHW)\n",
      "      (p3_2): Conv2D(48, 128, kernel_size=[5, 5], padding=2, data_format=NCHW)\n",
      "      (p4_1): MaxPool2D(kernel_size=3, stride=1, padding=1)\n",
      "      (p4_2): Conv2D(832, 128, kernel_size=[1, 1], data_format=NCHW)\n",
      "    )\n",
      "    (2): AdaptiveAvgPool2D(output_size=(1, 1))\n",
      "    (3): Flatten()\n",
      "  )\n",
      "  (5): Linear(in_features=1024, out_features=10, dtype=float32)\n",
      ")\n"
     ]
    }
   ],
   "source": [
    "googlenet = nn.Sequential(b1, b2, b3, b4, b5, nn.Linear(1024, 10))\r\n",
    "print(googlenet)"
   ]
  },
  {
   "cell_type": "code",
   "execution_count": 14,
   "id": "bacf698e-2456-429d-a3c6-de2b7173464d",
   "metadata": {
    "execution": {
     "iopub.execute_input": "2022-03-07T12:06:21.954716Z",
     "iopub.status.busy": "2022-03-07T12:06:21.954336Z",
     "iopub.status.idle": "2022-03-07T12:06:21.992501Z",
     "shell.execute_reply": "2022-03-07T12:06:21.991857Z",
     "shell.execute_reply.started": "2022-03-07T12:06:21.954688Z"
    },
    "scrolled": true
   },
   "outputs": [
    {
     "name": "stdout",
     "output_type": "stream",
     "text": [
      "-------------------------------------------------------------------------------\n",
      "   Layer (type)         Input Shape          Output Shape         Param #    \n",
      "===============================================================================\n",
      "     Conv2D-1         [[1, 1, 96, 96]]     [1, 64, 48, 48]         3,200     \n",
      "      ReLU-1         [[1, 64, 48, 48]]     [1, 64, 48, 48]           0       \n",
      "    MaxPool2D-1      [[1, 64, 48, 48]]     [1, 64, 24, 24]           0       \n",
      "     Conv2D-2        [[1, 64, 24, 24]]     [1, 64, 24, 24]         4,160     \n",
      "      ReLU-2         [[1, 64, 24, 24]]     [1, 64, 24, 24]           0       \n",
      "     Conv2D-3        [[1, 64, 24, 24]]     [1, 192, 24, 24]       110,784    \n",
      "      ReLU-3         [[1, 192, 24, 24]]    [1, 192, 24, 24]          0       \n",
      "    MaxPool2D-2      [[1, 192, 24, 24]]    [1, 192, 12, 12]          0       \n",
      "     Conv2D-4        [[1, 192, 12, 12]]    [1, 64, 12, 12]        12,352     \n",
      "     Conv2D-5        [[1, 192, 12, 12]]    [1, 96, 12, 12]        18,528     \n",
      "     Conv2D-6        [[1, 96, 12, 12]]     [1, 128, 12, 12]       110,720    \n",
      "     Conv2D-7        [[1, 192, 12, 12]]    [1, 16, 12, 12]         3,088     \n",
      "     Conv2D-8        [[1, 16, 12, 12]]     [1, 32, 12, 12]        12,832     \n",
      "    MaxPool2D-3      [[1, 192, 12, 12]]    [1, 192, 12, 12]          0       \n",
      "     Conv2D-9        [[1, 192, 12, 12]]    [1, 32, 12, 12]         6,176     \n",
      "    Inception-1      [[1, 192, 12, 12]]    [1, 256, 12, 12]          0       \n",
      "     Conv2D-10       [[1, 256, 12, 12]]    [1, 128, 12, 12]       32,896     \n",
      "     Conv2D-11       [[1, 256, 12, 12]]    [1, 128, 12, 12]       32,896     \n",
      "     Conv2D-12       [[1, 128, 12, 12]]    [1, 192, 12, 12]       221,376    \n",
      "     Conv2D-13       [[1, 256, 12, 12]]    [1, 32, 12, 12]         8,224     \n",
      "     Conv2D-14       [[1, 32, 12, 12]]     [1, 96, 12, 12]        76,896     \n",
      "    MaxPool2D-4      [[1, 256, 12, 12]]    [1, 256, 12, 12]          0       \n",
      "     Conv2D-15       [[1, 256, 12, 12]]    [1, 64, 12, 12]        16,448     \n",
      "    Inception-2      [[1, 256, 12, 12]]    [1, 480, 12, 12]          0       \n",
      "    MaxPool2D-5      [[1, 480, 12, 12]]     [1, 480, 6, 6]           0       \n",
      "     Conv2D-16        [[1, 480, 6, 6]]      [1, 192, 6, 6]        92,352     \n",
      "     Conv2D-17        [[1, 480, 6, 6]]      [1, 96, 6, 6]         46,176     \n",
      "     Conv2D-18        [[1, 96, 6, 6]]       [1, 208, 6, 6]        179,920    \n",
      "     Conv2D-19        [[1, 480, 6, 6]]      [1, 16, 6, 6]          7,696     \n",
      "     Conv2D-20        [[1, 16, 6, 6]]       [1, 48, 6, 6]         19,248     \n",
      "    MaxPool2D-6       [[1, 480, 6, 6]]      [1, 480, 6, 6]           0       \n",
      "     Conv2D-21        [[1, 480, 6, 6]]      [1, 64, 6, 6]         30,784     \n",
      "    Inception-3       [[1, 480, 6, 6]]      [1, 512, 6, 6]           0       \n",
      "     Conv2D-22        [[1, 512, 6, 6]]      [1, 160, 6, 6]        82,080     \n",
      "     Conv2D-23        [[1, 512, 6, 6]]      [1, 112, 6, 6]        57,456     \n",
      "     Conv2D-24        [[1, 112, 6, 6]]      [1, 224, 6, 6]        226,016    \n",
      "     Conv2D-25        [[1, 512, 6, 6]]      [1, 24, 6, 6]         12,312     \n",
      "     Conv2D-26        [[1, 24, 6, 6]]       [1, 64, 6, 6]         38,464     \n",
      "    MaxPool2D-7       [[1, 512, 6, 6]]      [1, 512, 6, 6]           0       \n",
      "     Conv2D-27        [[1, 512, 6, 6]]      [1, 64, 6, 6]         32,832     \n",
      "    Inception-4       [[1, 512, 6, 6]]      [1, 512, 6, 6]           0       \n",
      "     Conv2D-28        [[1, 512, 6, 6]]      [1, 128, 6, 6]        65,664     \n",
      "     Conv2D-29        [[1, 512, 6, 6]]      [1, 128, 6, 6]        65,664     \n",
      "     Conv2D-30        [[1, 128, 6, 6]]      [1, 256, 6, 6]        295,168    \n",
      "     Conv2D-31        [[1, 512, 6, 6]]      [1, 24, 6, 6]         12,312     \n",
      "     Conv2D-32        [[1, 24, 6, 6]]       [1, 64, 6, 6]         38,464     \n",
      "    MaxPool2D-8       [[1, 512, 6, 6]]      [1, 512, 6, 6]           0       \n",
      "     Conv2D-33        [[1, 512, 6, 6]]      [1, 64, 6, 6]         32,832     \n",
      "    Inception-5       [[1, 512, 6, 6]]      [1, 512, 6, 6]           0       \n",
      "     Conv2D-34        [[1, 512, 6, 6]]      [1, 112, 6, 6]        57,456     \n",
      "     Conv2D-35        [[1, 512, 6, 6]]      [1, 144, 6, 6]        73,872     \n",
      "     Conv2D-36        [[1, 144, 6, 6]]      [1, 288, 6, 6]        373,536    \n",
      "     Conv2D-37        [[1, 512, 6, 6]]      [1, 32, 6, 6]         16,416     \n",
      "     Conv2D-38        [[1, 32, 6, 6]]       [1, 64, 6, 6]         51,264     \n",
      "    MaxPool2D-9       [[1, 512, 6, 6]]      [1, 512, 6, 6]           0       \n",
      "     Conv2D-39        [[1, 512, 6, 6]]      [1, 64, 6, 6]         32,832     \n",
      "    Inception-6       [[1, 512, 6, 6]]      [1, 528, 6, 6]           0       \n",
      "     Conv2D-40        [[1, 528, 6, 6]]      [1, 256, 6, 6]        135,424    \n",
      "     Conv2D-41        [[1, 528, 6, 6]]      [1, 160, 6, 6]        84,640     \n",
      "     Conv2D-42        [[1, 160, 6, 6]]      [1, 320, 6, 6]        461,120    \n",
      "     Conv2D-43        [[1, 528, 6, 6]]      [1, 32, 6, 6]         16,928     \n",
      "     Conv2D-44        [[1, 32, 6, 6]]       [1, 128, 6, 6]        102,528    \n",
      "   MaxPool2D-10       [[1, 528, 6, 6]]      [1, 528, 6, 6]           0       \n",
      "     Conv2D-45        [[1, 528, 6, 6]]      [1, 128, 6, 6]        67,712     \n",
      "    Inception-7       [[1, 528, 6, 6]]      [1, 832, 6, 6]           0       \n",
      "   MaxPool2D-11       [[1, 832, 6, 6]]      [1, 832, 3, 3]           0       \n",
      "     Conv2D-46        [[1, 832, 3, 3]]      [1, 256, 3, 3]        213,248    \n",
      "     Conv2D-47        [[1, 832, 3, 3]]      [1, 160, 3, 3]        133,280    \n",
      "     Conv2D-48        [[1, 160, 3, 3]]      [1, 320, 3, 3]        461,120    \n",
      "     Conv2D-49        [[1, 832, 3, 3]]      [1, 32, 3, 3]         26,656     \n",
      "     Conv2D-50        [[1, 32, 3, 3]]       [1, 128, 3, 3]        102,528    \n",
      "   MaxPool2D-12       [[1, 832, 3, 3]]      [1, 832, 3, 3]           0       \n",
      "     Conv2D-51        [[1, 832, 3, 3]]      [1, 128, 3, 3]        106,624    \n",
      "    Inception-8       [[1, 832, 3, 3]]      [1, 832, 3, 3]           0       \n",
      "     Conv2D-52        [[1, 832, 3, 3]]      [1, 384, 3, 3]        319,872    \n",
      "     Conv2D-53        [[1, 832, 3, 3]]      [1, 192, 3, 3]        159,936    \n",
      "     Conv2D-54        [[1, 192, 3, 3]]      [1, 384, 3, 3]        663,936    \n",
      "     Conv2D-55        [[1, 832, 3, 3]]      [1, 48, 3, 3]         39,984     \n",
      "     Conv2D-56        [[1, 48, 3, 3]]       [1, 128, 3, 3]        153,728    \n",
      "   MaxPool2D-13       [[1, 832, 3, 3]]      [1, 832, 3, 3]           0       \n",
      "     Conv2D-57        [[1, 832, 3, 3]]      [1, 128, 3, 3]        106,624    \n",
      "    Inception-9       [[1, 832, 3, 3]]     [1, 1024, 3, 3]           0       \n",
      "AdaptiveAvgPool2D-1  [[1, 1024, 3, 3]]     [1, 1024, 1, 1]           0       \n",
      "     Flatten-1       [[1, 1024, 1, 1]]        [1, 1024]              0       \n",
      "     Linear-1           [[1, 1024]]            [1, 10]            10,250     \n",
      "===============================================================================\n",
      "Total params: 5,977,530\n",
      "Trainable params: 5,977,530\n",
      "Non-trainable params: 0\n",
      "-------------------------------------------------------------------------------\n",
      "Input size (MB): 0.04\n",
      "Forward/backward pass size (MB): 10.50\n",
      "Params size (MB): 22.80\n",
      "Estimated Total Size (MB): 33.34\n",
      "-------------------------------------------------------------------------------\n",
      "\n"
     ]
    },
    {
     "data": {
      "text/plain": [
       "{'total_params': 5977530, 'trainable_params': 5977530}"
      ]
     },
     "execution_count": 14,
     "metadata": {},
     "output_type": "execute_result"
    }
   ],
   "source": [
    "# instantiation\r\n",
    "model = paddle.Model(googlenet)\r\n",
    "\r\n",
    "# visualization of the model workflow\r\n",
    "model.summary((-1, 1, 96, 96)) # [N C H W]"
   ]
  },
  {
   "cell_type": "markdown",
   "id": "6e266099-43df-48cb-b641-5cbd8da4b290",
   "metadata": {},
   "source": [
    "### Training"
   ]
  },
  {
   "cell_type": "code",
   "execution_count": 15,
   "id": "149a4f53-d940-485e-8cf2-b7d9c1f931d2",
   "metadata": {
    "execution": {
     "iopub.execute_input": "2022-03-07T12:08:04.283180Z",
     "iopub.status.busy": "2022-03-07T12:08:04.282610Z",
     "iopub.status.idle": "2022-03-07T12:13:09.389398Z",
     "shell.execute_reply": "2022-03-07T12:13:09.388640Z",
     "shell.execute_reply.started": "2022-03-07T12:08:04.283148Z"
    },
    "scrolled": true
   },
   "outputs": [
    {
     "name": "stdout",
     "output_type": "stream",
     "text": [
      "The loss value printed in the log is the current step, and the metric is the average value of previous steps.\n",
      "Epoch 1/15\n"
     ]
    },
    {
     "name": "stderr",
     "output_type": "stream",
     "text": [
      "/opt/conda/envs/python35-paddle120-env/lib/python3.7/site-packages/paddle/fluid/layers/utils.py:77: DeprecationWarning: Using or importing the ABCs from 'collections' instead of from 'collections.abc' is deprecated, and in 3.8 it will stop working\n",
      "  return (isinstance(seq, collections.Sequence) and\n"
     ]
    },
    {
     "name": "stdout",
     "output_type": "stream",
     "text": [
      "step 235/235 [==============================] - loss: 0.4162 - acc: 0.6761 - 84ms/step          \n",
      "Epoch 2/15\n",
      "step 235/235 [==============================] - loss: 0.3571 - acc: 0.8709 - 84ms/step          \n",
      "Epoch 3/15\n",
      "step 235/235 [==============================] - loss: 0.2894 - acc: 0.8974 - 104ms/step          \n",
      "Epoch 4/15\n",
      "step 235/235 [==============================] - loss: 0.1814 - acc: 0.9130 - 95ms/step          \n",
      "Epoch 5/15\n",
      "step 235/235 [==============================] - loss: 0.1584 - acc: 0.9223 - 85ms/step          \n",
      "Epoch 6/15\n",
      "step 235/235 [==============================] - loss: 0.1916 - acc: 0.9291 - 87ms/step          \n",
      "Epoch 7/15\n",
      "step 235/235 [==============================] - loss: 0.2276 - acc: 0.9346 - 84ms/step          \n",
      "Epoch 8/15\n",
      "step 235/235 [==============================] - loss: 0.1568 - acc: 0.9383 - 85ms/step          \n",
      "Epoch 9/15\n",
      "step 235/235 [==============================] - loss: 0.0769 - acc: 0.9447 - 85ms/step          \n",
      "Epoch 10/15\n",
      "step 235/235 [==============================] - loss: 0.1434 - acc: 0.9475 - 84ms/step          \n",
      "Epoch 11/15\n",
      "step 235/235 [==============================] - loss: 0.2281 - acc: 0.9516 - 85ms/step          \n",
      "Epoch 12/15\n",
      "step 235/235 [==============================] - loss: 0.0808 - acc: 0.9544 - 83ms/step          \n",
      "Epoch 13/15\n",
      "step 235/235 [==============================] - loss: 0.1701 - acc: 0.9578 - 85ms/step          \n",
      "Epoch 14/15\n",
      "step 235/235 [==============================] - loss: 0.0713 - acc: 0.9619 - 83ms/step          \n",
      "Epoch 15/15\n",
      "step 235/235 [==============================] - loss: 0.1467 - acc: 0.9626 - 86ms/step          \n"
     ]
    }
   ],
   "source": [
    "# optimizer and loss\r\n",
    "model.prepare(optimizer = paddle.optimizer.Adam(parameters=model.parameters(), learning_rate=1e-3),\r\n",
    "              loss=nn.CrossEntropyLoss(),\r\n",
    "              metrics=paddle.metric.Accuracy())\r\n",
    "\r\n",
    "# training\r\n",
    "model.fit(train_loader,\r\n",
    "        # eval_data = test_loader\r\n",
    "        epochs=15,\r\n",
    "        verbose=1,\r\n",
    "        )"
   ]
  },
  {
   "cell_type": "code",
   "execution_count": 16,
   "id": "91c35c06-e459-4215-b282-bf885d32b548",
   "metadata": {
    "execution": {
     "iopub.execute_input": "2022-03-07T12:13:13.345825Z",
     "iopub.status.busy": "2022-03-07T12:13:13.345164Z",
     "iopub.status.idle": "2022-03-07T12:15:39.713608Z",
     "shell.execute_reply": "2022-03-07T12:15:39.712871Z",
     "shell.execute_reply.started": "2022-03-07T12:13:13.345790Z"
    },
    "scrolled": true
   },
   "outputs": [
    {
     "name": "stdout",
     "output_type": "stream",
     "text": [
      "Eval begin...\n",
      "step 10000/10000 [==============================] - loss: 0.2357 - acc: 0.9275 - 15ms/step          \n",
      "Eval samples: 10000\n"
     ]
    },
    {
     "data": {
      "text/plain": [
       "{'loss': [0.23569219], 'acc': 0.9275}"
      ]
     },
     "execution_count": 16,
     "metadata": {},
     "output_type": "execute_result"
    }
   ],
   "source": [
    "model.evaluate(fashionmnist_test, verbose=1)"
   ]
  },
  {
   "cell_type": "code",
   "execution_count": null,
   "id": "93671e63-c90c-490b-b578-96e02acc5be9",
   "metadata": {
    "scrolled": true
   },
   "outputs": [],
   "source": []
  }
 ],
 "metadata": {
  "kernelspec": {
   "display_name": "Python 3",
   "language": "python",
   "name": "py35-paddle1.2.0"
  },
  "language_info": {
   "codemirror_mode": {
    "name": "ipython",
    "version": 3
   },
   "file_extension": ".py",
   "mimetype": "text/x-python",
   "name": "python",
   "nbconvert_exporter": "python",
   "pygments_lexer": "ipython3",
   "version": "3.7.4"
  }
 },
 "nbformat": 4,
 "nbformat_minor": 5
}
